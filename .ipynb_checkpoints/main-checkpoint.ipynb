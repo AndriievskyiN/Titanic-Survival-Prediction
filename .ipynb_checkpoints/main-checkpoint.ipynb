{
 "cells": [
  {
   "cell_type": "markdown",
   "metadata": {},
   "source": [
    "# Imports"
   ]
  },
  {
   "cell_type": "code",
   "execution_count": 1,
   "metadata": {},
   "outputs": [],
   "source": [
    "import tensorflow as tf\n",
    "import pandas as pd\n",
    "import numpy as np\n",
    "import matplotlib.pyplot as plt\n",
    "from sklearn.model_selection import train_test_split\n",
    "from sklearn.pipeline import Pipeline\n",
    "from sklearn.preprocessing import StandardScaler\n",
    "from sklearn.preprocessing import Normalizer\n",
    "from sklearn.impute import SimpleImputer\n",
    "from sklearn.preprocessing import OneHotEncoder\n",
    "from sklearn.preprocessing import LabelEncoder\n",
    "from sklearn.compose import ColumnTransformer\n",
    "from sklearn.linear_model import LogisticRegression\n",
    "from sklearn.tree import DecisionTreeClassifier\n",
    "from sklearn.ensemble import RandomForestClassifier\n",
    "from sklearn.model_selection import GridSearchCV\n",
    "from sklearn.model_selection import cross_val_score\n",
    "from keras import Sequential\n",
    "from keras.layers import Dense, Dropout\n",
    "from tensorflow.keras.utils import plot_model\n",
    "from tensorflow.keras.models import load_model\n",
    "from tensorflow.keras.callbacks import TensorBoard\n",
    "\n",
    "import joblib\n",
    "import itertools\n",
    "\n",
    "from displayScores import display_scores\n",
    "from best_dec_tree_params import bestAccuracy"
   ]
  },
  {
   "cell_type": "markdown",
   "metadata": {},
   "source": [
    "# Getting familiar with the data"
   ]
  },
  {
   "cell_type": "code",
   "execution_count": 52,
   "metadata": {},
   "outputs": [
    {
     "data": {
      "text/html": [
       "<div>\n",
       "<style scoped>\n",
       "    .dataframe tbody tr th:only-of-type {\n",
       "        vertical-align: middle;\n",
       "    }\n",
       "\n",
       "    .dataframe tbody tr th {\n",
       "        vertical-align: top;\n",
       "    }\n",
       "\n",
       "    .dataframe thead th {\n",
       "        text-align: right;\n",
       "    }\n",
       "</style>\n",
       "<table border=\"1\" class=\"dataframe\">\n",
       "  <thead>\n",
       "    <tr style=\"text-align: right;\">\n",
       "      <th></th>\n",
       "      <th>PassengerId</th>\n",
       "      <th>Survived</th>\n",
       "      <th>Pclass</th>\n",
       "      <th>Name</th>\n",
       "      <th>Sex</th>\n",
       "      <th>Age</th>\n",
       "      <th>SibSp</th>\n",
       "      <th>Parch</th>\n",
       "      <th>Ticket</th>\n",
       "      <th>Fare</th>\n",
       "      <th>Cabin</th>\n",
       "      <th>Embarked</th>\n",
       "    </tr>\n",
       "  </thead>\n",
       "  <tbody>\n",
       "    <tr>\n",
       "      <th>0</th>\n",
       "      <td>1</td>\n",
       "      <td>0</td>\n",
       "      <td>3</td>\n",
       "      <td>Braund, Mr. Owen Harris</td>\n",
       "      <td>male</td>\n",
       "      <td>22.0</td>\n",
       "      <td>1</td>\n",
       "      <td>0</td>\n",
       "      <td>A/5 21171</td>\n",
       "      <td>7.2500</td>\n",
       "      <td>NaN</td>\n",
       "      <td>S</td>\n",
       "    </tr>\n",
       "    <tr>\n",
       "      <th>1</th>\n",
       "      <td>2</td>\n",
       "      <td>1</td>\n",
       "      <td>1</td>\n",
       "      <td>Cumings, Mrs. John Bradley (Florence Briggs Th...</td>\n",
       "      <td>female</td>\n",
       "      <td>38.0</td>\n",
       "      <td>1</td>\n",
       "      <td>0</td>\n",
       "      <td>PC 17599</td>\n",
       "      <td>71.2833</td>\n",
       "      <td>C85</td>\n",
       "      <td>C</td>\n",
       "    </tr>\n",
       "    <tr>\n",
       "      <th>2</th>\n",
       "      <td>3</td>\n",
       "      <td>1</td>\n",
       "      <td>3</td>\n",
       "      <td>Heikkinen, Miss. Laina</td>\n",
       "      <td>female</td>\n",
       "      <td>26.0</td>\n",
       "      <td>0</td>\n",
       "      <td>0</td>\n",
       "      <td>STON/O2. 3101282</td>\n",
       "      <td>7.9250</td>\n",
       "      <td>NaN</td>\n",
       "      <td>S</td>\n",
       "    </tr>\n",
       "    <tr>\n",
       "      <th>3</th>\n",
       "      <td>4</td>\n",
       "      <td>1</td>\n",
       "      <td>1</td>\n",
       "      <td>Futrelle, Mrs. Jacques Heath (Lily May Peel)</td>\n",
       "      <td>female</td>\n",
       "      <td>35.0</td>\n",
       "      <td>1</td>\n",
       "      <td>0</td>\n",
       "      <td>113803</td>\n",
       "      <td>53.1000</td>\n",
       "      <td>C123</td>\n",
       "      <td>S</td>\n",
       "    </tr>\n",
       "    <tr>\n",
       "      <th>4</th>\n",
       "      <td>5</td>\n",
       "      <td>0</td>\n",
       "      <td>3</td>\n",
       "      <td>Allen, Mr. William Henry</td>\n",
       "      <td>male</td>\n",
       "      <td>35.0</td>\n",
       "      <td>0</td>\n",
       "      <td>0</td>\n",
       "      <td>373450</td>\n",
       "      <td>8.0500</td>\n",
       "      <td>NaN</td>\n",
       "      <td>S</td>\n",
       "    </tr>\n",
       "  </tbody>\n",
       "</table>\n",
       "</div>"
      ],
      "text/plain": [
       "   PassengerId  Survived  Pclass  \\\n",
       "0            1         0       3   \n",
       "1            2         1       1   \n",
       "2            3         1       3   \n",
       "3            4         1       1   \n",
       "4            5         0       3   \n",
       "\n",
       "                                                Name     Sex   Age  SibSp  \\\n",
       "0                            Braund, Mr. Owen Harris    male  22.0      1   \n",
       "1  Cumings, Mrs. John Bradley (Florence Briggs Th...  female  38.0      1   \n",
       "2                             Heikkinen, Miss. Laina  female  26.0      0   \n",
       "3       Futrelle, Mrs. Jacques Heath (Lily May Peel)  female  35.0      1   \n",
       "4                           Allen, Mr. William Henry    male  35.0      0   \n",
       "\n",
       "   Parch            Ticket     Fare Cabin Embarked  \n",
       "0      0         A/5 21171   7.2500   NaN        S  \n",
       "1      0          PC 17599  71.2833   C85        C  \n",
       "2      0  STON/O2. 3101282   7.9250   NaN        S  \n",
       "3      0            113803  53.1000  C123        S  \n",
       "4      0            373450   8.0500   NaN        S  "
      ]
     },
     "execution_count": 52,
     "metadata": {},
     "output_type": "execute_result"
    }
   ],
   "source": [
    "df = pd.read_csv(\"data/train.csv\")\n",
    "df[:5]"
   ]
  },
  {
   "cell_type": "code",
   "execution_count": 3,
   "metadata": {},
   "outputs": [
    {
     "data": {
      "text/html": [
       "<div>\n",
       "<style scoped>\n",
       "    .dataframe tbody tr th:only-of-type {\n",
       "        vertical-align: middle;\n",
       "    }\n",
       "\n",
       "    .dataframe tbody tr th {\n",
       "        vertical-align: top;\n",
       "    }\n",
       "\n",
       "    .dataframe thead th {\n",
       "        text-align: right;\n",
       "    }\n",
       "</style>\n",
       "<table border=\"1\" class=\"dataframe\">\n",
       "  <thead>\n",
       "    <tr style=\"text-align: right;\">\n",
       "      <th></th>\n",
       "      <th>PassengerId</th>\n",
       "      <th>Survived</th>\n",
       "      <th>Pclass</th>\n",
       "      <th>Age</th>\n",
       "      <th>SibSp</th>\n",
       "      <th>Parch</th>\n",
       "      <th>Fare</th>\n",
       "    </tr>\n",
       "  </thead>\n",
       "  <tbody>\n",
       "    <tr>\n",
       "      <th>count</th>\n",
       "      <td>891.000000</td>\n",
       "      <td>891.000000</td>\n",
       "      <td>891.000000</td>\n",
       "      <td>714.000000</td>\n",
       "      <td>891.000000</td>\n",
       "      <td>891.000000</td>\n",
       "      <td>891.000000</td>\n",
       "    </tr>\n",
       "    <tr>\n",
       "      <th>mean</th>\n",
       "      <td>446.000000</td>\n",
       "      <td>0.383838</td>\n",
       "      <td>2.308642</td>\n",
       "      <td>29.699118</td>\n",
       "      <td>0.523008</td>\n",
       "      <td>0.381594</td>\n",
       "      <td>32.204208</td>\n",
       "    </tr>\n",
       "    <tr>\n",
       "      <th>std</th>\n",
       "      <td>257.353842</td>\n",
       "      <td>0.486592</td>\n",
       "      <td>0.836071</td>\n",
       "      <td>14.526497</td>\n",
       "      <td>1.102743</td>\n",
       "      <td>0.806057</td>\n",
       "      <td>49.693429</td>\n",
       "    </tr>\n",
       "    <tr>\n",
       "      <th>min</th>\n",
       "      <td>1.000000</td>\n",
       "      <td>0.000000</td>\n",
       "      <td>1.000000</td>\n",
       "      <td>0.420000</td>\n",
       "      <td>0.000000</td>\n",
       "      <td>0.000000</td>\n",
       "      <td>0.000000</td>\n",
       "    </tr>\n",
       "    <tr>\n",
       "      <th>25%</th>\n",
       "      <td>223.500000</td>\n",
       "      <td>0.000000</td>\n",
       "      <td>2.000000</td>\n",
       "      <td>20.125000</td>\n",
       "      <td>0.000000</td>\n",
       "      <td>0.000000</td>\n",
       "      <td>7.910400</td>\n",
       "    </tr>\n",
       "    <tr>\n",
       "      <th>50%</th>\n",
       "      <td>446.000000</td>\n",
       "      <td>0.000000</td>\n",
       "      <td>3.000000</td>\n",
       "      <td>28.000000</td>\n",
       "      <td>0.000000</td>\n",
       "      <td>0.000000</td>\n",
       "      <td>14.454200</td>\n",
       "    </tr>\n",
       "    <tr>\n",
       "      <th>75%</th>\n",
       "      <td>668.500000</td>\n",
       "      <td>1.000000</td>\n",
       "      <td>3.000000</td>\n",
       "      <td>38.000000</td>\n",
       "      <td>1.000000</td>\n",
       "      <td>0.000000</td>\n",
       "      <td>31.000000</td>\n",
       "    </tr>\n",
       "    <tr>\n",
       "      <th>max</th>\n",
       "      <td>891.000000</td>\n",
       "      <td>1.000000</td>\n",
       "      <td>3.000000</td>\n",
       "      <td>80.000000</td>\n",
       "      <td>8.000000</td>\n",
       "      <td>6.000000</td>\n",
       "      <td>512.329200</td>\n",
       "    </tr>\n",
       "  </tbody>\n",
       "</table>\n",
       "</div>"
      ],
      "text/plain": [
       "       PassengerId    Survived      Pclass         Age       SibSp  \\\n",
       "count   891.000000  891.000000  891.000000  714.000000  891.000000   \n",
       "mean    446.000000    0.383838    2.308642   29.699118    0.523008   \n",
       "std     257.353842    0.486592    0.836071   14.526497    1.102743   \n",
       "min       1.000000    0.000000    1.000000    0.420000    0.000000   \n",
       "25%     223.500000    0.000000    2.000000   20.125000    0.000000   \n",
       "50%     446.000000    0.000000    3.000000   28.000000    0.000000   \n",
       "75%     668.500000    1.000000    3.000000   38.000000    1.000000   \n",
       "max     891.000000    1.000000    3.000000   80.000000    8.000000   \n",
       "\n",
       "            Parch        Fare  \n",
       "count  891.000000  891.000000  \n",
       "mean     0.381594   32.204208  \n",
       "std      0.806057   49.693429  \n",
       "min      0.000000    0.000000  \n",
       "25%      0.000000    7.910400  \n",
       "50%      0.000000   14.454200  \n",
       "75%      0.000000   31.000000  \n",
       "max      6.000000  512.329200  "
      ]
     },
     "execution_count": 3,
     "metadata": {},
     "output_type": "execute_result"
    }
   ],
   "source": [
    "df.describe()"
   ]
  },
  {
   "cell_type": "code",
   "execution_count": null,
   "metadata": {},
   "outputs": [
    {
     "name": "stdout",
     "output_type": "stream",
     "text": [
      "<class 'pandas.core.frame.DataFrame'>\n",
      "RangeIndex: 891 entries, 0 to 890\n",
      "Data columns (total 12 columns):\n",
      " #   Column       Non-Null Count  Dtype  \n",
      "---  ------       --------------  -----  \n",
      " 0   PassengerId  891 non-null    int64  \n",
      " 1   Survived     891 non-null    int64  \n",
      " 2   Pclass       891 non-null    int64  \n",
      " 3   Name         891 non-null    object \n",
      " 4   Sex          891 non-null    object \n",
      " 5   Age          714 non-null    float64\n",
      " 6   SibSp        891 non-null    int64  \n",
      " 7   Parch        891 non-null    int64  \n",
      " 8   Ticket       891 non-null    object \n",
      " 9   Fare         891 non-null    float64\n",
      " 10  Cabin        204 non-null    object \n",
      " 11  Embarked     889 non-null    object \n",
      "dtypes: float64(2), int64(5), object(5)\n",
      "memory usage: 83.7+ KB\n"
     ]
    }
   ],
   "source": [
    "df.info()"
   ]
  },
  {
   "cell_type": "code",
   "execution_count": null,
   "metadata": {},
   "outputs": [
    {
     "data": {
      "text/html": [
       "<div>\n",
       "<style scoped>\n",
       "    .dataframe tbody tr th:only-of-type {\n",
       "        vertical-align: middle;\n",
       "    }\n",
       "\n",
       "    .dataframe tbody tr th {\n",
       "        vertical-align: top;\n",
       "    }\n",
       "\n",
       "    .dataframe thead th {\n",
       "        text-align: right;\n",
       "    }\n",
       "</style>\n",
       "<table border=\"1\" class=\"dataframe\">\n",
       "  <thead>\n",
       "    <tr style=\"text-align: right;\">\n",
       "      <th></th>\n",
       "      <th>PassengerId</th>\n",
       "      <th>Survived</th>\n",
       "      <th>Pclass</th>\n",
       "      <th>Name</th>\n",
       "      <th>Sex</th>\n",
       "      <th>Age</th>\n",
       "      <th>SibSp</th>\n",
       "      <th>Parch</th>\n",
       "      <th>Ticket</th>\n",
       "      <th>Fare</th>\n",
       "      <th>Cabin</th>\n",
       "      <th>Embarked</th>\n",
       "    </tr>\n",
       "  </thead>\n",
       "  <tbody>\n",
       "    <tr>\n",
       "      <th>78</th>\n",
       "      <td>79</td>\n",
       "      <td>1</td>\n",
       "      <td>2</td>\n",
       "      <td>Caldwell, Master. Alden Gates</td>\n",
       "      <td>male</td>\n",
       "      <td>0.83</td>\n",
       "      <td>0</td>\n",
       "      <td>2</td>\n",
       "      <td>248738</td>\n",
       "      <td>29.0000</td>\n",
       "      <td>NaN</td>\n",
       "      <td>S</td>\n",
       "    </tr>\n",
       "    <tr>\n",
       "      <th>305</th>\n",
       "      <td>306</td>\n",
       "      <td>1</td>\n",
       "      <td>1</td>\n",
       "      <td>Allison, Master. Hudson Trevor</td>\n",
       "      <td>male</td>\n",
       "      <td>0.92</td>\n",
       "      <td>1</td>\n",
       "      <td>2</td>\n",
       "      <td>113781</td>\n",
       "      <td>151.5500</td>\n",
       "      <td>C22 C26</td>\n",
       "      <td>S</td>\n",
       "    </tr>\n",
       "    <tr>\n",
       "      <th>469</th>\n",
       "      <td>470</td>\n",
       "      <td>1</td>\n",
       "      <td>3</td>\n",
       "      <td>Baclini, Miss. Helene Barbara</td>\n",
       "      <td>female</td>\n",
       "      <td>0.75</td>\n",
       "      <td>2</td>\n",
       "      <td>1</td>\n",
       "      <td>2666</td>\n",
       "      <td>19.2583</td>\n",
       "      <td>NaN</td>\n",
       "      <td>C</td>\n",
       "    </tr>\n",
       "    <tr>\n",
       "      <th>644</th>\n",
       "      <td>645</td>\n",
       "      <td>1</td>\n",
       "      <td>3</td>\n",
       "      <td>Baclini, Miss. Eugenie</td>\n",
       "      <td>female</td>\n",
       "      <td>0.75</td>\n",
       "      <td>2</td>\n",
       "      <td>1</td>\n",
       "      <td>2666</td>\n",
       "      <td>19.2583</td>\n",
       "      <td>NaN</td>\n",
       "      <td>C</td>\n",
       "    </tr>\n",
       "    <tr>\n",
       "      <th>755</th>\n",
       "      <td>756</td>\n",
       "      <td>1</td>\n",
       "      <td>2</td>\n",
       "      <td>Hamalainen, Master. Viljo</td>\n",
       "      <td>male</td>\n",
       "      <td>0.67</td>\n",
       "      <td>1</td>\n",
       "      <td>1</td>\n",
       "      <td>250649</td>\n",
       "      <td>14.5000</td>\n",
       "      <td>NaN</td>\n",
       "      <td>S</td>\n",
       "    </tr>\n",
       "    <tr>\n",
       "      <th>803</th>\n",
       "      <td>804</td>\n",
       "      <td>1</td>\n",
       "      <td>3</td>\n",
       "      <td>Thomas, Master. Assad Alexander</td>\n",
       "      <td>male</td>\n",
       "      <td>0.42</td>\n",
       "      <td>0</td>\n",
       "      <td>1</td>\n",
       "      <td>2625</td>\n",
       "      <td>8.5167</td>\n",
       "      <td>NaN</td>\n",
       "      <td>C</td>\n",
       "    </tr>\n",
       "    <tr>\n",
       "      <th>831</th>\n",
       "      <td>832</td>\n",
       "      <td>1</td>\n",
       "      <td>2</td>\n",
       "      <td>Richards, Master. George Sibley</td>\n",
       "      <td>male</td>\n",
       "      <td>0.83</td>\n",
       "      <td>1</td>\n",
       "      <td>1</td>\n",
       "      <td>29106</td>\n",
       "      <td>18.7500</td>\n",
       "      <td>NaN</td>\n",
       "      <td>S</td>\n",
       "    </tr>\n",
       "  </tbody>\n",
       "</table>\n",
       "</div>"
      ],
      "text/plain": [
       "     PassengerId  Survived  Pclass                             Name     Sex  \\\n",
       "78            79         1       2    Caldwell, Master. Alden Gates    male   \n",
       "305          306         1       1   Allison, Master. Hudson Trevor    male   \n",
       "469          470         1       3    Baclini, Miss. Helene Barbara  female   \n",
       "644          645         1       3           Baclini, Miss. Eugenie  female   \n",
       "755          756         1       2        Hamalainen, Master. Viljo    male   \n",
       "803          804         1       3  Thomas, Master. Assad Alexander    male   \n",
       "831          832         1       2  Richards, Master. George Sibley    male   \n",
       "\n",
       "      Age  SibSp  Parch  Ticket      Fare    Cabin Embarked  \n",
       "78   0.83      0      2  248738   29.0000      NaN        S  \n",
       "305  0.92      1      2  113781  151.5500  C22 C26        S  \n",
       "469  0.75      2      1    2666   19.2583      NaN        C  \n",
       "644  0.75      2      1    2666   19.2583      NaN        C  \n",
       "755  0.67      1      1  250649   14.5000      NaN        S  \n",
       "803  0.42      0      1    2625    8.5167      NaN        C  \n",
       "831  0.83      1      1   29106   18.7500      NaN        S  "
      ]
     },
     "execution_count": 7,
     "metadata": {},
     "output_type": "execute_result"
    }
   ],
   "source": [
    "# Check if there were any kids under the age of 1 on the board\n",
    "df[df[\"Age\"] < 1]\n",
    "\n",
    "\n",
    "# Apperently there are, but I don't think this is a data issue, I think these are actual kids under 1, and not a mistake"
   ]
  },
  {
   "cell_type": "code",
   "execution_count": null,
   "metadata": {},
   "outputs": [
    {
     "data": {
      "image/png": "[encoded data removed]",
      "text/plain": [
       "<Figure size 720x504 with 1 Axes>"
      ]
     },
     "metadata": {
      "needs_background": "light"
     },
     "output_type": "display_data"
    }
   ],
   "source": [
    "# Plotting the age distribution histogram\n",
    "df.hist(\"Age\", bins=20, figsize=(10,7));"
   ]
  },
  {
   "cell_type": "code",
   "execution_count": null,
   "metadata": {},
   "outputs": [
    {
     "data": {
      "text/plain": [
       "S    644\n",
       "C    168\n",
       "Q     77\n",
       "Name: Embarked, dtype: int64"
      ]
     },
     "execution_count": 9,
     "metadata": {},
     "output_type": "execute_result"
    }
   ],
   "source": [
    "df[\"Embarked\"].value_counts()"
   ]
  },
  {
   "cell_type": "code",
   "execution_count": null,
   "metadata": {},
   "outputs": [],
   "source": [
    "# Let's see the correlations of the data\n",
    "corr_matrix = df.corr()"
   ]
  },
  {
   "cell_type": "code",
   "execution_count": null,
   "metadata": {},
   "outputs": [
    {
     "data": {
      "text/plain": [
       "Survived       1.000000\n",
       "Fare           0.257307\n",
       "Parch          0.081629\n",
       "PassengerId   -0.005007\n",
       "SibSp         -0.035322\n",
       "Age           -0.077221\n",
       "Pclass        -0.338481\n",
       "Name: Survived, dtype: float64"
      ]
     },
     "execution_count": 11,
     "metadata": {},
     "output_type": "execute_result"
    }
   ],
   "source": [
    "corr_matrix[\"Survived\"].sort_values(ascending=False)"
   ]
  },
  {
   "cell_type": "code",
   "execution_count": null,
   "metadata": {},
   "outputs": [
    {
     "data": {
      "text/plain": [
       "PassengerId    891.0000\n",
       "Survived         1.0000\n",
       "Pclass           3.0000\n",
       "Age             80.0000\n",
       "SibSp            8.0000\n",
       "Parch            6.0000\n",
       "Fare           512.3292\n",
       "dtype: float64"
      ]
     },
     "execution_count": 12,
     "metadata": {},
     "output_type": "execute_result"
    }
   ],
   "source": [
    "df.max(numeric_only=True)"
   ]
  },
  {
   "cell_type": "code",
   "execution_count": null,
   "metadata": {},
   "outputs": [
    {
     "data": {
      "text/plain": [
       "PassengerId      0\n",
       "Survived         0\n",
       "Pclass           0\n",
       "Name             0\n",
       "Sex              0\n",
       "Age            177\n",
       "SibSp            0\n",
       "Parch            0\n",
       "Ticket           0\n",
       "Fare             0\n",
       "Cabin          687\n",
       "Embarked         2\n",
       "dtype: int64"
      ]
     },
     "execution_count": 13,
     "metadata": {},
     "output_type": "execute_result"
    }
   ],
   "source": [
    "# Check for null\n",
    "df.isnull().sum()"
   ]
  },
  {
   "cell_type": "code",
   "execution_count": 4,
   "metadata": {},
   "outputs": [
    {
     "data": {
      "text/html": [
       "<div>\n",
       "<style scoped>\n",
       "    .dataframe tbody tr th:only-of-type {\n",
       "        vertical-align: middle;\n",
       "    }\n",
       "\n",
       "    .dataframe tbody tr th {\n",
       "        vertical-align: top;\n",
       "    }\n",
       "\n",
       "    .dataframe thead th {\n",
       "        text-align: right;\n",
       "    }\n",
       "</style>\n",
       "<table border=\"1\" class=\"dataframe\">\n",
       "  <thead>\n",
       "    <tr style=\"text-align: right;\">\n",
       "      <th></th>\n",
       "      <th>PassengerId</th>\n",
       "      <th>Survived</th>\n",
       "      <th>Pclass</th>\n",
       "      <th>Name</th>\n",
       "      <th>Sex</th>\n",
       "      <th>Age</th>\n",
       "      <th>SibSp</th>\n",
       "      <th>Parch</th>\n",
       "      <th>Ticket</th>\n",
       "      <th>Fare</th>\n",
       "      <th>Cabin</th>\n",
       "      <th>Embarked</th>\n",
       "    </tr>\n",
       "  </thead>\n",
       "  <tbody>\n",
       "    <tr>\n",
       "      <th>0</th>\n",
       "      <td>1</td>\n",
       "      <td>0</td>\n",
       "      <td>3</td>\n",
       "      <td>Braund, Mr. Owen Harris</td>\n",
       "      <td>male</td>\n",
       "      <td>22.0</td>\n",
       "      <td>1</td>\n",
       "      <td>0</td>\n",
       "      <td>A/5 21171</td>\n",
       "      <td>7.2500</td>\n",
       "      <td>NaN</td>\n",
       "      <td>S</td>\n",
       "    </tr>\n",
       "    <tr>\n",
       "      <th>1</th>\n",
       "      <td>2</td>\n",
       "      <td>1</td>\n",
       "      <td>1</td>\n",
       "      <td>Cumings, Mrs. John Bradley (Florence Briggs Th...</td>\n",
       "      <td>female</td>\n",
       "      <td>38.0</td>\n",
       "      <td>1</td>\n",
       "      <td>0</td>\n",
       "      <td>PC 17599</td>\n",
       "      <td>71.2833</td>\n",
       "      <td>C85</td>\n",
       "      <td>C</td>\n",
       "    </tr>\n",
       "    <tr>\n",
       "      <th>2</th>\n",
       "      <td>3</td>\n",
       "      <td>1</td>\n",
       "      <td>3</td>\n",
       "      <td>Heikkinen, Miss. Laina</td>\n",
       "      <td>female</td>\n",
       "      <td>26.0</td>\n",
       "      <td>0</td>\n",
       "      <td>0</td>\n",
       "      <td>STON/O2. 3101282</td>\n",
       "      <td>7.9250</td>\n",
       "      <td>NaN</td>\n",
       "      <td>S</td>\n",
       "    </tr>\n",
       "    <tr>\n",
       "      <th>3</th>\n",
       "      <td>4</td>\n",
       "      <td>1</td>\n",
       "      <td>1</td>\n",
       "      <td>Futrelle, Mrs. Jacques Heath (Lily May Peel)</td>\n",
       "      <td>female</td>\n",
       "      <td>35.0</td>\n",
       "      <td>1</td>\n",
       "      <td>0</td>\n",
       "      <td>113803</td>\n",
       "      <td>53.1000</td>\n",
       "      <td>C123</td>\n",
       "      <td>S</td>\n",
       "    </tr>\n",
       "    <tr>\n",
       "      <th>4</th>\n",
       "      <td>5</td>\n",
       "      <td>0</td>\n",
       "      <td>3</td>\n",
       "      <td>Allen, Mr. William Henry</td>\n",
       "      <td>male</td>\n",
       "      <td>35.0</td>\n",
       "      <td>0</td>\n",
       "      <td>0</td>\n",
       "      <td>373450</td>\n",
       "      <td>8.0500</td>\n",
       "      <td>NaN</td>\n",
       "      <td>S</td>\n",
       "    </tr>\n",
       "    <tr>\n",
       "      <th>...</th>\n",
       "      <td>...</td>\n",
       "      <td>...</td>\n",
       "      <td>...</td>\n",
       "      <td>...</td>\n",
       "      <td>...</td>\n",
       "      <td>...</td>\n",
       "      <td>...</td>\n",
       "      <td>...</td>\n",
       "      <td>...</td>\n",
       "      <td>...</td>\n",
       "      <td>...</td>\n",
       "      <td>...</td>\n",
       "    </tr>\n",
       "    <tr>\n",
       "      <th>886</th>\n",
       "      <td>887</td>\n",
       "      <td>0</td>\n",
       "      <td>2</td>\n",
       "      <td>Montvila, Rev. Juozas</td>\n",
       "      <td>male</td>\n",
       "      <td>27.0</td>\n",
       "      <td>0</td>\n",
       "      <td>0</td>\n",
       "      <td>211536</td>\n",
       "      <td>13.0000</td>\n",
       "      <td>NaN</td>\n",
       "      <td>S</td>\n",
       "    </tr>\n",
       "    <tr>\n",
       "      <th>887</th>\n",
       "      <td>888</td>\n",
       "      <td>1</td>\n",
       "      <td>1</td>\n",
       "      <td>Graham, Miss. Margaret Edith</td>\n",
       "      <td>female</td>\n",
       "      <td>19.0</td>\n",
       "      <td>0</td>\n",
       "      <td>0</td>\n",
       "      <td>112053</td>\n",
       "      <td>30.0000</td>\n",
       "      <td>B42</td>\n",
       "      <td>S</td>\n",
       "    </tr>\n",
       "    <tr>\n",
       "      <th>888</th>\n",
       "      <td>889</td>\n",
       "      <td>0</td>\n",
       "      <td>3</td>\n",
       "      <td>Johnston, Miss. Catherine Helen \"Carrie\"</td>\n",
       "      <td>female</td>\n",
       "      <td>NaN</td>\n",
       "      <td>1</td>\n",
       "      <td>2</td>\n",
       "      <td>W./C. 6607</td>\n",
       "      <td>23.4500</td>\n",
       "      <td>NaN</td>\n",
       "      <td>S</td>\n",
       "    </tr>\n",
       "    <tr>\n",
       "      <th>889</th>\n",
       "      <td>890</td>\n",
       "      <td>1</td>\n",
       "      <td>1</td>\n",
       "      <td>Behr, Mr. Karl Howell</td>\n",
       "      <td>male</td>\n",
       "      <td>26.0</td>\n",
       "      <td>0</td>\n",
       "      <td>0</td>\n",
       "      <td>111369</td>\n",
       "      <td>30.0000</td>\n",
       "      <td>C148</td>\n",
       "      <td>C</td>\n",
       "    </tr>\n",
       "    <tr>\n",
       "      <th>890</th>\n",
       "      <td>891</td>\n",
       "      <td>0</td>\n",
       "      <td>3</td>\n",
       "      <td>Dooley, Mr. Patrick</td>\n",
       "      <td>male</td>\n",
       "      <td>32.0</td>\n",
       "      <td>0</td>\n",
       "      <td>0</td>\n",
       "      <td>370376</td>\n",
       "      <td>7.7500</td>\n",
       "      <td>NaN</td>\n",
       "      <td>Q</td>\n",
       "    </tr>\n",
       "  </tbody>\n",
       "</table>\n",
       "<p>891 rows × 12 columns</p>\n",
       "</div>"
      ],
      "text/plain": [
       "     PassengerId  Survived  Pclass  \\\n",
       "0              1         0       3   \n",
       "1              2         1       1   \n",
       "2              3         1       3   \n",
       "3              4         1       1   \n",
       "4              5         0       3   \n",
       "..           ...       ...     ...   \n",
       "886          887         0       2   \n",
       "887          888         1       1   \n",
       "888          889         0       3   \n",
       "889          890         1       1   \n",
       "890          891         0       3   \n",
       "\n",
       "                                                  Name     Sex   Age  SibSp  \\\n",
       "0                              Braund, Mr. Owen Harris    male  22.0      1   \n",
       "1    Cumings, Mrs. John Bradley (Florence Briggs Th...  female  38.0      1   \n",
       "2                               Heikkinen, Miss. Laina  female  26.0      0   \n",
       "3         Futrelle, Mrs. Jacques Heath (Lily May Peel)  female  35.0      1   \n",
       "4                             Allen, Mr. William Henry    male  35.0      0   \n",
       "..                                                 ...     ...   ...    ...   \n",
       "886                              Montvila, Rev. Juozas    male  27.0      0   \n",
       "887                       Graham, Miss. Margaret Edith  female  19.0      0   \n",
       "888           Johnston, Miss. Catherine Helen \"Carrie\"  female   NaN      1   \n",
       "889                              Behr, Mr. Karl Howell    male  26.0      0   \n",
       "890                                Dooley, Mr. Patrick    male  32.0      0   \n",
       "\n",
       "     Parch            Ticket     Fare Cabin Embarked  \n",
       "0        0         A/5 21171   7.2500   NaN        S  \n",
       "1        0          PC 17599  71.2833   C85        C  \n",
       "2        0  STON/O2. 3101282   7.9250   NaN        S  \n",
       "3        0            113803  53.1000  C123        S  \n",
       "4        0            373450   8.0500   NaN        S  \n",
       "..     ...               ...      ...   ...      ...  \n",
       "886      0            211536  13.0000   NaN        S  \n",
       "887      0            112053  30.0000   B42        S  \n",
       "888      2        W./C. 6607  23.4500   NaN        S  \n",
       "889      0            111369  30.0000  C148        C  \n",
       "890      0            370376   7.7500   NaN        Q  \n",
       "\n",
       "[891 rows x 12 columns]"
      ]
     },
     "execution_count": 4,
     "metadata": {},
     "output_type": "execute_result"
    }
   ],
   "source": [
    "# Check for duplicates\n",
    "df.drop_duplicates()"
   ]
  },
  {
   "cell_type": "markdown",
   "metadata": {},
   "source": [
    "# Data Cleaning"
   ]
  },
  {
   "cell_type": "code",
   "execution_count": 53,
   "metadata": {},
   "outputs": [],
   "source": [
    "# Creating a class that will clean df \n",
    "class CleanData():\n",
    "    def transform(self,df, drop_Cabin=True): \n",
    "        clean_data = df.copy()\n",
    "        if drop_Cabin:\n",
    "            clean_data.drop(columns=[\"Cabin\"], inplace=True)\n",
    "        else:\n",
    "            pass\n",
    "        \n",
    "        clean_data.drop(columns=[\"Name\", \"PassengerId\"], inplace=True)\n",
    "        clean_data.dropna(axis=0, subset=[\"Embarked\"], inplace=True)  \n",
    "        return clean_data\n"
   ]
  },
  {
   "cell_type": "code",
   "execution_count": 54,
   "metadata": {},
   "outputs": [
    {
     "data": {
      "text/html": [
       "<div>\n",
       "<style scoped>\n",
       "    .dataframe tbody tr th:only-of-type {\n",
       "        vertical-align: middle;\n",
       "    }\n",
       "\n",
       "    .dataframe tbody tr th {\n",
       "        vertical-align: top;\n",
       "    }\n",
       "\n",
       "    .dataframe thead th {\n",
       "        text-align: right;\n",
       "    }\n",
       "</style>\n",
       "<table border=\"1\" class=\"dataframe\">\n",
       "  <thead>\n",
       "    <tr style=\"text-align: right;\">\n",
       "      <th></th>\n",
       "      <th>Survived</th>\n",
       "      <th>Pclass</th>\n",
       "      <th>Sex</th>\n",
       "      <th>Age</th>\n",
       "      <th>SibSp</th>\n",
       "      <th>Parch</th>\n",
       "      <th>Ticket</th>\n",
       "      <th>Fare</th>\n",
       "      <th>Embarked</th>\n",
       "    </tr>\n",
       "  </thead>\n",
       "  <tbody>\n",
       "    <tr>\n",
       "      <th>0</th>\n",
       "      <td>0</td>\n",
       "      <td>3</td>\n",
       "      <td>male</td>\n",
       "      <td>22.0</td>\n",
       "      <td>1</td>\n",
       "      <td>0</td>\n",
       "      <td>A/5 21171</td>\n",
       "      <td>7.2500</td>\n",
       "      <td>S</td>\n",
       "    </tr>\n",
       "    <tr>\n",
       "      <th>1</th>\n",
       "      <td>1</td>\n",
       "      <td>1</td>\n",
       "      <td>female</td>\n",
       "      <td>38.0</td>\n",
       "      <td>1</td>\n",
       "      <td>0</td>\n",
       "      <td>PC 17599</td>\n",
       "      <td>71.2833</td>\n",
       "      <td>C</td>\n",
       "    </tr>\n",
       "    <tr>\n",
       "      <th>2</th>\n",
       "      <td>1</td>\n",
       "      <td>3</td>\n",
       "      <td>female</td>\n",
       "      <td>26.0</td>\n",
       "      <td>0</td>\n",
       "      <td>0</td>\n",
       "      <td>STON/O2. 3101282</td>\n",
       "      <td>7.9250</td>\n",
       "      <td>S</td>\n",
       "    </tr>\n",
       "    <tr>\n",
       "      <th>3</th>\n",
       "      <td>1</td>\n",
       "      <td>1</td>\n",
       "      <td>female</td>\n",
       "      <td>35.0</td>\n",
       "      <td>1</td>\n",
       "      <td>0</td>\n",
       "      <td>113803</td>\n",
       "      <td>53.1000</td>\n",
       "      <td>S</td>\n",
       "    </tr>\n",
       "    <tr>\n",
       "      <th>4</th>\n",
       "      <td>0</td>\n",
       "      <td>3</td>\n",
       "      <td>male</td>\n",
       "      <td>35.0</td>\n",
       "      <td>0</td>\n",
       "      <td>0</td>\n",
       "      <td>373450</td>\n",
       "      <td>8.0500</td>\n",
       "      <td>S</td>\n",
       "    </tr>\n",
       "    <tr>\n",
       "      <th>...</th>\n",
       "      <td>...</td>\n",
       "      <td>...</td>\n",
       "      <td>...</td>\n",
       "      <td>...</td>\n",
       "      <td>...</td>\n",
       "      <td>...</td>\n",
       "      <td>...</td>\n",
       "      <td>...</td>\n",
       "      <td>...</td>\n",
       "    </tr>\n",
       "    <tr>\n",
       "      <th>886</th>\n",
       "      <td>0</td>\n",
       "      <td>2</td>\n",
       "      <td>male</td>\n",
       "      <td>27.0</td>\n",
       "      <td>0</td>\n",
       "      <td>0</td>\n",
       "      <td>211536</td>\n",
       "      <td>13.0000</td>\n",
       "      <td>S</td>\n",
       "    </tr>\n",
       "    <tr>\n",
       "      <th>887</th>\n",
       "      <td>1</td>\n",
       "      <td>1</td>\n",
       "      <td>female</td>\n",
       "      <td>19.0</td>\n",
       "      <td>0</td>\n",
       "      <td>0</td>\n",
       "      <td>112053</td>\n",
       "      <td>30.0000</td>\n",
       "      <td>S</td>\n",
       "    </tr>\n",
       "    <tr>\n",
       "      <th>888</th>\n",
       "      <td>0</td>\n",
       "      <td>3</td>\n",
       "      <td>female</td>\n",
       "      <td>NaN</td>\n",
       "      <td>1</td>\n",
       "      <td>2</td>\n",
       "      <td>W./C. 6607</td>\n",
       "      <td>23.4500</td>\n",
       "      <td>S</td>\n",
       "    </tr>\n",
       "    <tr>\n",
       "      <th>889</th>\n",
       "      <td>1</td>\n",
       "      <td>1</td>\n",
       "      <td>male</td>\n",
       "      <td>26.0</td>\n",
       "      <td>0</td>\n",
       "      <td>0</td>\n",
       "      <td>111369</td>\n",
       "      <td>30.0000</td>\n",
       "      <td>C</td>\n",
       "    </tr>\n",
       "    <tr>\n",
       "      <th>890</th>\n",
       "      <td>0</td>\n",
       "      <td>3</td>\n",
       "      <td>male</td>\n",
       "      <td>32.0</td>\n",
       "      <td>0</td>\n",
       "      <td>0</td>\n",
       "      <td>370376</td>\n",
       "      <td>7.7500</td>\n",
       "      <td>Q</td>\n",
       "    </tr>\n",
       "  </tbody>\n",
       "</table>\n",
       "<p>889 rows × 9 columns</p>\n",
       "</div>"
      ],
      "text/plain": [
       "     Survived  Pclass     Sex   Age  SibSp  Parch            Ticket     Fare  \\\n",
       "0           0       3    male  22.0      1      0         A/5 21171   7.2500   \n",
       "1           1       1  female  38.0      1      0          PC 17599  71.2833   \n",
       "2           1       3  female  26.0      0      0  STON/O2. 3101282   7.9250   \n",
       "3           1       1  female  35.0      1      0            113803  53.1000   \n",
       "4           0       3    male  35.0      0      0            373450   8.0500   \n",
       "..        ...     ...     ...   ...    ...    ...               ...      ...   \n",
       "886         0       2    male  27.0      0      0            211536  13.0000   \n",
       "887         1       1  female  19.0      0      0            112053  30.0000   \n",
       "888         0       3  female   NaN      1      2        W./C. 6607  23.4500   \n",
       "889         1       1    male  26.0      0      0            111369  30.0000   \n",
       "890         0       3    male  32.0      0      0            370376   7.7500   \n",
       "\n",
       "    Embarked  \n",
       "0          S  \n",
       "1          C  \n",
       "2          S  \n",
       "3          S  \n",
       "4          S  \n",
       "..       ...  \n",
       "886        S  \n",
       "887        S  \n",
       "888        S  \n",
       "889        C  \n",
       "890        Q  \n",
       "\n",
       "[889 rows x 9 columns]"
      ]
     },
     "execution_count": 54,
     "metadata": {},
     "output_type": "execute_result"
    }
   ],
   "source": [
    "cd = CleanData()\n",
    "clean_data = cd.transform(df)\n",
    "clean_data\n",
    "\n",
    "# I specifically didn't fill the Age column with medium to use sklearn's SimpleImputer"
   ]
  },
  {
   "cell_type": "markdown",
   "metadata": {},
   "source": [
    "# Data Preprocessing"
   ]
  },
  {
   "cell_type": "code",
   "execution_count": 55,
   "metadata": {},
   "outputs": [],
   "source": [
    "label_encoder = LabelEncoder()\n",
    "sex = label_encoder.fit_transform(clean_data[\"Sex\"])\n",
    "embarked = label_encoder.fit_transform(clean_data[\"Embarked\"])\n",
    "ticket = label_encoder.fit_transform(clean_data[\"Ticket\"])"
   ]
  },
  {
   "cell_type": "code",
   "execution_count": 56,
   "metadata": {},
   "outputs": [],
   "source": [
    "encoded_data = clean_data.copy()"
   ]
  },
  {
   "cell_type": "code",
   "execution_count": 57,
   "metadata": {},
   "outputs": [],
   "source": [
    "encoded_data[\"Sex\"] = sex\n",
    "encoded_data[\"Embarked\"] = embarked\n",
    "encoded_data[\"Ticket\"] = ticket"
   ]
  },
  {
   "cell_type": "code",
   "execution_count": 58,
   "metadata": {},
   "outputs": [
    {
     "data": {
      "text/html": [
       "<div>\n",
       "<style scoped>\n",
       "    .dataframe tbody tr th:only-of-type {\n",
       "        vertical-align: middle;\n",
       "    }\n",
       "\n",
       "    .dataframe tbody tr th {\n",
       "        vertical-align: top;\n",
       "    }\n",
       "\n",
       "    .dataframe thead th {\n",
       "        text-align: right;\n",
       "    }\n",
       "</style>\n",
       "<table border=\"1\" class=\"dataframe\">\n",
       "  <thead>\n",
       "    <tr style=\"text-align: right;\">\n",
       "      <th></th>\n",
       "      <th>Survived</th>\n",
       "      <th>Pclass</th>\n",
       "      <th>Sex</th>\n",
       "      <th>Age</th>\n",
       "      <th>SibSp</th>\n",
       "      <th>Parch</th>\n",
       "      <th>Ticket</th>\n",
       "      <th>Fare</th>\n",
       "      <th>Embarked</th>\n",
       "    </tr>\n",
       "  </thead>\n",
       "  <tbody>\n",
       "    <tr>\n",
       "      <th>0</th>\n",
       "      <td>0</td>\n",
       "      <td>3</td>\n",
       "      <td>1</td>\n",
       "      <td>22.0</td>\n",
       "      <td>1</td>\n",
       "      <td>0</td>\n",
       "      <td>522</td>\n",
       "      <td>7.2500</td>\n",
       "      <td>2</td>\n",
       "    </tr>\n",
       "    <tr>\n",
       "      <th>1</th>\n",
       "      <td>1</td>\n",
       "      <td>1</td>\n",
       "      <td>0</td>\n",
       "      <td>38.0</td>\n",
       "      <td>1</td>\n",
       "      <td>0</td>\n",
       "      <td>595</td>\n",
       "      <td>71.2833</td>\n",
       "      <td>0</td>\n",
       "    </tr>\n",
       "    <tr>\n",
       "      <th>2</th>\n",
       "      <td>1</td>\n",
       "      <td>3</td>\n",
       "      <td>0</td>\n",
       "      <td>26.0</td>\n",
       "      <td>0</td>\n",
       "      <td>0</td>\n",
       "      <td>668</td>\n",
       "      <td>7.9250</td>\n",
       "      <td>2</td>\n",
       "    </tr>\n",
       "    <tr>\n",
       "      <th>3</th>\n",
       "      <td>1</td>\n",
       "      <td>1</td>\n",
       "      <td>0</td>\n",
       "      <td>35.0</td>\n",
       "      <td>1</td>\n",
       "      <td>0</td>\n",
       "      <td>48</td>\n",
       "      <td>53.1000</td>\n",
       "      <td>2</td>\n",
       "    </tr>\n",
       "    <tr>\n",
       "      <th>4</th>\n",
       "      <td>0</td>\n",
       "      <td>3</td>\n",
       "      <td>1</td>\n",
       "      <td>35.0</td>\n",
       "      <td>0</td>\n",
       "      <td>0</td>\n",
       "      <td>471</td>\n",
       "      <td>8.0500</td>\n",
       "      <td>2</td>\n",
       "    </tr>\n",
       "    <tr>\n",
       "      <th>...</th>\n",
       "      <td>...</td>\n",
       "      <td>...</td>\n",
       "      <td>...</td>\n",
       "      <td>...</td>\n",
       "      <td>...</td>\n",
       "      <td>...</td>\n",
       "      <td>...</td>\n",
       "      <td>...</td>\n",
       "      <td>...</td>\n",
       "    </tr>\n",
       "    <tr>\n",
       "      <th>886</th>\n",
       "      <td>0</td>\n",
       "      <td>2</td>\n",
       "      <td>1</td>\n",
       "      <td>27.0</td>\n",
       "      <td>0</td>\n",
       "      <td>0</td>\n",
       "      <td>100</td>\n",
       "      <td>13.0000</td>\n",
       "      <td>2</td>\n",
       "    </tr>\n",
       "    <tr>\n",
       "      <th>887</th>\n",
       "      <td>1</td>\n",
       "      <td>1</td>\n",
       "      <td>0</td>\n",
       "      <td>19.0</td>\n",
       "      <td>0</td>\n",
       "      <td>0</td>\n",
       "      <td>14</td>\n",
       "      <td>30.0000</td>\n",
       "      <td>2</td>\n",
       "    </tr>\n",
       "    <tr>\n",
       "      <th>888</th>\n",
       "      <td>0</td>\n",
       "      <td>3</td>\n",
       "      <td>0</td>\n",
       "      <td>NaN</td>\n",
       "      <td>1</td>\n",
       "      <td>2</td>\n",
       "      <td>674</td>\n",
       "      <td>23.4500</td>\n",
       "      <td>2</td>\n",
       "    </tr>\n",
       "    <tr>\n",
       "      <th>889</th>\n",
       "      <td>1</td>\n",
       "      <td>1</td>\n",
       "      <td>1</td>\n",
       "      <td>26.0</td>\n",
       "      <td>0</td>\n",
       "      <td>0</td>\n",
       "      <td>8</td>\n",
       "      <td>30.0000</td>\n",
       "      <td>0</td>\n",
       "    </tr>\n",
       "    <tr>\n",
       "      <th>890</th>\n",
       "      <td>0</td>\n",
       "      <td>3</td>\n",
       "      <td>1</td>\n",
       "      <td>32.0</td>\n",
       "      <td>0</td>\n",
       "      <td>0</td>\n",
       "      <td>465</td>\n",
       "      <td>7.7500</td>\n",
       "      <td>1</td>\n",
       "    </tr>\n",
       "  </tbody>\n",
       "</table>\n",
       "<p>889 rows × 9 columns</p>\n",
       "</div>"
      ],
      "text/plain": [
       "     Survived  Pclass  Sex   Age  SibSp  Parch  Ticket     Fare  Embarked\n",
       "0           0       3    1  22.0      1      0     522   7.2500         2\n",
       "1           1       1    0  38.0      1      0     595  71.2833         0\n",
       "2           1       3    0  26.0      0      0     668   7.9250         2\n",
       "3           1       1    0  35.0      1      0      48  53.1000         2\n",
       "4           0       3    1  35.0      0      0     471   8.0500         2\n",
       "..        ...     ...  ...   ...    ...    ...     ...      ...       ...\n",
       "886         0       2    1  27.0      0      0     100  13.0000         2\n",
       "887         1       1    0  19.0      0      0      14  30.0000         2\n",
       "888         0       3    0   NaN      1      2     674  23.4500         2\n",
       "889         1       1    1  26.0      0      0       8  30.0000         0\n",
       "890         0       3    1  32.0      0      0     465   7.7500         1\n",
       "\n",
       "[889 rows x 9 columns]"
      ]
     },
     "execution_count": 58,
     "metadata": {},
     "output_type": "execute_result"
    }
   ],
   "source": [
    "encoded_data"
   ]
  },
  {
   "cell_type": "code",
   "execution_count": 59,
   "metadata": {},
   "outputs": [],
   "source": [
    "num_pipeline = Pipeline([\n",
    "    (\"imputer\", SimpleImputer()),\n",
    "    (\"standard_scalar\", Normalizer())\n",
    "])"
   ]
  },
  {
   "cell_type": "code",
   "execution_count": 60,
   "metadata": {},
   "outputs": [],
   "source": [
    "features = encoded_data.drop(columns=[\"Survived\"])"
   ]
  },
  {
   "cell_type": "code",
   "execution_count": 61,
   "metadata": {},
   "outputs": [],
   "source": [
    "prepared_data = num_pipeline.fit_transform(features)"
   ]
  },
  {
   "cell_type": "code",
   "execution_count": 62,
   "metadata": {},
   "outputs": [],
   "source": [
    "# Splitting the data into training and testing\n",
    "X = prepared_data\n",
    "y = encoded_data[\"Survived\"]\n",
    "X_train, X_val, y_train, y_val = train_test_split(X,y, test_size=0.2, random_state=42)"
   ]
  },
  {
   "cell_type": "code",
   "execution_count": 63,
   "metadata": {},
   "outputs": [
    {
     "data": {
      "text/html": [
       "<div>\n",
       "<style scoped>\n",
       "    .dataframe tbody tr th:only-of-type {\n",
       "        vertical-align: middle;\n",
       "    }\n",
       "\n",
       "    .dataframe tbody tr th {\n",
       "        vertical-align: top;\n",
       "    }\n",
       "\n",
       "    .dataframe thead th {\n",
       "        text-align: right;\n",
       "    }\n",
       "</style>\n",
       "<table border=\"1\" class=\"dataframe\">\n",
       "  <thead>\n",
       "    <tr style=\"text-align: right;\">\n",
       "      <th></th>\n",
       "      <th>Pclass</th>\n",
       "      <th>Sex</th>\n",
       "      <th>Age</th>\n",
       "      <th>SibSp</th>\n",
       "      <th>Parch</th>\n",
       "      <th>Ticket</th>\n",
       "      <th>Fare</th>\n",
       "      <th>Embarked</th>\n",
       "    </tr>\n",
       "  </thead>\n",
       "  <tbody>\n",
       "    <tr>\n",
       "      <th>0</th>\n",
       "      <td>0.005741</td>\n",
       "      <td>0.001914</td>\n",
       "      <td>0.042103</td>\n",
       "      <td>0.001914</td>\n",
       "      <td>0.0</td>\n",
       "      <td>0.998989</td>\n",
       "      <td>0.013875</td>\n",
       "      <td>0.003828</td>\n",
       "    </tr>\n",
       "    <tr>\n",
       "      <th>1</th>\n",
       "      <td>0.001665</td>\n",
       "      <td>0.000000</td>\n",
       "      <td>0.063285</td>\n",
       "      <td>0.001665</td>\n",
       "      <td>0.0</td>\n",
       "      <td>0.990907</td>\n",
       "      <td>0.118714</td>\n",
       "      <td>0.000000</td>\n",
       "    </tr>\n",
       "    <tr>\n",
       "      <th>2</th>\n",
       "      <td>0.004487</td>\n",
       "      <td>0.000000</td>\n",
       "      <td>0.038889</td>\n",
       "      <td>0.000000</td>\n",
       "      <td>0.0</td>\n",
       "      <td>0.999159</td>\n",
       "      <td>0.011854</td>\n",
       "      <td>0.002991</td>\n",
       "    </tr>\n",
       "    <tr>\n",
       "      <th>3</th>\n",
       "      <td>0.012545</td>\n",
       "      <td>0.000000</td>\n",
       "      <td>0.439060</td>\n",
       "      <td>0.012545</td>\n",
       "      <td>0.0</td>\n",
       "      <td>0.602139</td>\n",
       "      <td>0.666116</td>\n",
       "      <td>0.025089</td>\n",
       "    </tr>\n",
       "    <tr>\n",
       "      <th>4</th>\n",
       "      <td>0.006351</td>\n",
       "      <td>0.002117</td>\n",
       "      <td>0.074093</td>\n",
       "      <td>0.000000</td>\n",
       "      <td>0.0</td>\n",
       "      <td>0.997074</td>\n",
       "      <td>0.017041</td>\n",
       "      <td>0.004234</td>\n",
       "    </tr>\n",
       "  </tbody>\n",
       "</table>\n",
       "</div>"
      ],
      "text/plain": [
       "     Pclass       Sex       Age     SibSp  Parch    Ticket      Fare  Embarked\n",
       "0  0.005741  0.001914  0.042103  0.001914    0.0  0.998989  0.013875  0.003828\n",
       "1  0.001665  0.000000  0.063285  0.001665    0.0  0.990907  0.118714  0.000000\n",
       "2  0.004487  0.000000  0.038889  0.000000    0.0  0.999159  0.011854  0.002991\n",
       "3  0.012545  0.000000  0.439060  0.012545    0.0  0.602139  0.666116  0.025089\n",
       "4  0.006351  0.002117  0.074093  0.000000    0.0  0.997074  0.017041  0.004234"
      ]
     },
     "execution_count": 63,
     "metadata": {},
     "output_type": "execute_result"
    }
   ],
   "source": [
    "prepared_data = pd.DataFrame(prepared_data, columns=features.columns, index=features.index)\n",
    "prepared_data[:5]"
   ]
  },
  {
   "cell_type": "markdown",
   "metadata": {},
   "source": [
    "# Training the model"
   ]
  },
  {
   "cell_type": "code",
   "execution_count": 26,
   "metadata": {},
   "outputs": [
    {
     "data": {
      "text/html": [
       "<style>#sk-container-id-1 {color: black;background-color: white;}#sk-container-id-1 pre{padding: 0;}#sk-container-id-1 div.sk-toggleable {background-color: white;}#sk-container-id-1 label.sk-toggleable__label {cursor: pointer;display: block;width: 100%;margin-bottom: 0;padding: 0.3em;box-sizing: border-box;text-align: center;}#sk-container-id-1 label.sk-toggleable__label-arrow:before {content: \"▸\";float: left;margin-right: 0.25em;color: #696969;}#sk-container-id-1 label.sk-toggleable__label-arrow:hover:before {color: black;}#sk-container-id-1 div.sk-estimator:hover label.sk-toggleable__label-arrow:before {color: black;}#sk-container-id-1 div.sk-toggleable__content {max-height: 0;max-width: 0;overflow: hidden;text-align: left;background-color: #f0f8ff;}#sk-container-id-1 div.sk-toggleable__content pre {margin: 0.2em;color: black;border-radius: 0.25em;background-color: #f0f8ff;}#sk-container-id-1 input.sk-toggleable__control:checked~div.sk-toggleable__content {max-height: 200px;max-width: 100%;overflow: auto;}#sk-container-id-1 input.sk-toggleable__control:checked~label.sk-toggleable__label-arrow:before {content: \"▾\";}#sk-container-id-1 div.sk-estimator input.sk-toggleable__control:checked~label.sk-toggleable__label {background-color: #d4ebff;}#sk-container-id-1 div.sk-label input.sk-toggleable__control:checked~label.sk-toggleable__label {background-color: #d4ebff;}#sk-container-id-1 input.sk-hidden--visually {border: 0;clip: rect(1px 1px 1px 1px);clip: rect(1px, 1px, 1px, 1px);height: 1px;margin: -1px;overflow: hidden;padding: 0;position: absolute;width: 1px;}#sk-container-id-1 div.sk-estimator {font-family: monospace;background-color: #f0f8ff;border: 1px dotted black;border-radius: 0.25em;box-sizing: border-box;margin-bottom: 0.5em;}#sk-container-id-1 div.sk-estimator:hover {background-color: #d4ebff;}#sk-container-id-1 div.sk-parallel-item::after {content: \"\";width: 100%;border-bottom: 1px solid gray;flex-grow: 1;}#sk-container-id-1 div.sk-label:hover label.sk-toggleable__label {background-color: #d4ebff;}#sk-container-id-1 div.sk-serial::before {content: \"\";position: absolute;border-left: 1px solid gray;box-sizing: border-box;top: 0;bottom: 0;left: 50%;z-index: 0;}#sk-container-id-1 div.sk-serial {display: flex;flex-direction: column;align-items: center;background-color: white;padding-right: 0.2em;padding-left: 0.2em;position: relative;}#sk-container-id-1 div.sk-item {position: relative;z-index: 1;}#sk-container-id-1 div.sk-parallel {display: flex;align-items: stretch;justify-content: center;background-color: white;position: relative;}#sk-container-id-1 div.sk-item::before, #sk-container-id-1 div.sk-parallel-item::before {content: \"\";position: absolute;border-left: 1px solid gray;box-sizing: border-box;top: 0;bottom: 0;left: 50%;z-index: -1;}#sk-container-id-1 div.sk-parallel-item {display: flex;flex-direction: column;z-index: 1;position: relative;background-color: white;}#sk-container-id-1 div.sk-parallel-item:first-child::after {align-self: flex-end;width: 50%;}#sk-container-id-1 div.sk-parallel-item:last-child::after {align-self: flex-start;width: 50%;}#sk-container-id-1 div.sk-parallel-item:only-child::after {width: 0;}#sk-container-id-1 div.sk-dashed-wrapped {border: 1px dashed gray;margin: 0 0.4em 0.5em 0.4em;box-sizing: border-box;padding-bottom: 0.4em;background-color: white;}#sk-container-id-1 div.sk-label label {font-family: monospace;font-weight: bold;display: inline-block;line-height: 1.2em;}#sk-container-id-1 div.sk-label-container {text-align: center;}#sk-container-id-1 div.sk-container {/* jupyter's `normalize.less` sets `[hidden] { display: none; }` but bootstrap.min.css set `[hidden] { display: none !important; }` so we also need the `!important` here to be able to override the default hidden behavior on the sphinx rendered scikit-learn.org. See: https://github.com/scikit-learn/scikit-learn/issues/21755 */display: inline-block !important;position: relative;}#sk-container-id-1 div.sk-text-repr-fallback {display: none;}</style><div id=\"sk-container-id-1\" class=\"sk-top-container\"><div class=\"sk-text-repr-fallback\"><pre>LogisticRegression()</pre><b>In a Jupyter environment, please rerun this cell to show the HTML representation or trust the notebook. <br />On GitHub, the HTML representation is unable to render, please try loading this page with nbviewer.org.</b></div><div class=\"sk-container\" hidden><div class=\"sk-item\"><div class=\"sk-estimator sk-toggleable\"><input class=\"sk-toggleable__control sk-hidden--visually\" id=\"sk-estimator-id-1\" type=\"checkbox\" checked><label for=\"sk-estimator-id-1\" class=\"sk-toggleable__label sk-toggleable__label-arrow\">LogisticRegression</label><div class=\"sk-toggleable__content\"><pre>LogisticRegression()</pre></div></div></div></div></div>"
      ],
      "text/plain": [
       "LogisticRegression()"
      ]
     },
     "execution_count": 26,
     "metadata": {},
     "output_type": "execute_result"
    }
   ],
   "source": [
    "# Let's first use the Logistic Regression\n",
    "log_reg = LogisticRegression()\n",
    "log_reg.fit(X_train, y_train)"
   ]
  },
  {
   "cell_type": "code",
   "execution_count": 27,
   "metadata": {},
   "outputs": [
    {
     "name": "stdout",
     "output_type": "stream",
     "text": [
      "Accuracy: 67.97752808988764%\n"
     ]
    }
   ],
   "source": [
    "# Evaluating the model\n",
    "y_pred = log_reg.predict(X_val)\n",
    "# Evaluating the model\n",
    "correct = 0\n",
    "y_pred = log_reg.predict(X_val)\n",
    "for i in range(len(y_pred)):\n",
    "    if y_pred[i] == list(y_val)[i]:\n",
    "        correct += 1\n",
    "    \n",
    "print(f\"Accuracy: {(correct/len(y_pred) * 100)}%\")"
   ]
  },
  {
   "cell_type": "code",
   "execution_count": 28,
   "metadata": {},
   "outputs": [
    {
     "data": {
      "text/plain": [
       "0.6797752808988764"
      ]
     },
     "execution_count": 28,
     "metadata": {},
     "output_type": "execute_result"
    }
   ],
   "source": [
    "log_reg.score(X_val, y_val)"
   ]
  },
  {
   "cell_type": "code",
   "execution_count": 29,
   "metadata": {},
   "outputs": [],
   "source": [
    "cross_val = cross_val_score(log_reg, X, y,scoring=\"neg_mean_squared_error\" ,cv=10)"
   ]
  },
  {
   "cell_type": "code",
   "execution_count": 30,
   "metadata": {},
   "outputs": [
    {
     "data": {
      "text/plain": [
       "array([0.6271032 , 0.59962535, 0.57082633, 0.57082633, 0.56089816,\n",
       "       0.55079106, 0.55079106, 0.51929079, 0.51929079, 0.51123736])"
      ]
     },
     "execution_count": 30,
     "metadata": {},
     "output_type": "execute_result"
    }
   ],
   "source": [
    "rmse_scores = np.sqrt(-cross_val)\n",
    "rmse_scores"
   ]
  },
  {
   "cell_type": "code",
   "execution_count": 31,
   "metadata": {},
   "outputs": [
    {
     "name": "stdout",
     "output_type": "stream",
     "text": [
      "Scores: [0.6271032  0.59962535 0.57082633 0.57082633 0.56089816 0.55079106\n",
      " 0.55079106 0.51929079 0.51929079 0.51123736]\n",
      "Mean: 0.5580680408336416\n",
      "Standard deviation: 0.03483215998253276\n"
     ]
    }
   ],
   "source": [
    "display_scores(rmse_scores)"
   ]
  },
  {
   "cell_type": "code",
   "execution_count": 32,
   "metadata": {},
   "outputs": [
    {
     "data": {
      "text/html": [
       "<style>#sk-container-id-2 {color: black;background-color: white;}#sk-container-id-2 pre{padding: 0;}#sk-container-id-2 div.sk-toggleable {background-color: white;}#sk-container-id-2 label.sk-toggleable__label {cursor: pointer;display: block;width: 100%;margin-bottom: 0;padding: 0.3em;box-sizing: border-box;text-align: center;}#sk-container-id-2 label.sk-toggleable__label-arrow:before {content: \"▸\";float: left;margin-right: 0.25em;color: #696969;}#sk-container-id-2 label.sk-toggleable__label-arrow:hover:before {color: black;}#sk-container-id-2 div.sk-estimator:hover label.sk-toggleable__label-arrow:before {color: black;}#sk-container-id-2 div.sk-toggleable__content {max-height: 0;max-width: 0;overflow: hidden;text-align: left;background-color: #f0f8ff;}#sk-container-id-2 div.sk-toggleable__content pre {margin: 0.2em;color: black;border-radius: 0.25em;background-color: #f0f8ff;}#sk-container-id-2 input.sk-toggleable__control:checked~div.sk-toggleable__content {max-height: 200px;max-width: 100%;overflow: auto;}#sk-container-id-2 input.sk-toggleable__control:checked~label.sk-toggleable__label-arrow:before {content: \"▾\";}#sk-container-id-2 div.sk-estimator input.sk-toggleable__control:checked~label.sk-toggleable__label {background-color: #d4ebff;}#sk-container-id-2 div.sk-label input.sk-toggleable__control:checked~label.sk-toggleable__label {background-color: #d4ebff;}#sk-container-id-2 input.sk-hidden--visually {border: 0;clip: rect(1px 1px 1px 1px);clip: rect(1px, 1px, 1px, 1px);height: 1px;margin: -1px;overflow: hidden;padding: 0;position: absolute;width: 1px;}#sk-container-id-2 div.sk-estimator {font-family: monospace;background-color: #f0f8ff;border: 1px dotted black;border-radius: 0.25em;box-sizing: border-box;margin-bottom: 0.5em;}#sk-container-id-2 div.sk-estimator:hover {background-color: #d4ebff;}#sk-container-id-2 div.sk-parallel-item::after {content: \"\";width: 100%;border-bottom: 1px solid gray;flex-grow: 1;}#sk-container-id-2 div.sk-label:hover label.sk-toggleable__label {background-color: #d4ebff;}#sk-container-id-2 div.sk-serial::before {content: \"\";position: absolute;border-left: 1px solid gray;box-sizing: border-box;top: 0;bottom: 0;left: 50%;z-index: 0;}#sk-container-id-2 div.sk-serial {display: flex;flex-direction: column;align-items: center;background-color: white;padding-right: 0.2em;padding-left: 0.2em;position: relative;}#sk-container-id-2 div.sk-item {position: relative;z-index: 1;}#sk-container-id-2 div.sk-parallel {display: flex;align-items: stretch;justify-content: center;background-color: white;position: relative;}#sk-container-id-2 div.sk-item::before, #sk-container-id-2 div.sk-parallel-item::before {content: \"\";position: absolute;border-left: 1px solid gray;box-sizing: border-box;top: 0;bottom: 0;left: 50%;z-index: -1;}#sk-container-id-2 div.sk-parallel-item {display: flex;flex-direction: column;z-index: 1;position: relative;background-color: white;}#sk-container-id-2 div.sk-parallel-item:first-child::after {align-self: flex-end;width: 50%;}#sk-container-id-2 div.sk-parallel-item:last-child::after {align-self: flex-start;width: 50%;}#sk-container-id-2 div.sk-parallel-item:only-child::after {width: 0;}#sk-container-id-2 div.sk-dashed-wrapped {border: 1px dashed gray;margin: 0 0.4em 0.5em 0.4em;box-sizing: border-box;padding-bottom: 0.4em;background-color: white;}#sk-container-id-2 div.sk-label label {font-family: monospace;font-weight: bold;display: inline-block;line-height: 1.2em;}#sk-container-id-2 div.sk-label-container {text-align: center;}#sk-container-id-2 div.sk-container {/* jupyter's `normalize.less` sets `[hidden] { display: none; }` but bootstrap.min.css set `[hidden] { display: none !important; }` so we also need the `!important` here to be able to override the default hidden behavior on the sphinx rendered scikit-learn.org. See: https://github.com/scikit-learn/scikit-learn/issues/21755 */display: inline-block !important;position: relative;}#sk-container-id-2 div.sk-text-repr-fallback {display: none;}</style><div id=\"sk-container-id-2\" class=\"sk-top-container\"><div class=\"sk-text-repr-fallback\"><pre>DecisionTreeClassifier()</pre><b>In a Jupyter environment, please rerun this cell to show the HTML representation or trust the notebook. <br />On GitHub, the HTML representation is unable to render, please try loading this page with nbviewer.org.</b></div><div class=\"sk-container\" hidden><div class=\"sk-item\"><div class=\"sk-estimator sk-toggleable\"><input class=\"sk-toggleable__control sk-hidden--visually\" id=\"sk-estimator-id-2\" type=\"checkbox\" checked><label for=\"sk-estimator-id-2\" class=\"sk-toggleable__label sk-toggleable__label-arrow\">DecisionTreeClassifier</label><div class=\"sk-toggleable__content\"><pre>DecisionTreeClassifier()</pre></div></div></div></div></div>"
      ],
      "text/plain": [
       "DecisionTreeClassifier()"
      ]
     },
     "execution_count": 32,
     "metadata": {},
     "output_type": "execute_result"
    }
   ],
   "source": [
    "# Let's try a Decision Tree Classifier\n",
    "dec_tree = DecisionTreeClassifier()\n",
    "dec_tree.fit(X_train, y_train)\n"
   ]
  },
  {
   "cell_type": "code",
   "execution_count": 33,
   "metadata": {},
   "outputs": [
    {
     "data": {
      "text/plain": [
       "0.7415730337078652"
      ]
     },
     "execution_count": 33,
     "metadata": {},
     "output_type": "execute_result"
    }
   ],
   "source": [
    "# Evaluating the model\n",
    "dec_tree.score(X_val, y_val)"
   ]
  },
  {
   "cell_type": "code",
   "execution_count": 34,
   "metadata": {},
   "outputs": [],
   "source": [
    "cross_val = cross_val_score(dec_tree, X,y, scoring=\"neg_mean_squared_error\", cv=10)"
   ]
  },
  {
   "cell_type": "code",
   "execution_count": 35,
   "metadata": {},
   "outputs": [
    {
     "data": {
      "text/plain": [
       "array([0.44971901, 0.46204236, 0.51929079, 0.50835712, 0.48575205,\n",
       "       0.46204236, 0.42399915, 0.56089816, 0.43704832, 0.43952454])"
      ]
     },
     "execution_count": 35,
     "metadata": {},
     "output_type": "execute_result"
    }
   ],
   "source": [
    "rmse_scores = np.sqrt(-cross_val)\n",
    "rmse_scores"
   ]
  },
  {
   "cell_type": "code",
   "execution_count": 70,
   "metadata": {},
   "outputs": [
    {
     "name": "stdout",
     "output_type": "stream",
     "text": [
      "Scores: [0.44971901 0.46204236 0.51929079 0.50835712 0.48575205 0.46204236\n",
      " 0.42399915 0.56089816 0.43704832 0.43952454]\n",
      "Mean: 0.4748673871938647\n",
      "Standard deviation: 0.04104040615271547\n"
     ]
    }
   ],
   "source": [
    "display_scores(rmse_scores)"
   ]
  },
  {
   "cell_type": "markdown",
   "metadata": {},
   "source": [
    "# Improving the Decistion Tree Classifier model"
   ]
  },
  {
   "cell_type": "code",
   "execution_count": 31,
   "metadata": {},
   "outputs": [],
   "source": [
    "# Training with the best parameters\n",
    "best_params = bestAccuracy(X_train,X_val, y_train, y_val)\n",
    "model = DecisionTreeClassifier(random_state=42, criterion=best_params[0], max_depth=best_params[1], min_samples_leaf=best_params[2])"
   ]
  },
  {
   "cell_type": "code",
   "execution_count": 72,
   "metadata": {},
   "outputs": [
    {
     "data": {
      "text/html": [
       "<style>#sk-container-id-4 {color: black;background-color: white;}#sk-container-id-4 pre{padding: 0;}#sk-container-id-4 div.sk-toggleable {background-color: white;}#sk-container-id-4 label.sk-toggleable__label {cursor: pointer;display: block;width: 100%;margin-bottom: 0;padding: 0.3em;box-sizing: border-box;text-align: center;}#sk-container-id-4 label.sk-toggleable__label-arrow:before {content: \"▸\";float: left;margin-right: 0.25em;color: #696969;}#sk-container-id-4 label.sk-toggleable__label-arrow:hover:before {color: black;}#sk-container-id-4 div.sk-estimator:hover label.sk-toggleable__label-arrow:before {color: black;}#sk-container-id-4 div.sk-toggleable__content {max-height: 0;max-width: 0;overflow: hidden;text-align: left;background-color: #f0f8ff;}#sk-container-id-4 div.sk-toggleable__content pre {margin: 0.2em;color: black;border-radius: 0.25em;background-color: #f0f8ff;}#sk-container-id-4 input.sk-toggleable__control:checked~div.sk-toggleable__content {max-height: 200px;max-width: 100%;overflow: auto;}#sk-container-id-4 input.sk-toggleable__control:checked~label.sk-toggleable__label-arrow:before {content: \"▾\";}#sk-container-id-4 div.sk-estimator input.sk-toggleable__control:checked~label.sk-toggleable__label {background-color: #d4ebff;}#sk-container-id-4 div.sk-label input.sk-toggleable__control:checked~label.sk-toggleable__label {background-color: #d4ebff;}#sk-container-id-4 input.sk-hidden--visually {border: 0;clip: rect(1px 1px 1px 1px);clip: rect(1px, 1px, 1px, 1px);height: 1px;margin: -1px;overflow: hidden;padding: 0;position: absolute;width: 1px;}#sk-container-id-4 div.sk-estimator {font-family: monospace;background-color: #f0f8ff;border: 1px dotted black;border-radius: 0.25em;box-sizing: border-box;margin-bottom: 0.5em;}#sk-container-id-4 div.sk-estimator:hover {background-color: #d4ebff;}#sk-container-id-4 div.sk-parallel-item::after {content: \"\";width: 100%;border-bottom: 1px solid gray;flex-grow: 1;}#sk-container-id-4 div.sk-label:hover label.sk-toggleable__label {background-color: #d4ebff;}#sk-container-id-4 div.sk-serial::before {content: \"\";position: absolute;border-left: 1px solid gray;box-sizing: border-box;top: 0;bottom: 0;left: 50%;z-index: 0;}#sk-container-id-4 div.sk-serial {display: flex;flex-direction: column;align-items: center;background-color: white;padding-right: 0.2em;padding-left: 0.2em;position: relative;}#sk-container-id-4 div.sk-item {position: relative;z-index: 1;}#sk-container-id-4 div.sk-parallel {display: flex;align-items: stretch;justify-content: center;background-color: white;position: relative;}#sk-container-id-4 div.sk-item::before, #sk-container-id-4 div.sk-parallel-item::before {content: \"\";position: absolute;border-left: 1px solid gray;box-sizing: border-box;top: 0;bottom: 0;left: 50%;z-index: -1;}#sk-container-id-4 div.sk-parallel-item {display: flex;flex-direction: column;z-index: 1;position: relative;background-color: white;}#sk-container-id-4 div.sk-parallel-item:first-child::after {align-self: flex-end;width: 50%;}#sk-container-id-4 div.sk-parallel-item:last-child::after {align-self: flex-start;width: 50%;}#sk-container-id-4 div.sk-parallel-item:only-child::after {width: 0;}#sk-container-id-4 div.sk-dashed-wrapped {border: 1px dashed gray;margin: 0 0.4em 0.5em 0.4em;box-sizing: border-box;padding-bottom: 0.4em;background-color: white;}#sk-container-id-4 div.sk-label label {font-family: monospace;font-weight: bold;display: inline-block;line-height: 1.2em;}#sk-container-id-4 div.sk-label-container {text-align: center;}#sk-container-id-4 div.sk-container {/* jupyter's `normalize.less` sets `[hidden] { display: none; }` but bootstrap.min.css set `[hidden] { display: none !important; }` so we also need the `!important` here to be able to override the default hidden behavior on the sphinx rendered scikit-learn.org. See: https://github.com/scikit-learn/scikit-learn/issues/21755 */display: inline-block !important;position: relative;}#sk-container-id-4 div.sk-text-repr-fallback {display: none;}</style><div id=\"sk-container-id-4\" class=\"sk-top-container\"><div class=\"sk-text-repr-fallback\"><pre>DecisionTreeClassifier(max_depth=6, min_samples_leaf=11, random_state=42)</pre><b>In a Jupyter environment, please rerun this cell to show the HTML representation or trust the notebook. <br />On GitHub, the HTML representation is unable to render, please try loading this page with nbviewer.org.</b></div><div class=\"sk-container\" hidden><div class=\"sk-item\"><div class=\"sk-estimator sk-toggleable\"><input class=\"sk-toggleable__control sk-hidden--visually\" id=\"sk-estimator-id-4\" type=\"checkbox\" checked><label for=\"sk-estimator-id-4\" class=\"sk-toggleable__label sk-toggleable__label-arrow\">DecisionTreeClassifier</label><div class=\"sk-toggleable__content\"><pre>DecisionTreeClassifier(max_depth=6, min_samples_leaf=11, random_state=42)</pre></div></div></div></div></div>"
      ],
      "text/plain": [
       "DecisionTreeClassifier(max_depth=6, min_samples_leaf=11, random_state=42)"
      ]
     },
     "execution_count": 72,
     "metadata": {},
     "output_type": "execute_result"
    }
   ],
   "source": [
    "model.fit(X_train,y_train)"
   ]
  },
  {
   "cell_type": "code",
   "execution_count": 67,
   "metadata": {},
   "outputs": [
    {
     "data": {
      "text/plain": [
       "0.8202247191011236"
      ]
     },
     "execution_count": 67,
     "metadata": {},
     "output_type": "execute_result"
    }
   ],
   "source": [
    "model.score(X_val, y_val)"
   ]
  },
  {
   "cell_type": "code",
   "execution_count": 76,
   "metadata": {},
   "outputs": [
    {
     "data": {
      "text/plain": [
       "array([0.42399915, 0.46204236, 0.49718308, 0.39661489, 0.38218767,\n",
       "       0.44971901, 0.46204236, 0.44971901, 0.44971901, 0.42640143])"
      ]
     },
     "execution_count": 76,
     "metadata": {},
     "output_type": "execute_result"
    }
   ],
   "source": [
    "cross_val = cross_val_score(model, X,y, scoring=\"neg_mean_squared_error\", cv=10)\n",
    "rmse_scores = np.sqrt(-cross_val)\n",
    "rmse_scores"
   ]
  },
  {
   "cell_type": "code",
   "execution_count": 77,
   "metadata": {},
   "outputs": [
    {
     "name": "stdout",
     "output_type": "stream",
     "text": [
      "Scores: [0.42399915 0.46204236 0.49718308 0.39661489 0.38218767 0.44971901\n",
      " 0.46204236 0.44971901 0.44971901 0.42640143]\n",
      "Mean: 0.43996279895391127\n",
      "Standard deviation: 0.03192253280178208\n"
     ]
    }
   ],
   "source": [
    "display_scores(rmse_scores)"
   ]
  },
  {
   "cell_type": "code",
   "execution_count": 74,
   "metadata": {},
   "outputs": [
    {
     "data": {
      "text/plain": [
       "['models/decision_tree_best_model.pkl']"
      ]
     },
     "execution_count": 74,
     "metadata": {},
     "output_type": "execute_result"
    }
   ],
   "source": [
    "# Saving the model\n",
    "joblib.dump(model, \"models/decision_tree_best_model.pkl\")"
   ]
  },
  {
   "cell_type": "code",
   "execution_count": 47,
   "metadata": {},
   "outputs": [],
   "source": [
    "initial_df = X.copy()"
   ]
  },
  {
   "cell_type": "code",
   "execution_count": 42,
   "metadata": {},
   "outputs": [
    {
     "ename": "AttributeError",
     "evalue": "'numpy.ndarray' object has no attribute 'columns'",
     "output_type": "error",
     "traceback": [
      "\u001b[0;31m---------------------------------------------------------------------------\u001b[0m",
      "\u001b[0;31mAttributeError\u001b[0m                            Traceback (most recent call last)",
      "Input \u001b[0;32mIn [42]\u001b[0m, in \u001b[0;36m<cell line: 2>\u001b[0;34m()\u001b[0m\n\u001b[1;32m      1\u001b[0m \u001b[38;5;66;03m# creating list of all available features \u001b[39;00m\n\u001b[0;32m----> 2\u001b[0m all_features \u001b[38;5;241m=\u001b[39m \u001b[38;5;28mlist\u001b[39m(\u001b[43minitial_df\u001b[49m\u001b[38;5;241;43m.\u001b[39;49m\u001b[43mcolumns\u001b[49m)\n\u001b[1;32m      4\u001b[0m \u001b[38;5;66;03m# Combining features into unique pairs \u001b[39;00m\n\u001b[1;32m      5\u001b[0m lst \u001b[38;5;241m=\u001b[39m []\n",
      "\u001b[0;31mAttributeError\u001b[0m: 'numpy.ndarray' object has no attribute 'columns'"
     ]
    }
   ],
   "source": [
    "# creating list of all available features \n",
    "all_features = list(initial_df.columns)\n",
    "\n",
    "# Combining features into unique pairs \n",
    "lst = []\n",
    "def combine2(lst, n):\n",
    "    return [list(x) for x in itertools.combinations(lst, n)]\n",
    "\n",
    "for i in range(1, len(all_features)+1):\n",
    "    frst = combine2(all_features,i)\n",
    "    lst = lst + frst\n",
    "\n",
    "# Creating model with unique combination of features \n",
    "result = 0\n",
    "accuracy = 0\n",
    "for feature_comb  in lst :\n",
    "    print(feature_comb)\n",
    "    # getting data from file table \n",
    "         \n",
    "    X = initial_df[feature_comb]\n",
    "    \n",
    "    # spliting values for model training/testing \n",
    "    X_train, X_val, y_train, y_val = train_test_split(X, y, random_state = 42, test_size= 0.2)\n",
    "\n",
    "    # Creating and fitting the model \n",
    "    # Training with the best parameters\n",
    "    best_params = bestAccuracy(X_train,X_val, y_train, y_val)\n",
    "    model = DecisionTreeClassifier(random_state=42, criterion=best_params[0], max_depth=best_params[1], min_samples_leaf=best_params[2])\n",
    "    model.fit(X_train , y_train)\n",
    "    acc = model.score(X_val, y_val)\n",
    "\n",
    "    if acc > accuracy:\n",
    "        print(f\"Accuracy: {acc}\")\n",
    "        accuracy = acc\n",
    "        result = feature_comb\n",
    "        print(result)\n",
    "\n",
    "    "
   ]
  },
  {
   "cell_type": "markdown",
   "metadata": {},
   "source": [
    "# Creating a model with the best found features"
   ]
  },
  {
   "cell_type": "code",
   "execution_count": 39,
   "metadata": {},
   "outputs": [
    {
     "data": {
      "text/html": [
       "<div>\n",
       "<style scoped>\n",
       "    .dataframe tbody tr th:only-of-type {\n",
       "        vertical-align: middle;\n",
       "    }\n",
       "\n",
       "    .dataframe tbody tr th {\n",
       "        vertical-align: top;\n",
       "    }\n",
       "\n",
       "    .dataframe thead th {\n",
       "        text-align: right;\n",
       "    }\n",
       "</style>\n",
       "<table border=\"1\" class=\"dataframe\">\n",
       "  <thead>\n",
       "    <tr style=\"text-align: right;\">\n",
       "      <th></th>\n",
       "      <th>Pclass</th>\n",
       "      <th>Sex</th>\n",
       "      <th>Age</th>\n",
       "      <th>SibSp</th>\n",
       "      <th>Parch</th>\n",
       "      <th>Ticket</th>\n",
       "      <th>Fare</th>\n",
       "      <th>Embarked</th>\n",
       "    </tr>\n",
       "  </thead>\n",
       "  <tbody>\n",
       "    <tr>\n",
       "      <th>0</th>\n",
       "      <td>0.005741</td>\n",
       "      <td>0.001914</td>\n",
       "      <td>0.042103</td>\n",
       "      <td>0.001914</td>\n",
       "      <td>0.000000</td>\n",
       "      <td>0.998989</td>\n",
       "      <td>0.013875</td>\n",
       "      <td>0.003828</td>\n",
       "    </tr>\n",
       "    <tr>\n",
       "      <th>1</th>\n",
       "      <td>0.001665</td>\n",
       "      <td>0.000000</td>\n",
       "      <td>0.063285</td>\n",
       "      <td>0.001665</td>\n",
       "      <td>0.000000</td>\n",
       "      <td>0.990907</td>\n",
       "      <td>0.118714</td>\n",
       "      <td>0.000000</td>\n",
       "    </tr>\n",
       "    <tr>\n",
       "      <th>2</th>\n",
       "      <td>0.004487</td>\n",
       "      <td>0.000000</td>\n",
       "      <td>0.038889</td>\n",
       "      <td>0.000000</td>\n",
       "      <td>0.000000</td>\n",
       "      <td>0.999159</td>\n",
       "      <td>0.011854</td>\n",
       "      <td>0.002991</td>\n",
       "    </tr>\n",
       "    <tr>\n",
       "      <th>3</th>\n",
       "      <td>0.012545</td>\n",
       "      <td>0.000000</td>\n",
       "      <td>0.439060</td>\n",
       "      <td>0.012545</td>\n",
       "      <td>0.000000</td>\n",
       "      <td>0.602139</td>\n",
       "      <td>0.666116</td>\n",
       "      <td>0.025089</td>\n",
       "    </tr>\n",
       "    <tr>\n",
       "      <th>4</th>\n",
       "      <td>0.006351</td>\n",
       "      <td>0.002117</td>\n",
       "      <td>0.074093</td>\n",
       "      <td>0.000000</td>\n",
       "      <td>0.000000</td>\n",
       "      <td>0.997074</td>\n",
       "      <td>0.017041</td>\n",
       "      <td>0.004234</td>\n",
       "    </tr>\n",
       "    <tr>\n",
       "      <th>...</th>\n",
       "      <td>...</td>\n",
       "      <td>...</td>\n",
       "      <td>...</td>\n",
       "      <td>...</td>\n",
       "      <td>...</td>\n",
       "      <td>...</td>\n",
       "      <td>...</td>\n",
       "      <td>...</td>\n",
       "    </tr>\n",
       "    <tr>\n",
       "      <th>886</th>\n",
       "      <td>0.019150</td>\n",
       "      <td>0.009575</td>\n",
       "      <td>0.258530</td>\n",
       "      <td>0.000000</td>\n",
       "      <td>0.000000</td>\n",
       "      <td>0.957519</td>\n",
       "      <td>0.124477</td>\n",
       "      <td>0.019150</td>\n",
       "    </tr>\n",
       "    <tr>\n",
       "      <th>887</th>\n",
       "      <td>0.026153</td>\n",
       "      <td>0.000000</td>\n",
       "      <td>0.496912</td>\n",
       "      <td>0.000000</td>\n",
       "      <td>0.000000</td>\n",
       "      <td>0.366146</td>\n",
       "      <td>0.784599</td>\n",
       "      <td>0.052307</td>\n",
       "    </tr>\n",
       "    <tr>\n",
       "      <th>888</th>\n",
       "      <td>0.004444</td>\n",
       "      <td>0.000000</td>\n",
       "      <td>0.043910</td>\n",
       "      <td>0.001481</td>\n",
       "      <td>0.002963</td>\n",
       "      <td>0.998412</td>\n",
       "      <td>0.034737</td>\n",
       "      <td>0.002963</td>\n",
       "    </tr>\n",
       "    <tr>\n",
       "      <th>889</th>\n",
       "      <td>0.024678</td>\n",
       "      <td>0.024678</td>\n",
       "      <td>0.641633</td>\n",
       "      <td>0.000000</td>\n",
       "      <td>0.000000</td>\n",
       "      <td>0.197426</td>\n",
       "      <td>0.740346</td>\n",
       "      <td>0.000000</td>\n",
       "    </tr>\n",
       "    <tr>\n",
       "      <th>890</th>\n",
       "      <td>0.006435</td>\n",
       "      <td>0.002145</td>\n",
       "      <td>0.068644</td>\n",
       "      <td>0.000000</td>\n",
       "      <td>0.000000</td>\n",
       "      <td>0.997477</td>\n",
       "      <td>0.016625</td>\n",
       "      <td>0.002145</td>\n",
       "    </tr>\n",
       "  </tbody>\n",
       "</table>\n",
       "<p>889 rows × 8 columns</p>\n",
       "</div>"
      ],
      "text/plain": [
       "       Pclass       Sex       Age     SibSp     Parch    Ticket      Fare  \\\n",
       "0    0.005741  0.001914  0.042103  0.001914  0.000000  0.998989  0.013875   \n",
       "1    0.001665  0.000000  0.063285  0.001665  0.000000  0.990907  0.118714   \n",
       "2    0.004487  0.000000  0.038889  0.000000  0.000000  0.999159  0.011854   \n",
       "3    0.012545  0.000000  0.439060  0.012545  0.000000  0.602139  0.666116   \n",
       "4    0.006351  0.002117  0.074093  0.000000  0.000000  0.997074  0.017041   \n",
       "..        ...       ...       ...       ...       ...       ...       ...   \n",
       "886  0.019150  0.009575  0.258530  0.000000  0.000000  0.957519  0.124477   \n",
       "887  0.026153  0.000000  0.496912  0.000000  0.000000  0.366146  0.784599   \n",
       "888  0.004444  0.000000  0.043910  0.001481  0.002963  0.998412  0.034737   \n",
       "889  0.024678  0.024678  0.641633  0.000000  0.000000  0.197426  0.740346   \n",
       "890  0.006435  0.002145  0.068644  0.000000  0.000000  0.997477  0.016625   \n",
       "\n",
       "     Embarked  \n",
       "0    0.003828  \n",
       "1    0.000000  \n",
       "2    0.002991  \n",
       "3    0.025089  \n",
       "4    0.004234  \n",
       "..        ...  \n",
       "886  0.019150  \n",
       "887  0.052307  \n",
       "888  0.002963  \n",
       "889  0.000000  \n",
       "890  0.002145  \n",
       "\n",
       "[889 rows x 8 columns]"
      ]
     },
     "execution_count": 39,
     "metadata": {},
     "output_type": "execute_result"
    }
   ],
   "source": [
    "prepared_data"
   ]
  },
  {
   "cell_type": "code",
   "execution_count": 49,
   "metadata": {},
   "outputs": [],
   "source": [
    "best_params = initial_df[['Pclass', 'Sex', 'Parch', 'Fare']]\n",
    "X_train, X_val, y_train, y_test = train_test_split(best_params, y, random_state = 42, test_size=0.2)"
   ]
  },
  {
   "cell_type": "code",
   "execution_count": 144,
   "metadata": {},
   "outputs": [
    {
     "data": {
      "text/html": [
       "<style>#sk-container-id-10 {color: black;background-color: white;}#sk-container-id-10 pre{padding: 0;}#sk-container-id-10 div.sk-toggleable {background-color: white;}#sk-container-id-10 label.sk-toggleable__label {cursor: pointer;display: block;width: 100%;margin-bottom: 0;padding: 0.3em;box-sizing: border-box;text-align: center;}#sk-container-id-10 label.sk-toggleable__label-arrow:before {content: \"▸\";float: left;margin-right: 0.25em;color: #696969;}#sk-container-id-10 label.sk-toggleable__label-arrow:hover:before {color: black;}#sk-container-id-10 div.sk-estimator:hover label.sk-toggleable__label-arrow:before {color: black;}#sk-container-id-10 div.sk-toggleable__content {max-height: 0;max-width: 0;overflow: hidden;text-align: left;background-color: #f0f8ff;}#sk-container-id-10 div.sk-toggleable__content pre {margin: 0.2em;color: black;border-radius: 0.25em;background-color: #f0f8ff;}#sk-container-id-10 input.sk-toggleable__control:checked~div.sk-toggleable__content {max-height: 200px;max-width: 100%;overflow: auto;}#sk-container-id-10 input.sk-toggleable__control:checked~label.sk-toggleable__label-arrow:before {content: \"▾\";}#sk-container-id-10 div.sk-estimator input.sk-toggleable__control:checked~label.sk-toggleable__label {background-color: #d4ebff;}#sk-container-id-10 div.sk-label input.sk-toggleable__control:checked~label.sk-toggleable__label {background-color: #d4ebff;}#sk-container-id-10 input.sk-hidden--visually {border: 0;clip: rect(1px 1px 1px 1px);clip: rect(1px, 1px, 1px, 1px);height: 1px;margin: -1px;overflow: hidden;padding: 0;position: absolute;width: 1px;}#sk-container-id-10 div.sk-estimator {font-family: monospace;background-color: #f0f8ff;border: 1px dotted black;border-radius: 0.25em;box-sizing: border-box;margin-bottom: 0.5em;}#sk-container-id-10 div.sk-estimator:hover {background-color: #d4ebff;}#sk-container-id-10 div.sk-parallel-item::after {content: \"\";width: 100%;border-bottom: 1px solid gray;flex-grow: 1;}#sk-container-id-10 div.sk-label:hover label.sk-toggleable__label {background-color: #d4ebff;}#sk-container-id-10 div.sk-serial::before {content: \"\";position: absolute;border-left: 1px solid gray;box-sizing: border-box;top: 0;bottom: 0;left: 50%;z-index: 0;}#sk-container-id-10 div.sk-serial {display: flex;flex-direction: column;align-items: center;background-color: white;padding-right: 0.2em;padding-left: 0.2em;position: relative;}#sk-container-id-10 div.sk-item {position: relative;z-index: 1;}#sk-container-id-10 div.sk-parallel {display: flex;align-items: stretch;justify-content: center;background-color: white;position: relative;}#sk-container-id-10 div.sk-item::before, #sk-container-id-10 div.sk-parallel-item::before {content: \"\";position: absolute;border-left: 1px solid gray;box-sizing: border-box;top: 0;bottom: 0;left: 50%;z-index: -1;}#sk-container-id-10 div.sk-parallel-item {display: flex;flex-direction: column;z-index: 1;position: relative;background-color: white;}#sk-container-id-10 div.sk-parallel-item:first-child::after {align-self: flex-end;width: 50%;}#sk-container-id-10 div.sk-parallel-item:last-child::after {align-self: flex-start;width: 50%;}#sk-container-id-10 div.sk-parallel-item:only-child::after {width: 0;}#sk-container-id-10 div.sk-dashed-wrapped {border: 1px dashed gray;margin: 0 0.4em 0.5em 0.4em;box-sizing: border-box;padding-bottom: 0.4em;background-color: white;}#sk-container-id-10 div.sk-label label {font-family: monospace;font-weight: bold;display: inline-block;line-height: 1.2em;}#sk-container-id-10 div.sk-label-container {text-align: center;}#sk-container-id-10 div.sk-container {/* jupyter's `normalize.less` sets `[hidden] { display: none; }` but bootstrap.min.css set `[hidden] { display: none !important; }` so we also need the `!important` here to be able to override the default hidden behavior on the sphinx rendered scikit-learn.org. See: https://github.com/scikit-learn/scikit-learn/issues/21755 */display: inline-block !important;position: relative;}#sk-container-id-10 div.sk-text-repr-fallback {display: none;}</style><div id=\"sk-container-id-10\" class=\"sk-top-container\"><div class=\"sk-text-repr-fallback\"><pre>DecisionTreeClassifier(max_depth=7, min_samples_leaf=2, random_state=42)</pre><b>In a Jupyter environment, please rerun this cell to show the HTML representation or trust the notebook. <br />On GitHub, the HTML representation is unable to render, please try loading this page with nbviewer.org.</b></div><div class=\"sk-container\" hidden><div class=\"sk-item\"><div class=\"sk-estimator sk-toggleable\"><input class=\"sk-toggleable__control sk-hidden--visually\" id=\"sk-estimator-id-14\" type=\"checkbox\" checked><label for=\"sk-estimator-id-14\" class=\"sk-toggleable__label sk-toggleable__label-arrow\">DecisionTreeClassifier</label><div class=\"sk-toggleable__content\"><pre>DecisionTreeClassifier(max_depth=7, min_samples_leaf=2, random_state=42)</pre></div></div></div></div></div>"
      ],
      "text/plain": [
       "DecisionTreeClassifier(max_depth=7, min_samples_leaf=2, random_state=42)"
      ]
     },
     "execution_count": 144,
     "metadata": {},
     "output_type": "execute_result"
    }
   ],
   "source": [
    "best_params = bestAccuracy(X_train,X_val, y_train, y_val)\n",
    "model = DecisionTreeClassifier(random_state=42, criterion=best_params[0], max_depth=best_params[1], min_samples_leaf=best_params[2])\n",
    "model.fit(X_train , y_train)"
   ]
  },
  {
   "cell_type": "code",
   "execution_count": 145,
   "metadata": {},
   "outputs": [
    {
     "data": {
      "text/plain": [
       "0.848314606741573"
      ]
     },
     "execution_count": 145,
     "metadata": {},
     "output_type": "execute_result"
    }
   ],
   "source": [
    "acc = model.score(X_val, y_val)\n",
    "acc"
   ]
  },
  {
   "cell_type": "code",
   "execution_count": 146,
   "metadata": {},
   "outputs": [
    {
     "data": {
      "text/plain": [
       "['models/decision_tree_best_model2.pkl']"
      ]
     },
     "execution_count": 146,
     "metadata": {},
     "output_type": "execute_result"
    }
   ],
   "source": [
    "# Saving the model\n",
    "joblib.dump(model, \"models/decision_tree_best_model2.pkl\")"
   ]
  },
  {
   "cell_type": "markdown",
   "metadata": {},
   "source": [
    "# Random Forest"
   ]
  },
  {
   "cell_type": "code",
   "execution_count": 121,
   "metadata": {},
   "outputs": [
    {
     "data": {
      "text/html": [
       "<style>#sk-container-id-6 {color: black;background-color: white;}#sk-container-id-6 pre{padding: 0;}#sk-container-id-6 div.sk-toggleable {background-color: white;}#sk-container-id-6 label.sk-toggleable__label {cursor: pointer;display: block;width: 100%;margin-bottom: 0;padding: 0.3em;box-sizing: border-box;text-align: center;}#sk-container-id-6 label.sk-toggleable__label-arrow:before {content: \"▸\";float: left;margin-right: 0.25em;color: #696969;}#sk-container-id-6 label.sk-toggleable__label-arrow:hover:before {color: black;}#sk-container-id-6 div.sk-estimator:hover label.sk-toggleable__label-arrow:before {color: black;}#sk-container-id-6 div.sk-toggleable__content {max-height: 0;max-width: 0;overflow: hidden;text-align: left;background-color: #f0f8ff;}#sk-container-id-6 div.sk-toggleable__content pre {margin: 0.2em;color: black;border-radius: 0.25em;background-color: #f0f8ff;}#sk-container-id-6 input.sk-toggleable__control:checked~div.sk-toggleable__content {max-height: 200px;max-width: 100%;overflow: auto;}#sk-container-id-6 input.sk-toggleable__control:checked~label.sk-toggleable__label-arrow:before {content: \"▾\";}#sk-container-id-6 div.sk-estimator input.sk-toggleable__control:checked~label.sk-toggleable__label {background-color: #d4ebff;}#sk-container-id-6 div.sk-label input.sk-toggleable__control:checked~label.sk-toggleable__label {background-color: #d4ebff;}#sk-container-id-6 input.sk-hidden--visually {border: 0;clip: rect(1px 1px 1px 1px);clip: rect(1px, 1px, 1px, 1px);height: 1px;margin: -1px;overflow: hidden;padding: 0;position: absolute;width: 1px;}#sk-container-id-6 div.sk-estimator {font-family: monospace;background-color: #f0f8ff;border: 1px dotted black;border-radius: 0.25em;box-sizing: border-box;margin-bottom: 0.5em;}#sk-container-id-6 div.sk-estimator:hover {background-color: #d4ebff;}#sk-container-id-6 div.sk-parallel-item::after {content: \"\";width: 100%;border-bottom: 1px solid gray;flex-grow: 1;}#sk-container-id-6 div.sk-label:hover label.sk-toggleable__label {background-color: #d4ebff;}#sk-container-id-6 div.sk-serial::before {content: \"\";position: absolute;border-left: 1px solid gray;box-sizing: border-box;top: 0;bottom: 0;left: 50%;z-index: 0;}#sk-container-id-6 div.sk-serial {display: flex;flex-direction: column;align-items: center;background-color: white;padding-right: 0.2em;padding-left: 0.2em;position: relative;}#sk-container-id-6 div.sk-item {position: relative;z-index: 1;}#sk-container-id-6 div.sk-parallel {display: flex;align-items: stretch;justify-content: center;background-color: white;position: relative;}#sk-container-id-6 div.sk-item::before, #sk-container-id-6 div.sk-parallel-item::before {content: \"\";position: absolute;border-left: 1px solid gray;box-sizing: border-box;top: 0;bottom: 0;left: 50%;z-index: -1;}#sk-container-id-6 div.sk-parallel-item {display: flex;flex-direction: column;z-index: 1;position: relative;background-color: white;}#sk-container-id-6 div.sk-parallel-item:first-child::after {align-self: flex-end;width: 50%;}#sk-container-id-6 div.sk-parallel-item:last-child::after {align-self: flex-start;width: 50%;}#sk-container-id-6 div.sk-parallel-item:only-child::after {width: 0;}#sk-container-id-6 div.sk-dashed-wrapped {border: 1px dashed gray;margin: 0 0.4em 0.5em 0.4em;box-sizing: border-box;padding-bottom: 0.4em;background-color: white;}#sk-container-id-6 div.sk-label label {font-family: monospace;font-weight: bold;display: inline-block;line-height: 1.2em;}#sk-container-id-6 div.sk-label-container {text-align: center;}#sk-container-id-6 div.sk-container {/* jupyter's `normalize.less` sets `[hidden] { display: none; }` but bootstrap.min.css set `[hidden] { display: none !important; }` so we also need the `!important` here to be able to override the default hidden behavior on the sphinx rendered scikit-learn.org. See: https://github.com/scikit-learn/scikit-learn/issues/21755 */display: inline-block !important;position: relative;}#sk-container-id-6 div.sk-text-repr-fallback {display: none;}</style><div id=\"sk-container-id-6\" class=\"sk-top-container\"><div class=\"sk-text-repr-fallback\"><pre>RandomForestClassifier()</pre><b>In a Jupyter environment, please rerun this cell to show the HTML representation or trust the notebook. <br />On GitHub, the HTML representation is unable to render, please try loading this page with nbviewer.org.</b></div><div class=\"sk-container\" hidden><div class=\"sk-item\"><div class=\"sk-estimator sk-toggleable\"><input class=\"sk-toggleable__control sk-hidden--visually\" id=\"sk-estimator-id-6\" type=\"checkbox\" checked><label for=\"sk-estimator-id-6\" class=\"sk-toggleable__label sk-toggleable__label-arrow\">RandomForestClassifier</label><div class=\"sk-toggleable__content\"><pre>RandomForestClassifier()</pre></div></div></div></div></div>"
      ],
      "text/plain": [
       "RandomForestClassifier()"
      ]
     },
     "execution_count": 121,
     "metadata": {},
     "output_type": "execute_result"
    }
   ],
   "source": [
    "# Trying a Random Forest Classifier\n",
    "random_forest = RandomForestClassifier()\n",
    "random_forest.fit(X_train, y_train)"
   ]
  },
  {
   "cell_type": "code",
   "execution_count": 122,
   "metadata": {},
   "outputs": [
    {
     "data": {
      "text/plain": [
       "0.8089887640449438"
      ]
     },
     "execution_count": 122,
     "metadata": {},
     "output_type": "execute_result"
    }
   ],
   "source": [
    "random_forest.score(X_val, y_val)"
   ]
  },
  {
   "cell_type": "code",
   "execution_count": 123,
   "metadata": {},
   "outputs": [
    {
     "data": {
      "text/plain": [
       "array([0.41053541, 0.42399915, 0.48575205, 0.39661489, 0.39661489,\n",
       "       0.36719404, 0.38218767, 0.44971901, 0.39661489, 0.42640143])"
      ]
     },
     "execution_count": 123,
     "metadata": {},
     "output_type": "execute_result"
    }
   ],
   "source": [
    "cross_val = cross_val_score(random_forest, X, y, scoring=\"neg_mean_squared_error\", cv=10)\n",
    "rmse_scores = np.sqrt(-cross_val)\n",
    "rmse_scores"
   ]
  },
  {
   "cell_type": "code",
   "execution_count": 124,
   "metadata": {},
   "outputs": [
    {
     "name": "stdout",
     "output_type": "stream",
     "text": [
      "Scores: [0.41053541 0.42399915 0.48575205 0.39661489 0.39661489 0.36719404\n",
      " 0.38218767 0.44971901 0.39661489 0.42640143]\n",
      "Mean: 0.41356334408504714\n",
      "Standard deviation: 0.03285974559661205\n"
     ]
    }
   ],
   "source": [
    "display_scores(rmse_scores)"
   ]
  },
  {
   "cell_type": "code",
   "execution_count": null,
   "metadata": {},
   "outputs": [],
   "source": [
    "joblib.dump(random_forest, \"models/random_forest1.pkl\")"
   ]
  },
  {
   "cell_type": "markdown",
   "metadata": {},
   "source": [
    "# Random Forest with the best found features"
   ]
  },
  {
   "cell_type": "code",
   "execution_count": 129,
   "metadata": {},
   "outputs": [],
   "source": [
    "best_df = X[['Pclass', 'Sex', 'Parch', 'Fare']]\n",
    "X_train, X_val, y_train, y_test = train_test_split(best_df, y, random_state = 42, test_size=0.2)"
   ]
  },
  {
   "cell_type": "code",
   "execution_count": 130,
   "metadata": {},
   "outputs": [
    {
     "data": {
      "text/html": [
       "<style>#sk-container-id-7 {color: black;background-color: white;}#sk-container-id-7 pre{padding: 0;}#sk-container-id-7 div.sk-toggleable {background-color: white;}#sk-container-id-7 label.sk-toggleable__label {cursor: pointer;display: block;width: 100%;margin-bottom: 0;padding: 0.3em;box-sizing: border-box;text-align: center;}#sk-container-id-7 label.sk-toggleable__label-arrow:before {content: \"▸\";float: left;margin-right: 0.25em;color: #696969;}#sk-container-id-7 label.sk-toggleable__label-arrow:hover:before {color: black;}#sk-container-id-7 div.sk-estimator:hover label.sk-toggleable__label-arrow:before {color: black;}#sk-container-id-7 div.sk-toggleable__content {max-height: 0;max-width: 0;overflow: hidden;text-align: left;background-color: #f0f8ff;}#sk-container-id-7 div.sk-toggleable__content pre {margin: 0.2em;color: black;border-radius: 0.25em;background-color: #f0f8ff;}#sk-container-id-7 input.sk-toggleable__control:checked~div.sk-toggleable__content {max-height: 200px;max-width: 100%;overflow: auto;}#sk-container-id-7 input.sk-toggleable__control:checked~label.sk-toggleable__label-arrow:before {content: \"▾\";}#sk-container-id-7 div.sk-estimator input.sk-toggleable__control:checked~label.sk-toggleable__label {background-color: #d4ebff;}#sk-container-id-7 div.sk-label input.sk-toggleable__control:checked~label.sk-toggleable__label {background-color: #d4ebff;}#sk-container-id-7 input.sk-hidden--visually {border: 0;clip: rect(1px 1px 1px 1px);clip: rect(1px, 1px, 1px, 1px);height: 1px;margin: -1px;overflow: hidden;padding: 0;position: absolute;width: 1px;}#sk-container-id-7 div.sk-estimator {font-family: monospace;background-color: #f0f8ff;border: 1px dotted black;border-radius: 0.25em;box-sizing: border-box;margin-bottom: 0.5em;}#sk-container-id-7 div.sk-estimator:hover {background-color: #d4ebff;}#sk-container-id-7 div.sk-parallel-item::after {content: \"\";width: 100%;border-bottom: 1px solid gray;flex-grow: 1;}#sk-container-id-7 div.sk-label:hover label.sk-toggleable__label {background-color: #d4ebff;}#sk-container-id-7 div.sk-serial::before {content: \"\";position: absolute;border-left: 1px solid gray;box-sizing: border-box;top: 0;bottom: 0;left: 50%;z-index: 0;}#sk-container-id-7 div.sk-serial {display: flex;flex-direction: column;align-items: center;background-color: white;padding-right: 0.2em;padding-left: 0.2em;position: relative;}#sk-container-id-7 div.sk-item {position: relative;z-index: 1;}#sk-container-id-7 div.sk-parallel {display: flex;align-items: stretch;justify-content: center;background-color: white;position: relative;}#sk-container-id-7 div.sk-item::before, #sk-container-id-7 div.sk-parallel-item::before {content: \"\";position: absolute;border-left: 1px solid gray;box-sizing: border-box;top: 0;bottom: 0;left: 50%;z-index: -1;}#sk-container-id-7 div.sk-parallel-item {display: flex;flex-direction: column;z-index: 1;position: relative;background-color: white;}#sk-container-id-7 div.sk-parallel-item:first-child::after {align-self: flex-end;width: 50%;}#sk-container-id-7 div.sk-parallel-item:last-child::after {align-self: flex-start;width: 50%;}#sk-container-id-7 div.sk-parallel-item:only-child::after {width: 0;}#sk-container-id-7 div.sk-dashed-wrapped {border: 1px dashed gray;margin: 0 0.4em 0.5em 0.4em;box-sizing: border-box;padding-bottom: 0.4em;background-color: white;}#sk-container-id-7 div.sk-label label {font-family: monospace;font-weight: bold;display: inline-block;line-height: 1.2em;}#sk-container-id-7 div.sk-label-container {text-align: center;}#sk-container-id-7 div.sk-container {/* jupyter's `normalize.less` sets `[hidden] { display: none; }` but bootstrap.min.css set `[hidden] { display: none !important; }` so we also need the `!important` here to be able to override the default hidden behavior on the sphinx rendered scikit-learn.org. See: https://github.com/scikit-learn/scikit-learn/issues/21755 */display: inline-block !important;position: relative;}#sk-container-id-7 div.sk-text-repr-fallback {display: none;}</style><div id=\"sk-container-id-7\" class=\"sk-top-container\"><div class=\"sk-text-repr-fallback\"><pre>RandomForestClassifier()</pre><b>In a Jupyter environment, please rerun this cell to show the HTML representation or trust the notebook. <br />On GitHub, the HTML representation is unable to render, please try loading this page with nbviewer.org.</b></div><div class=\"sk-container\" hidden><div class=\"sk-item\"><div class=\"sk-estimator sk-toggleable\"><input class=\"sk-toggleable__control sk-hidden--visually\" id=\"sk-estimator-id-7\" type=\"checkbox\" checked><label for=\"sk-estimator-id-7\" class=\"sk-toggleable__label sk-toggleable__label-arrow\">RandomForestClassifier</label><div class=\"sk-toggleable__content\"><pre>RandomForestClassifier()</pre></div></div></div></div></div>"
      ],
      "text/plain": [
       "RandomForestClassifier()"
      ]
     },
     "execution_count": 130,
     "metadata": {},
     "output_type": "execute_result"
    }
   ],
   "source": [
    "model = RandomForestClassifier()\n",
    "model.fit(X_train , y_train)"
   ]
  },
  {
   "cell_type": "code",
   "execution_count": 132,
   "metadata": {},
   "outputs": [
    {
     "data": {
      "text/plain": [
       "0.8033707865168539"
      ]
     },
     "execution_count": 132,
     "metadata": {},
     "output_type": "execute_result"
    }
   ],
   "source": [
    "# Evaluating the model\n",
    "model.score(X_val, y_val)"
   ]
  },
  {
   "cell_type": "markdown",
   "metadata": {},
   "source": [
    "# Trying Grid Search CV"
   ]
  },
  {
   "cell_type": "code",
   "execution_count": 133,
   "metadata": {},
   "outputs": [],
   "source": [
    "param_grid =[\n",
    "    {\"n_estimators\": [3, 10, 30, 35, 40], \"max_features\": [2,3, 4, 5, 6, 7, 8]},\n",
    "    {\"bootstrap\": [False], \"n_estimators\": [3, 10, 30, 35, 49], \"max_features\": [2,3, 4, 5, 6, 7, 8]},\n",
    "]"
   ]
  },
  {
   "cell_type": "code",
   "execution_count": 139,
   "metadata": {},
   "outputs": [],
   "source": [
    "grid_search = GridSearchCV(model, param_grid, cv=5, scoring=\"accuracy\", return_train_score=True)"
   ]
  },
  {
   "cell_type": "code",
   "execution_count": 140,
   "metadata": {},
   "outputs": [
    {
     "data": {
      "text/html": [
       "<style>#sk-container-id-9 {color: black;background-color: white;}#sk-container-id-9 pre{padding: 0;}#sk-container-id-9 div.sk-toggleable {background-color: white;}#sk-container-id-9 label.sk-toggleable__label {cursor: pointer;display: block;width: 100%;margin-bottom: 0;padding: 0.3em;box-sizing: border-box;text-align: center;}#sk-container-id-9 label.sk-toggleable__label-arrow:before {content: \"▸\";float: left;margin-right: 0.25em;color: #696969;}#sk-container-id-9 label.sk-toggleable__label-arrow:hover:before {color: black;}#sk-container-id-9 div.sk-estimator:hover label.sk-toggleable__label-arrow:before {color: black;}#sk-container-id-9 div.sk-toggleable__content {max-height: 0;max-width: 0;overflow: hidden;text-align: left;background-color: #f0f8ff;}#sk-container-id-9 div.sk-toggleable__content pre {margin: 0.2em;color: black;border-radius: 0.25em;background-color: #f0f8ff;}#sk-container-id-9 input.sk-toggleable__control:checked~div.sk-toggleable__content {max-height: 200px;max-width: 100%;overflow: auto;}#sk-container-id-9 input.sk-toggleable__control:checked~label.sk-toggleable__label-arrow:before {content: \"▾\";}#sk-container-id-9 div.sk-estimator input.sk-toggleable__control:checked~label.sk-toggleable__label {background-color: #d4ebff;}#sk-container-id-9 div.sk-label input.sk-toggleable__control:checked~label.sk-toggleable__label {background-color: #d4ebff;}#sk-container-id-9 input.sk-hidden--visually {border: 0;clip: rect(1px 1px 1px 1px);clip: rect(1px, 1px, 1px, 1px);height: 1px;margin: -1px;overflow: hidden;padding: 0;position: absolute;width: 1px;}#sk-container-id-9 div.sk-estimator {font-family: monospace;background-color: #f0f8ff;border: 1px dotted black;border-radius: 0.25em;box-sizing: border-box;margin-bottom: 0.5em;}#sk-container-id-9 div.sk-estimator:hover {background-color: #d4ebff;}#sk-container-id-9 div.sk-parallel-item::after {content: \"\";width: 100%;border-bottom: 1px solid gray;flex-grow: 1;}#sk-container-id-9 div.sk-label:hover label.sk-toggleable__label {background-color: #d4ebff;}#sk-container-id-9 div.sk-serial::before {content: \"\";position: absolute;border-left: 1px solid gray;box-sizing: border-box;top: 0;bottom: 0;left: 50%;z-index: 0;}#sk-container-id-9 div.sk-serial {display: flex;flex-direction: column;align-items: center;background-color: white;padding-right: 0.2em;padding-left: 0.2em;position: relative;}#sk-container-id-9 div.sk-item {position: relative;z-index: 1;}#sk-container-id-9 div.sk-parallel {display: flex;align-items: stretch;justify-content: center;background-color: white;position: relative;}#sk-container-id-9 div.sk-item::before, #sk-container-id-9 div.sk-parallel-item::before {content: \"\";position: absolute;border-left: 1px solid gray;box-sizing: border-box;top: 0;bottom: 0;left: 50%;z-index: -1;}#sk-container-id-9 div.sk-parallel-item {display: flex;flex-direction: column;z-index: 1;position: relative;background-color: white;}#sk-container-id-9 div.sk-parallel-item:first-child::after {align-self: flex-end;width: 50%;}#sk-container-id-9 div.sk-parallel-item:last-child::after {align-self: flex-start;width: 50%;}#sk-container-id-9 div.sk-parallel-item:only-child::after {width: 0;}#sk-container-id-9 div.sk-dashed-wrapped {border: 1px dashed gray;margin: 0 0.4em 0.5em 0.4em;box-sizing: border-box;padding-bottom: 0.4em;background-color: white;}#sk-container-id-9 div.sk-label label {font-family: monospace;font-weight: bold;display: inline-block;line-height: 1.2em;}#sk-container-id-9 div.sk-label-container {text-align: center;}#sk-container-id-9 div.sk-container {/* jupyter's `normalize.less` sets `[hidden] { display: none; }` but bootstrap.min.css set `[hidden] { display: none !important; }` so we also need the `!important` here to be able to override the default hidden behavior on the sphinx rendered scikit-learn.org. See: https://github.com/scikit-learn/scikit-learn/issues/21755 */display: inline-block !important;position: relative;}#sk-container-id-9 div.sk-text-repr-fallback {display: none;}</style><div id=\"sk-container-id-9\" class=\"sk-top-container\"><div class=\"sk-text-repr-fallback\"><pre>GridSearchCV(cv=5, estimator=RandomForestClassifier(),\n",
       "             param_grid=[{&#x27;max_features&#x27;: [2, 3, 4, 5, 6, 7, 8],\n",
       "                          &#x27;n_estimators&#x27;: [3, 10, 30, 35, 40]},\n",
       "                         {&#x27;bootstrap&#x27;: [False],\n",
       "                          &#x27;max_features&#x27;: [2, 3, 4, 5, 6, 7, 8],\n",
       "                          &#x27;n_estimators&#x27;: [3, 10, 30, 35, 49]}],\n",
       "             return_train_score=True, scoring=&#x27;accuracy&#x27;)</pre><b>In a Jupyter environment, please rerun this cell to show the HTML representation or trust the notebook. <br />On GitHub, the HTML representation is unable to render, please try loading this page with nbviewer.org.</b></div><div class=\"sk-container\" hidden><div class=\"sk-item sk-dashed-wrapped\"><div class=\"sk-label-container\"><div class=\"sk-label sk-toggleable\"><input class=\"sk-toggleable__control sk-hidden--visually\" id=\"sk-estimator-id-11\" type=\"checkbox\" ><label for=\"sk-estimator-id-11\" class=\"sk-toggleable__label sk-toggleable__label-arrow\">GridSearchCV</label><div class=\"sk-toggleable__content\"><pre>GridSearchCV(cv=5, estimator=RandomForestClassifier(),\n",
       "             param_grid=[{&#x27;max_features&#x27;: [2, 3, 4, 5, 6, 7, 8],\n",
       "                          &#x27;n_estimators&#x27;: [3, 10, 30, 35, 40]},\n",
       "                         {&#x27;bootstrap&#x27;: [False],\n",
       "                          &#x27;max_features&#x27;: [2, 3, 4, 5, 6, 7, 8],\n",
       "                          &#x27;n_estimators&#x27;: [3, 10, 30, 35, 49]}],\n",
       "             return_train_score=True, scoring=&#x27;accuracy&#x27;)</pre></div></div></div><div class=\"sk-parallel\"><div class=\"sk-parallel-item\"><div class=\"sk-item\"><div class=\"sk-label-container\"><div class=\"sk-label sk-toggleable\"><input class=\"sk-toggleable__control sk-hidden--visually\" id=\"sk-estimator-id-12\" type=\"checkbox\" ><label for=\"sk-estimator-id-12\" class=\"sk-toggleable__label sk-toggleable__label-arrow\">estimator: RandomForestClassifier</label><div class=\"sk-toggleable__content\"><pre>RandomForestClassifier()</pre></div></div></div><div class=\"sk-serial\"><div class=\"sk-item\"><div class=\"sk-estimator sk-toggleable\"><input class=\"sk-toggleable__control sk-hidden--visually\" id=\"sk-estimator-id-13\" type=\"checkbox\" ><label for=\"sk-estimator-id-13\" class=\"sk-toggleable__label sk-toggleable__label-arrow\">RandomForestClassifier</label><div class=\"sk-toggleable__content\"><pre>RandomForestClassifier()</pre></div></div></div></div></div></div></div></div></div></div>"
      ],
      "text/plain": [
       "GridSearchCV(cv=5, estimator=RandomForestClassifier(),\n",
       "             param_grid=[{'max_features': [2, 3, 4, 5, 6, 7, 8],\n",
       "                          'n_estimators': [3, 10, 30, 35, 40]},\n",
       "                         {'bootstrap': [False],\n",
       "                          'max_features': [2, 3, 4, 5, 6, 7, 8],\n",
       "                          'n_estimators': [3, 10, 30, 35, 49]}],\n",
       "             return_train_score=True, scoring='accuracy')"
      ]
     },
     "execution_count": 140,
     "metadata": {},
     "output_type": "execute_result"
    }
   ],
   "source": [
    "grid_search.fit(X_train, y_train)"
   ]
  },
  {
   "cell_type": "code",
   "execution_count": 141,
   "metadata": {},
   "outputs": [
    {
     "data": {
      "text/plain": [
       "{'max_features': 6, 'n_estimators': 30}"
      ]
     },
     "execution_count": 141,
     "metadata": {},
     "output_type": "execute_result"
    }
   ],
   "source": [
    "grid_search.best_params_"
   ]
  },
  {
   "cell_type": "code",
   "execution_count": 142,
   "metadata": {},
   "outputs": [
    {
     "data": {
      "text/plain": [
       "0.7865168539325843"
      ]
     },
     "execution_count": 142,
     "metadata": {},
     "output_type": "execute_result"
    }
   ],
   "source": [
    "grid_search.score(X_val, y_val)"
   ]
  },
  {
   "cell_type": "code",
   "execution_count": 282,
   "metadata": {},
   "outputs": [
    {
     "data": {
      "text/plain": [
       "['Pclass', 'Sex', 'Age', 'SibSp', 'Parch', 'Ticket', 'Fare', 'Embarked']"
      ]
     },
     "execution_count": 282,
     "metadata": {},
     "output_type": "execute_result"
    }
   ],
   "source": [
    "attrs = list(X.columns)\n",
    "attrs"
   ]
  },
  {
   "cell_type": "code",
   "execution_count": 283,
   "metadata": {},
   "outputs": [],
   "source": [
    "f_importance = grid_search.best_estimator_.feature_importances_"
   ]
  },
  {
   "cell_type": "code",
   "execution_count": 285,
   "metadata": {},
   "outputs": [
    {
     "data": {
      "text/plain": [
       "[(0.31456909241400005, 'Sex'),\n",
       " (0.1634520799666993, 'Fare'),\n",
       " (0.13376177118626992, 'Ticket'),\n",
       " (0.1156877978664645, 'Age'),\n",
       " (0.08989928097473696, 'Pclass'),\n",
       " (0.08655518423758615, 'Embarked'),\n",
       " (0.06358471185695798, 'SibSp'),\n",
       " (0.03249008149728523, 'Parch')]"
      ]
     },
     "execution_count": 285,
     "metadata": {},
     "output_type": "execute_result"
    }
   ],
   "source": [
    "sorted(zip(f_importance, attrs), reverse=True)"
   ]
  },
  {
   "cell_type": "code",
   "execution_count": 288,
   "metadata": {},
   "outputs": [],
   "source": [
    "cross_val = cross_val_score(grid_search, X, y, scoring=\"neg_mean_squared_error\",cv=10)"
   ]
  },
  {
   "cell_type": "code",
   "execution_count": 289,
   "metadata": {},
   "outputs": [],
   "source": [
    "rmse_scores = np.sqrt(-cross_val)"
   ]
  },
  {
   "cell_type": "code",
   "execution_count": 292,
   "metadata": {},
   "outputs": [
    {
     "name": "stdout",
     "output_type": "stream",
     "text": [
      "Scores: [0.42399915 0.39661489 0.50835712 0.41053541 0.35156152 0.41053541\n",
      " 0.43704832 0.43704832 0.38218767 0.41286141]\n",
      "Mean: 0.4170749245627191\n",
      "Standard deviation: 0.038999078689009106\n"
     ]
    }
   ],
   "source": [
    "display_scores(rmse_scores)"
   ]
  },
  {
   "cell_type": "markdown",
   "metadata": {},
   "source": [
    "# Trying a Neural Network for this problem"
   ]
  },
  {
   "cell_type": "code",
   "execution_count": 64,
   "metadata": {},
   "outputs": [
    {
     "name": "stdout",
     "output_type": "stream",
     "text": [
      "Epoch 1/20\n",
      " 7/23 [========>.....................] - ETA: 0s - loss: 0.7032 - accuracy: 0.3795 - recall_5: 0.9759 - precision_5: 0.3716"
     ]
    },
    {
     "name": "stderr",
     "output_type": "stream",
     "text": [
      "2022-06-06 18:23:02.197070: I tensorflow/core/grappler/optimizers/custom_graph_optimizer_registry.cc:113] Plugin optimizer for device_type GPU is enabled.\n"
     ]
    },
    {
     "name": "stdout",
     "output_type": "stream",
     "text": [
      "23/23 [==============================] - 1s 19ms/step - loss: 0.6923 - accuracy: 0.5429 - recall_5: 0.5092 - precision_5: 0.4182 - val_loss: 0.6806 - val_accuracy: 0.6573 - val_recall_5: 0.2464 - val_precision_5: 0.6538\n",
      "Epoch 2/20\n",
      " 8/23 [=========>....................] - ETA: 0s - loss: 0.6765 - accuracy: 0.6719 - recall_5: 0.1684 - precision_5: 0.7619        "
     ]
    },
    {
     "name": "stderr",
     "output_type": "stream",
     "text": [
      "2022-06-06 18:23:02.632853: I tensorflow/core/grappler/optimizers/custom_graph_optimizer_registry.cc:113] Plugin optimizer for device_type GPU is enabled.\n"
     ]
    },
    {
     "name": "stdout",
     "output_type": "stream",
     "text": [
      "23/23 [==============================] - 0s 9ms/step - loss: 0.6683 - accuracy: 0.6624 - recall_5: 0.1661 - precision_5: 0.7627 - val_loss: 0.6549 - val_accuracy: 0.6461 - val_recall_5: 0.2319 - val_precision_5: 0.6154\n",
      "Epoch 3/20\n",
      "23/23 [==============================] - 0s 9ms/step - loss: 0.6456 - accuracy: 0.6709 - recall_5: 0.1993 - precision_5: 0.7606 - val_loss: 0.6358 - val_accuracy: 0.6685 - val_recall_5: 0.2899 - val_precision_5: 0.6667\n",
      "Epoch 4/20\n",
      "23/23 [==============================] - 0s 9ms/step - loss: 0.6302 - accuracy: 0.6709 - recall_5: 0.2288 - precision_5: 0.7126 - val_loss: 0.6259 - val_accuracy: 0.6629 - val_recall_5: 0.2899 - val_precision_5: 0.6452\n",
      "Epoch 5/20\n",
      "23/23 [==============================] - 0s 9ms/step - loss: 0.6223 - accuracy: 0.6737 - recall_5: 0.2325 - precision_5: 0.7241 - val_loss: 0.6196 - val_accuracy: 0.6685 - val_recall_5: 0.3043 - val_precision_5: 0.6562\n",
      "Epoch 6/20\n",
      "23/23 [==============================] - 0s 9ms/step - loss: 0.6158 - accuracy: 0.6751 - recall_5: 0.2509 - precision_5: 0.7083 - val_loss: 0.6159 - val_accuracy: 0.6742 - val_recall_5: 0.3188 - val_precision_5: 0.6667\n",
      "Epoch 7/20\n",
      "23/23 [==============================] - 0s 9ms/step - loss: 0.6126 - accuracy: 0.6807 - recall_5: 0.2657 - precision_5: 0.7200 - val_loss: 0.6142 - val_accuracy: 0.6798 - val_recall_5: 0.3333 - val_precision_5: 0.6765\n",
      "Epoch 8/20\n",
      "23/23 [==============================] - 0s 9ms/step - loss: 0.6110 - accuracy: 0.6835 - recall_5: 0.2657 - precision_5: 0.7347 - val_loss: 0.6117 - val_accuracy: 0.6798 - val_recall_5: 0.3333 - val_precision_5: 0.6765\n",
      "Epoch 9/20\n",
      "23/23 [==============================] - 0s 9ms/step - loss: 0.6087 - accuracy: 0.6850 - recall_5: 0.2731 - precision_5: 0.7327 - val_loss: 0.6113 - val_accuracy: 0.6798 - val_recall_5: 0.3333 - val_precision_5: 0.6765\n",
      "Epoch 10/20\n",
      "23/23 [==============================] - 0s 9ms/step - loss: 0.6066 - accuracy: 0.6892 - recall_5: 0.2915 - precision_5: 0.7315 - val_loss: 0.6088 - val_accuracy: 0.6798 - val_recall_5: 0.3333 - val_precision_5: 0.6765\n",
      "Epoch 11/20\n",
      "23/23 [==============================] - 0s 9ms/step - loss: 0.6043 - accuracy: 0.6864 - recall_5: 0.2768 - precision_5: 0.7353 - val_loss: 0.6070 - val_accuracy: 0.6854 - val_recall_5: 0.3478 - val_precision_5: 0.6857\n",
      "Epoch 12/20\n",
      "23/23 [==============================] - 0s 9ms/step - loss: 0.6059 - accuracy: 0.6920 - recall_5: 0.2878 - precision_5: 0.7500 - val_loss: 0.6089 - val_accuracy: 0.6910 - val_recall_5: 0.3623 - val_precision_5: 0.6944\n",
      "Epoch 13/20\n",
      "23/23 [==============================] - 0s 9ms/step - loss: 0.6019 - accuracy: 0.6934 - recall_5: 0.2952 - precision_5: 0.7477 - val_loss: 0.6052 - val_accuracy: 0.6910 - val_recall_5: 0.3623 - val_precision_5: 0.6944\n",
      "Epoch 14/20\n",
      "23/23 [==============================] - 0s 9ms/step - loss: 0.5998 - accuracy: 0.6934 - recall_5: 0.2952 - precision_5: 0.7477 - val_loss: 0.6039 - val_accuracy: 0.6910 - val_recall_5: 0.3623 - val_precision_5: 0.6944\n",
      "Epoch 15/20\n",
      "23/23 [==============================] - 0s 9ms/step - loss: 0.5996 - accuracy: 0.7018 - recall_5: 0.3321 - precision_5: 0.7438 - val_loss: 0.6019 - val_accuracy: 0.6854 - val_recall_5: 0.3478 - val_precision_5: 0.6857\n",
      "Epoch 16/20\n",
      "23/23 [==============================] - 0s 9ms/step - loss: 0.5989 - accuracy: 0.6920 - recall_5: 0.2878 - precision_5: 0.7500 - val_loss: 0.6011 - val_accuracy: 0.6910 - val_recall_5: 0.3623 - val_precision_5: 0.6944\n",
      "Epoch 17/20\n",
      "23/23 [==============================] - 0s 10ms/step - loss: 0.5962 - accuracy: 0.6976 - recall_5: 0.3063 - precision_5: 0.7545 - val_loss: 0.6008 - val_accuracy: 0.6910 - val_recall_5: 0.3623 - val_precision_5: 0.6944\n",
      "Epoch 18/20\n",
      "23/23 [==============================] - 0s 10ms/step - loss: 0.5967 - accuracy: 0.6990 - recall_5: 0.3173 - precision_5: 0.7478 - val_loss: 0.5993 - val_accuracy: 0.6910 - val_recall_5: 0.3623 - val_precision_5: 0.6944\n",
      "Epoch 19/20\n",
      "23/23 [==============================] - 0s 9ms/step - loss: 0.5954 - accuracy: 0.7004 - recall_5: 0.3173 - precision_5: 0.7544 - val_loss: 0.5985 - val_accuracy: 0.6966 - val_recall_5: 0.3768 - val_precision_5: 0.7027\n",
      "Epoch 20/20\n",
      "23/23 [==============================] - 0s 9ms/step - loss: 0.5942 - accuracy: 0.7004 - recall_5: 0.3173 - precision_5: 0.7544 - val_loss: 0.5983 - val_accuracy: 0.7135 - val_recall_5: 0.4203 - val_precision_5: 0.7250\n"
     ]
    }
   ],
   "source": [
    "# Set random seed\n",
    "tf.random.set_seed(42)\n",
    "\n",
    "# Create a model\n",
    "model1 = Sequential([\n",
    "    Dense(100, activation=\"relu\"),\n",
    "    Dense(10, activation=\"relu\"),\n",
    "    Dense(1, activation=\"sigmoid\")\n",
    "])\n",
    "\n",
    "# Compiling the model\n",
    "model1.compile(\n",
    "    loss = \"binary_crossentropy\",\n",
    "    optimizer = tf.keras.optimizers.Adam(),\n",
    "    metrics = [\"accuracy\", tf.keras.metrics.Recall(), tf.keras.metrics.Precision()]\n",
    ")\n",
    "\n",
    "# Fit the model\n",
    "hist1 = model1.fit(\n",
    "    X_train, \n",
    "    y_train,\n",
    "    validation_data = (X_val, y_val),\n",
    "    epochs = 20\n",
    ")"
   ]
  },
  {
   "cell_type": "markdown",
   "metadata": {},
   "source": [
    "## Evaluating the first model"
   ]
  },
  {
   "cell_type": "code",
   "execution_count": 65,
   "metadata": {},
   "outputs": [
    {
     "name": "stdout",
     "output_type": "stream",
     "text": [
      "6/6 [==============================] - 0s 6ms/step - loss: 0.5983 - accuracy: 0.7135 - recall_5: 0.4203 - precision_5: 0.7250\n"
     ]
    },
    {
     "data": {
      "text/plain": [
       "[0.5982796549797058,\n",
       " 0.7134831547737122,\n",
       " 0.42028987407684326,\n",
       " 0.7250000238418579]"
      ]
     },
     "execution_count": 65,
     "metadata": {},
     "output_type": "execute_result"
    }
   ],
   "source": [
    "model1.evaluate(X_val,y_val)"
   ]
  },
  {
   "cell_type": "code",
   "execution_count": 72,
   "metadata": {},
   "outputs": [
    {
     "data": {
      "text/html": [
       "<div>\n",
       "<style scoped>\n",
       "    .dataframe tbody tr th:only-of-type {\n",
       "        vertical-align: middle;\n",
       "    }\n",
       "\n",
       "    .dataframe tbody tr th {\n",
       "        vertical-align: top;\n",
       "    }\n",
       "\n",
       "    .dataframe thead th {\n",
       "        text-align: right;\n",
       "    }\n",
       "</style>\n",
       "<table border=\"1\" class=\"dataframe\">\n",
       "  <thead>\n",
       "    <tr style=\"text-align: right;\">\n",
       "      <th></th>\n",
       "      <th>loss</th>\n",
       "      <th>accuracy</th>\n",
       "      <th>recall_5</th>\n",
       "      <th>precision_5</th>\n",
       "      <th>val_loss</th>\n",
       "      <th>val_accuracy</th>\n",
       "      <th>val_recall_5</th>\n",
       "      <th>val_precision_5</th>\n",
       "    </tr>\n",
       "  </thead>\n",
       "  <tbody>\n",
       "    <tr>\n",
       "      <th>0</th>\n",
       "      <td>0.692280</td>\n",
       "      <td>0.542897</td>\n",
       "      <td>0.509225</td>\n",
       "      <td>0.418182</td>\n",
       "      <td>0.680632</td>\n",
       "      <td>0.657303</td>\n",
       "      <td>0.246377</td>\n",
       "      <td>0.653846</td>\n",
       "    </tr>\n",
       "    <tr>\n",
       "      <th>1</th>\n",
       "      <td>0.668253</td>\n",
       "      <td>0.662447</td>\n",
       "      <td>0.166052</td>\n",
       "      <td>0.762712</td>\n",
       "      <td>0.654912</td>\n",
       "      <td>0.646067</td>\n",
       "      <td>0.231884</td>\n",
       "      <td>0.615385</td>\n",
       "    </tr>\n",
       "    <tr>\n",
       "      <th>2</th>\n",
       "      <td>0.645573</td>\n",
       "      <td>0.670886</td>\n",
       "      <td>0.199262</td>\n",
       "      <td>0.760563</td>\n",
       "      <td>0.635829</td>\n",
       "      <td>0.668539</td>\n",
       "      <td>0.289855</td>\n",
       "      <td>0.666667</td>\n",
       "    </tr>\n",
       "  </tbody>\n",
       "</table>\n",
       "</div>"
      ],
      "text/plain": [
       "       loss  accuracy  recall_5  precision_5  val_loss  val_accuracy  \\\n",
       "0  0.692280  0.542897  0.509225     0.418182  0.680632      0.657303   \n",
       "1  0.668253  0.662447  0.166052     0.762712  0.654912      0.646067   \n",
       "2  0.645573  0.670886  0.199262     0.760563  0.635829      0.668539   \n",
       "\n",
       "   val_recall_5  val_precision_5  \n",
       "0      0.246377         0.653846  \n",
       "1      0.231884         0.615385  \n",
       "2      0.289855         0.666667  "
      ]
     },
     "execution_count": 72,
     "metadata": {},
     "output_type": "execute_result"
    }
   ],
   "source": [
    "# Evaluating the model's training\n",
    "hist1_df = pd.DataFrame(hist1.history)\n",
    "hist1_df[:3]"
   ]
  },
  {
   "cell_type": "code",
   "execution_count": 80,
   "metadata": {},
   "outputs": [],
   "source": [
    "def plot_loss_accuracy(loss, accuracy, val_loss, val_accuracy):\n",
    "    plt.figure(figsize=(10,7))\n",
    "    plt.plot(loss, c=\"b\", label=\"Training loss\")\n",
    "    plt.plot(val_loss, c=\"orange\", label=\"Validation loss\")\n",
    "    plt.plot(accuracy, c=\"red\", label=\"Training accuracy\")\n",
    "    plt.plot(val_accuracy, c=\"green\", label=\"Validation accuracy\")\n",
    "    plt.legend();"
   ]
  },
  {
   "cell_type": "code",
   "execution_count": 81,
   "metadata": {},
   "outputs": [],
   "source": [
    " # Plotting precision and recalls\n",
    "\n",
    "def plot_precisions_recalls(precision, recall, val_precision, val_recall):\n",
    "    plt.figure(figsize=(10,7))\n",
    "    plt.plot(precision, c=\"b\", label=\"Training precision\")\n",
    "    plt.plot(val_precision, c=\"orange\", label=\"Validation precision\")\n",
    "    plt.plot(recall, c=\"red\", label=\"Training recall\")\n",
    "    plt.plot(val_recall, c=\"green\", label=\"Validation recall\")\n",
    "    plt.legend();"
   ]
  },
  {
   "cell_type": "code",
   "execution_count": 82,
   "metadata": {},
   "outputs": [
    {
     "data": {
      "image/png": "[encoded data removed]",
      "text/plain": [
       "<Figure size 720x504 with 1 Axes>"
      ]
     },
     "metadata": {
      "needs_background": "light"
     },
     "output_type": "display_data"
    }
   ],
   "source": [
    "plot_loss_accuracy(hist1_df[\"loss\"],hist1_df[\"accuracy\"],hist1_df[\"val_loss\"],hist1_df[\"val_accuracy\"])"
   ]
  },
  {
   "cell_type": "code",
   "execution_count": 83,
   "metadata": {},
   "outputs": [
    {
     "data": {
      "image/png": "[encoded data removed]",
      "text/plain": [
       "<Figure size 720x504 with 1 Axes>"
      ]
     },
     "metadata": {
      "needs_background": "light"
     },
     "output_type": "display_data"
    }
   ],
   "source": [
    "plot_precisions_recalls(hist1_df[\"precision_5\"],hist1_df[\"recall_5\"],hist1_df[\"val_precision_5\"],hist1_df[\"val_recall_5\"],)"
   ]
  },
  {
   "cell_type": "markdown",
   "metadata": {},
   "source": [
    "### It seems to me that the model is only going to improve, so I will try to fit it for longer"
   ]
  },
  {
   "cell_type": "code",
   "execution_count": 77,
   "metadata": {},
   "outputs": [
    {
     "name": "stdout",
     "output_type": "stream",
     "text": [
      "Epoch 1/100\n",
      " 1/23 [>.............................] - ETA: 9s - loss: 0.7172 - accuracy: 0.3750 - recall_6: 1.0000 - precision_6: 0.3548"
     ]
    },
    {
     "name": "stderr",
     "output_type": "stream",
     "text": [
      "2022-06-06 18:36:53.607471: I tensorflow/core/grappler/optimizers/custom_graph_optimizer_registry.cc:113] Plugin optimizer for device_type GPU is enabled.\n"
     ]
    },
    {
     "name": "stdout",
     "output_type": "stream",
     "text": [
      "23/23 [==============================] - 1s 19ms/step - loss: 0.6923 - accuracy: 0.5429 - recall_6: 0.5092 - precision_6: 0.4182 - val_loss: 0.6806 - val_accuracy: 0.6573 - val_recall_6: 0.2464 - val_precision_6: 0.6538\n",
      "Epoch 2/100\n",
      " 8/23 [=========>....................] - ETA: 0s - loss: 0.6765 - accuracy: 0.6719 - recall_6: 0.1684 - precision_6: 0.7619        "
     ]
    },
    {
     "name": "stderr",
     "output_type": "stream",
     "text": [
      "2022-06-06 18:36:54.058012: I tensorflow/core/grappler/optimizers/custom_graph_optimizer_registry.cc:113] Plugin optimizer for device_type GPU is enabled.\n"
     ]
    },
    {
     "name": "stdout",
     "output_type": "stream",
     "text": [
      "23/23 [==============================] - 0s 9ms/step - loss: 0.6683 - accuracy: 0.6624 - recall_6: 0.1661 - precision_6: 0.7627 - val_loss: 0.6549 - val_accuracy: 0.6461 - val_recall_6: 0.2319 - val_precision_6: 0.6154\n",
      "Epoch 3/100\n",
      "23/23 [==============================] - 0s 9ms/step - loss: 0.6456 - accuracy: 0.6709 - recall_6: 0.1993 - precision_6: 0.7606 - val_loss: 0.6358 - val_accuracy: 0.6685 - val_recall_6: 0.2899 - val_precision_6: 0.6667\n",
      "Epoch 4/100\n",
      "23/23 [==============================] - 0s 9ms/step - loss: 0.6302 - accuracy: 0.6709 - recall_6: 0.2288 - precision_6: 0.7126 - val_loss: 0.6259 - val_accuracy: 0.6629 - val_recall_6: 0.2899 - val_precision_6: 0.6452\n",
      "Epoch 5/100\n",
      "23/23 [==============================] - 0s 9ms/step - loss: 0.6223 - accuracy: 0.6737 - recall_6: 0.2325 - precision_6: 0.7241 - val_loss: 0.6196 - val_accuracy: 0.6685 - val_recall_6: 0.3043 - val_precision_6: 0.6562\n",
      "Epoch 6/100\n",
      "23/23 [==============================] - 0s 9ms/step - loss: 0.6158 - accuracy: 0.6751 - recall_6: 0.2509 - precision_6: 0.7083 - val_loss: 0.6159 - val_accuracy: 0.6742 - val_recall_6: 0.3188 - val_precision_6: 0.6667\n",
      "Epoch 7/100\n",
      "23/23 [==============================] - 0s 9ms/step - loss: 0.6126 - accuracy: 0.6807 - recall_6: 0.2657 - precision_6: 0.7200 - val_loss: 0.6142 - val_accuracy: 0.6798 - val_recall_6: 0.3333 - val_precision_6: 0.6765\n",
      "Epoch 8/100\n",
      "23/23 [==============================] - 0s 9ms/step - loss: 0.6110 - accuracy: 0.6835 - recall_6: 0.2657 - precision_6: 0.7347 - val_loss: 0.6117 - val_accuracy: 0.6798 - val_recall_6: 0.3333 - val_precision_6: 0.6765\n",
      "Epoch 9/100\n",
      "23/23 [==============================] - 0s 9ms/step - loss: 0.6087 - accuracy: 0.6850 - recall_6: 0.2731 - precision_6: 0.7327 - val_loss: 0.6113 - val_accuracy: 0.6798 - val_recall_6: 0.3333 - val_precision_6: 0.6765\n",
      "Epoch 10/100\n",
      "23/23 [==============================] - 0s 9ms/step - loss: 0.6066 - accuracy: 0.6892 - recall_6: 0.2915 - precision_6: 0.7315 - val_loss: 0.6088 - val_accuracy: 0.6798 - val_recall_6: 0.3333 - val_precision_6: 0.6765\n",
      "Epoch 11/100\n",
      "23/23 [==============================] - 0s 9ms/step - loss: 0.6043 - accuracy: 0.6864 - recall_6: 0.2768 - precision_6: 0.7353 - val_loss: 0.6070 - val_accuracy: 0.6854 - val_recall_6: 0.3478 - val_precision_6: 0.6857\n",
      "Epoch 12/100\n",
      "23/23 [==============================] - 0s 9ms/step - loss: 0.6059 - accuracy: 0.6920 - recall_6: 0.2878 - precision_6: 0.7500 - val_loss: 0.6089 - val_accuracy: 0.6910 - val_recall_6: 0.3623 - val_precision_6: 0.6944\n",
      "Epoch 13/100\n",
      "23/23 [==============================] - 0s 9ms/step - loss: 0.6019 - accuracy: 0.6934 - recall_6: 0.2952 - precision_6: 0.7477 - val_loss: 0.6052 - val_accuracy: 0.6910 - val_recall_6: 0.3623 - val_precision_6: 0.6944\n",
      "Epoch 14/100\n",
      "23/23 [==============================] - 0s 9ms/step - loss: 0.5998 - accuracy: 0.6934 - recall_6: 0.2952 - precision_6: 0.7477 - val_loss: 0.6039 - val_accuracy: 0.6910 - val_recall_6: 0.3623 - val_precision_6: 0.6944\n",
      "Epoch 15/100\n",
      "23/23 [==============================] - 0s 9ms/step - loss: 0.5996 - accuracy: 0.7018 - recall_6: 0.3321 - precision_6: 0.7438 - val_loss: 0.6019 - val_accuracy: 0.6854 - val_recall_6: 0.3478 - val_precision_6: 0.6857\n",
      "Epoch 16/100\n",
      "23/23 [==============================] - 0s 9ms/step - loss: 0.5989 - accuracy: 0.6920 - recall_6: 0.2878 - precision_6: 0.7500 - val_loss: 0.6011 - val_accuracy: 0.6910 - val_recall_6: 0.3623 - val_precision_6: 0.6944\n",
      "Epoch 17/100\n",
      "23/23 [==============================] - 0s 9ms/step - loss: 0.5962 - accuracy: 0.6976 - recall_6: 0.3063 - precision_6: 0.7545 - val_loss: 0.6008 - val_accuracy: 0.6910 - val_recall_6: 0.3623 - val_precision_6: 0.6944\n",
      "Epoch 18/100\n",
      "23/23 [==============================] - 0s 9ms/step - loss: 0.5967 - accuracy: 0.6990 - recall_6: 0.3173 - precision_6: 0.7478 - val_loss: 0.5993 - val_accuracy: 0.6910 - val_recall_6: 0.3623 - val_precision_6: 0.6944\n",
      "Epoch 19/100\n",
      "23/23 [==============================] - 0s 9ms/step - loss: 0.5954 - accuracy: 0.7004 - recall_6: 0.3173 - precision_6: 0.7544 - val_loss: 0.5985 - val_accuracy: 0.6966 - val_recall_6: 0.3768 - val_precision_6: 0.7027\n",
      "Epoch 20/100\n",
      "23/23 [==============================] - 0s 9ms/step - loss: 0.5942 - accuracy: 0.7004 - recall_6: 0.3173 - precision_6: 0.7544 - val_loss: 0.5983 - val_accuracy: 0.7135 - val_recall_6: 0.4203 - val_precision_6: 0.7250\n",
      "Epoch 21/100\n",
      "23/23 [==============================] - 0s 9ms/step - loss: 0.5919 - accuracy: 0.6990 - recall_6: 0.3210 - precision_6: 0.7436 - val_loss: 0.5945 - val_accuracy: 0.6910 - val_recall_6: 0.3623 - val_precision_6: 0.6944\n",
      "Epoch 22/100\n",
      "23/23 [==============================] - 0s 9ms/step - loss: 0.5922 - accuracy: 0.6962 - recall_6: 0.3173 - precision_6: 0.7350 - val_loss: 0.5973 - val_accuracy: 0.7079 - val_recall_6: 0.4058 - val_precision_6: 0.7179\n",
      "Epoch 23/100\n",
      "23/23 [==============================] - 0s 9ms/step - loss: 0.5909 - accuracy: 0.7004 - recall_6: 0.3210 - precision_6: 0.7500 - val_loss: 0.5935 - val_accuracy: 0.7135 - val_recall_6: 0.4203 - val_precision_6: 0.7250\n",
      "Epoch 24/100\n",
      "23/23 [==============================] - 0s 9ms/step - loss: 0.5941 - accuracy: 0.6948 - recall_6: 0.3321 - precision_6: 0.7143 - val_loss: 0.5923 - val_accuracy: 0.6910 - val_recall_6: 0.3623 - val_precision_6: 0.6944\n",
      "Epoch 25/100\n",
      "23/23 [==============================] - 0s 9ms/step - loss: 0.5909 - accuracy: 0.7032 - recall_6: 0.3137 - precision_6: 0.7727 - val_loss: 0.5925 - val_accuracy: 0.7135 - val_recall_6: 0.4203 - val_precision_6: 0.7250\n",
      "Epoch 26/100\n",
      "23/23 [==============================] - 0s 9ms/step - loss: 0.5901 - accuracy: 0.7032 - recall_6: 0.3542 - precision_6: 0.7273 - val_loss: 0.5927 - val_accuracy: 0.7135 - val_recall_6: 0.4203 - val_precision_6: 0.7250\n",
      "Epoch 27/100\n",
      "23/23 [==============================] - 0s 9ms/step - loss: 0.5897 - accuracy: 0.6990 - recall_6: 0.3432 - precision_6: 0.7209 - val_loss: 0.5892 - val_accuracy: 0.7135 - val_recall_6: 0.4058 - val_precision_6: 0.7368\n",
      "Epoch 28/100\n",
      "23/23 [==============================] - 0s 9ms/step - loss: 0.5900 - accuracy: 0.6976 - recall_6: 0.3358 - precision_6: 0.7222 - val_loss: 0.5892 - val_accuracy: 0.7079 - val_recall_6: 0.3913 - val_precision_6: 0.7297\n",
      "Epoch 29/100\n",
      "23/23 [==============================] - 0s 9ms/step - loss: 0.5887 - accuracy: 0.7089 - recall_6: 0.3579 - precision_6: 0.7462 - val_loss: 0.5889 - val_accuracy: 0.7079 - val_recall_6: 0.3913 - val_precision_6: 0.7297\n",
      "Epoch 30/100\n",
      "23/23 [==============================] - 0s 9ms/step - loss: 0.5889 - accuracy: 0.7004 - recall_6: 0.3247 - precision_6: 0.7458 - val_loss: 0.5913 - val_accuracy: 0.7079 - val_recall_6: 0.4348 - val_precision_6: 0.6977\n",
      "Epoch 31/100\n",
      "23/23 [==============================] - 0s 9ms/step - loss: 0.5886 - accuracy: 0.7018 - recall_6: 0.3506 - precision_6: 0.7252 - val_loss: 0.5872 - val_accuracy: 0.7135 - val_recall_6: 0.4203 - val_precision_6: 0.7250\n",
      "Epoch 32/100\n",
      "23/23 [==============================] - 0s 9ms/step - loss: 0.5854 - accuracy: 0.7075 - recall_6: 0.3506 - precision_6: 0.7480 - val_loss: 0.5874 - val_accuracy: 0.7135 - val_recall_6: 0.4203 - val_precision_6: 0.7250\n",
      "Epoch 33/100\n",
      "23/23 [==============================] - 0s 9ms/step - loss: 0.5861 - accuracy: 0.7018 - recall_6: 0.3432 - precision_6: 0.7323 - val_loss: 0.5866 - val_accuracy: 0.7135 - val_recall_6: 0.4348 - val_precision_6: 0.7143\n",
      "Epoch 34/100\n",
      "23/23 [==============================] - 0s 9ms/step - loss: 0.5871 - accuracy: 0.6990 - recall_6: 0.3321 - precision_6: 0.7317 - val_loss: 0.5868 - val_accuracy: 0.7135 - val_recall_6: 0.4348 - val_precision_6: 0.7143\n",
      "Epoch 35/100\n",
      "23/23 [==============================] - 0s 9ms/step - loss: 0.5858 - accuracy: 0.7032 - recall_6: 0.3616 - precision_6: 0.7206 - val_loss: 0.5858 - val_accuracy: 0.7191 - val_recall_6: 0.4203 - val_precision_6: 0.7436\n",
      "Epoch 36/100\n",
      "23/23 [==============================] - 0s 9ms/step - loss: 0.5834 - accuracy: 0.7046 - recall_6: 0.3542 - precision_6: 0.7328 - val_loss: 0.5849 - val_accuracy: 0.7135 - val_recall_6: 0.4348 - val_precision_6: 0.7143\n",
      "Epoch 37/100\n"
     ]
    },
    {
     "name": "stdout",
     "output_type": "stream",
     "text": [
      "23/23 [==============================] - 0s 9ms/step - loss: 0.5824 - accuracy: 0.7046 - recall_6: 0.3432 - precision_6: 0.7440 - val_loss: 0.5841 - val_accuracy: 0.7191 - val_recall_6: 0.4348 - val_precision_6: 0.7317\n",
      "Epoch 38/100\n",
      "23/23 [==============================] - 0s 8ms/step - loss: 0.5826 - accuracy: 0.7032 - recall_6: 0.3506 - precision_6: 0.7308 - val_loss: 0.5844 - val_accuracy: 0.7135 - val_recall_6: 0.4348 - val_precision_6: 0.7143\n",
      "Epoch 39/100\n",
      "23/23 [==============================] - 0s 9ms/step - loss: 0.5811 - accuracy: 0.7060 - recall_6: 0.3506 - precision_6: 0.7422 - val_loss: 0.5824 - val_accuracy: 0.7135 - val_recall_6: 0.4348 - val_precision_6: 0.7143\n",
      "Epoch 40/100\n",
      "23/23 [==============================] - 0s 9ms/step - loss: 0.5827 - accuracy: 0.7075 - recall_6: 0.3616 - precision_6: 0.7368 - val_loss: 0.5792 - val_accuracy: 0.7079 - val_recall_6: 0.4203 - val_precision_6: 0.7073\n",
      "Epoch 41/100\n",
      "23/23 [==============================] - 0s 9ms/step - loss: 0.5804 - accuracy: 0.7046 - recall_6: 0.3542 - precision_6: 0.7328 - val_loss: 0.5791 - val_accuracy: 0.7079 - val_recall_6: 0.4203 - val_precision_6: 0.7073\n",
      "Epoch 42/100\n",
      "23/23 [==============================] - 0s 9ms/step - loss: 0.5802 - accuracy: 0.7075 - recall_6: 0.3838 - precision_6: 0.7172 - val_loss: 0.5809 - val_accuracy: 0.7135 - val_recall_6: 0.4348 - val_precision_6: 0.7143\n",
      "Epoch 43/100\n",
      "23/23 [==============================] - 0s 9ms/step - loss: 0.5797 - accuracy: 0.7032 - recall_6: 0.3727 - precision_6: 0.7113 - val_loss: 0.5784 - val_accuracy: 0.7135 - val_recall_6: 0.4348 - val_precision_6: 0.7143\n",
      "Epoch 44/100\n",
      "23/23 [==============================] - 0s 9ms/step - loss: 0.5795 - accuracy: 0.7018 - recall_6: 0.3321 - precision_6: 0.7438 - val_loss: 0.5789 - val_accuracy: 0.7191 - val_recall_6: 0.4638 - val_precision_6: 0.7111\n",
      "Epoch 45/100\n",
      "23/23 [==============================] - 0s 9ms/step - loss: 0.5851 - accuracy: 0.7032 - recall_6: 0.3985 - precision_6: 0.6923 - val_loss: 0.5773 - val_accuracy: 0.7247 - val_recall_6: 0.4058 - val_precision_6: 0.7778\n",
      "Epoch 46/100\n",
      "23/23 [==============================] - 0s 9ms/step - loss: 0.5781 - accuracy: 0.7117 - recall_6: 0.3801 - precision_6: 0.7357 - val_loss: 0.5826 - val_accuracy: 0.7191 - val_recall_6: 0.4783 - val_precision_6: 0.7021\n",
      "Epoch 47/100\n",
      "23/23 [==============================] - 0s 9ms/step - loss: 0.5772 - accuracy: 0.7075 - recall_6: 0.3801 - precision_6: 0.7203 - val_loss: 0.5760 - val_accuracy: 0.7079 - val_recall_6: 0.4203 - val_precision_6: 0.7073\n",
      "Epoch 48/100\n",
      "23/23 [==============================] - 0s 9ms/step - loss: 0.5821 - accuracy: 0.7004 - recall_6: 0.3506 - precision_6: 0.7197 - val_loss: 0.5776 - val_accuracy: 0.7191 - val_recall_6: 0.4638 - val_precision_6: 0.7111\n",
      "Epoch 49/100\n",
      "23/23 [==============================] - 0s 9ms/step - loss: 0.5761 - accuracy: 0.7075 - recall_6: 0.3542 - precision_6: 0.7442 - val_loss: 0.5755 - val_accuracy: 0.7191 - val_recall_6: 0.4493 - val_precision_6: 0.7209\n",
      "Epoch 50/100\n",
      "23/23 [==============================] - 0s 9ms/step - loss: 0.5757 - accuracy: 0.7117 - recall_6: 0.3948 - precision_6: 0.7230 - val_loss: 0.5746 - val_accuracy: 0.7135 - val_recall_6: 0.4348 - val_precision_6: 0.7143\n",
      "Epoch 51/100\n",
      "23/23 [==============================] - 0s 9ms/step - loss: 0.5780 - accuracy: 0.7075 - recall_6: 0.3801 - precision_6: 0.7203 - val_loss: 0.5751 - val_accuracy: 0.7191 - val_recall_6: 0.4638 - val_precision_6: 0.7111\n",
      "Epoch 52/100\n",
      "23/23 [==============================] - 0s 9ms/step - loss: 0.5725 - accuracy: 0.7089 - recall_6: 0.3616 - precision_6: 0.7424 - val_loss: 0.5735 - val_accuracy: 0.7135 - val_recall_6: 0.4348 - val_precision_6: 0.7143\n",
      "Epoch 53/100\n",
      "23/23 [==============================] - 0s 9ms/step - loss: 0.5733 - accuracy: 0.7060 - recall_6: 0.3948 - precision_6: 0.7039 - val_loss: 0.5729 - val_accuracy: 0.7191 - val_recall_6: 0.4493 - val_precision_6: 0.7209\n",
      "Epoch 54/100\n",
      "23/23 [==============================] - 0s 9ms/step - loss: 0.5739 - accuracy: 0.7131 - recall_6: 0.3764 - precision_6: 0.7445 - val_loss: 0.5750 - val_accuracy: 0.7247 - val_recall_6: 0.4928 - val_precision_6: 0.7083\n",
      "Epoch 55/100\n",
      "23/23 [==============================] - 0s 9ms/step - loss: 0.5728 - accuracy: 0.7046 - recall_6: 0.3875 - precision_6: 0.7047 - val_loss: 0.5701 - val_accuracy: 0.7135 - val_recall_6: 0.4348 - val_precision_6: 0.7143\n",
      "Epoch 56/100\n",
      "23/23 [==============================] - 0s 9ms/step - loss: 0.5732 - accuracy: 0.7075 - recall_6: 0.3579 - precision_6: 0.7405 - val_loss: 0.5717 - val_accuracy: 0.7303 - val_recall_6: 0.4928 - val_precision_6: 0.7234\n",
      "Epoch 57/100\n",
      "23/23 [==============================] - 0s 9ms/step - loss: 0.5722 - accuracy: 0.7117 - recall_6: 0.3764 - precision_6: 0.7391 - val_loss: 0.5716 - val_accuracy: 0.7303 - val_recall_6: 0.4928 - val_precision_6: 0.7234\n",
      "Epoch 58/100\n",
      "23/23 [==============================] - 0s 9ms/step - loss: 0.5758 - accuracy: 0.7075 - recall_6: 0.4391 - precision_6: 0.6800 - val_loss: 0.5711 - val_accuracy: 0.7191 - val_recall_6: 0.4203 - val_precision_6: 0.7436\n",
      "Epoch 59/100\n",
      "23/23 [==============================] - 0s 9ms/step - loss: 0.5744 - accuracy: 0.7131 - recall_6: 0.3911 - precision_6: 0.7310 - val_loss: 0.5685 - val_accuracy: 0.7191 - val_recall_6: 0.4638 - val_precision_6: 0.7111\n",
      "Epoch 60/100\n",
      "23/23 [==============================] - 0s 9ms/step - loss: 0.5696 - accuracy: 0.7117 - recall_6: 0.3838 - precision_6: 0.7324 - val_loss: 0.5681 - val_accuracy: 0.7247 - val_recall_6: 0.4783 - val_precision_6: 0.7174\n",
      "Epoch 61/100\n",
      "23/23 [==============================] - 0s 9ms/step - loss: 0.5697 - accuracy: 0.7089 - recall_6: 0.3948 - precision_6: 0.7133 - val_loss: 0.5680 - val_accuracy: 0.7247 - val_recall_6: 0.4783 - val_precision_6: 0.7174\n",
      "Epoch 62/100\n",
      "23/23 [==============================] - 0s 9ms/step - loss: 0.5734 - accuracy: 0.7103 - recall_6: 0.4170 - precision_6: 0.7019 - val_loss: 0.5707 - val_accuracy: 0.7135 - val_recall_6: 0.4348 - val_precision_6: 0.7143\n",
      "Epoch 63/100\n",
      "23/23 [==============================] - 0s 9ms/step - loss: 0.5686 - accuracy: 0.7117 - recall_6: 0.3875 - precision_6: 0.7292 - val_loss: 0.5704 - val_accuracy: 0.7303 - val_recall_6: 0.5072 - val_precision_6: 0.7143\n",
      "Epoch 64/100\n",
      "23/23 [==============================] - 0s 9ms/step - loss: 0.5658 - accuracy: 0.7089 - recall_6: 0.4022 - precision_6: 0.7078 - val_loss: 0.5667 - val_accuracy: 0.7079 - val_recall_6: 0.4203 - val_precision_6: 0.7073\n",
      "Epoch 65/100\n",
      "23/23 [==============================] - 0s 9ms/step - loss: 0.5665 - accuracy: 0.7173 - recall_6: 0.4022 - precision_6: 0.7365 - val_loss: 0.5663 - val_accuracy: 0.7303 - val_recall_6: 0.4928 - val_precision_6: 0.7234\n",
      "Epoch 66/100\n",
      "23/23 [==============================] - 0s 9ms/step - loss: 0.5666 - accuracy: 0.7187 - recall_6: 0.3948 - precision_6: 0.7483 - val_loss: 0.5657 - val_accuracy: 0.7247 - val_recall_6: 0.4783 - val_precision_6: 0.7174\n",
      "Epoch 67/100\n",
      "23/23 [==============================] - 0s 9ms/step - loss: 0.5658 - accuracy: 0.7131 - recall_6: 0.3801 - precision_6: 0.7410 - val_loss: 0.5667 - val_accuracy: 0.7303 - val_recall_6: 0.4928 - val_precision_6: 0.7234\n",
      "Epoch 68/100\n",
      "23/23 [==============================] - 0s 9ms/step - loss: 0.5649 - accuracy: 0.7201 - recall_6: 0.4244 - precision_6: 0.7278 - val_loss: 0.5646 - val_accuracy: 0.7135 - val_recall_6: 0.4203 - val_precision_6: 0.7250\n",
      "Epoch 69/100\n",
      "23/23 [==============================] - 0s 9ms/step - loss: 0.5656 - accuracy: 0.7159 - recall_6: 0.4096 - precision_6: 0.7255 - val_loss: 0.5631 - val_accuracy: 0.7303 - val_recall_6: 0.4928 - val_precision_6: 0.7234\n",
      "Epoch 70/100\n",
      "23/23 [==============================] - 0s 9ms/step - loss: 0.5640 - accuracy: 0.7159 - recall_6: 0.3911 - precision_6: 0.7413 - val_loss: 0.5654 - val_accuracy: 0.7303 - val_recall_6: 0.4928 - val_precision_6: 0.7234\n",
      "Epoch 71/100\n",
      "23/23 [==============================] - 0s 9ms/step - loss: 0.5636 - accuracy: 0.7201 - recall_6: 0.4244 - precision_6: 0.7278 - val_loss: 0.5602 - val_accuracy: 0.7247 - val_recall_6: 0.4638 - val_precision_6: 0.7273\n",
      "Epoch 72/100\n"
     ]
    },
    {
     "name": "stdout",
     "output_type": "stream",
     "text": [
      "23/23 [==============================] - 0s 9ms/step - loss: 0.5620 - accuracy: 0.7229 - recall_6: 0.3948 - precision_6: 0.7643 - val_loss: 0.5643 - val_accuracy: 0.7416 - val_recall_6: 0.5217 - val_precision_6: 0.7347\n",
      "Epoch 73/100\n",
      "23/23 [==============================] - 0s 9ms/step - loss: 0.5604 - accuracy: 0.7173 - recall_6: 0.4391 - precision_6: 0.7083 - val_loss: 0.5595 - val_accuracy: 0.7191 - val_recall_6: 0.4493 - val_precision_6: 0.7209\n",
      "Epoch 74/100\n",
      "23/23 [==============================] - 0s 9ms/step - loss: 0.5653 - accuracy: 0.7159 - recall_6: 0.3838 - precision_6: 0.7482 - val_loss: 0.5712 - val_accuracy: 0.7360 - val_recall_6: 0.5507 - val_precision_6: 0.7037\n",
      "Epoch 75/100\n",
      "23/23 [==============================] - 0s 9ms/step - loss: 0.5650 - accuracy: 0.7103 - recall_6: 0.4280 - precision_6: 0.6946 - val_loss: 0.5588 - val_accuracy: 0.7191 - val_recall_6: 0.4493 - val_precision_6: 0.7209\n",
      "Epoch 76/100\n",
      "23/23 [==============================] - 0s 9ms/step - loss: 0.5595 - accuracy: 0.7243 - recall_6: 0.4059 - precision_6: 0.7586 - val_loss: 0.5592 - val_accuracy: 0.7303 - val_recall_6: 0.4783 - val_precision_6: 0.7333\n",
      "Epoch 77/100\n",
      "23/23 [==============================] - 0s 9ms/step - loss: 0.5588 - accuracy: 0.7201 - recall_6: 0.4207 - precision_6: 0.7308 - val_loss: 0.5594 - val_accuracy: 0.7191 - val_recall_6: 0.4493 - val_precision_6: 0.7209\n",
      "Epoch 78/100\n",
      "23/23 [==============================] - 0s 9ms/step - loss: 0.5575 - accuracy: 0.7271 - recall_6: 0.3985 - precision_6: 0.7770 - val_loss: 0.5604 - val_accuracy: 0.7528 - val_recall_6: 0.5362 - val_precision_6: 0.7551\n",
      "Epoch 79/100\n",
      "23/23 [==============================] - 0s 9ms/step - loss: 0.5580 - accuracy: 0.7201 - recall_6: 0.4244 - precision_6: 0.7278 - val_loss: 0.5576 - val_accuracy: 0.7191 - val_recall_6: 0.4493 - val_precision_6: 0.7209\n",
      "Epoch 80/100\n",
      "23/23 [==============================] - 0s 9ms/step - loss: 0.5576 - accuracy: 0.7229 - recall_6: 0.4133 - precision_6: 0.7467 - val_loss: 0.5587 - val_accuracy: 0.7303 - val_recall_6: 0.4928 - val_precision_6: 0.7234\n",
      "Epoch 81/100\n",
      "23/23 [==============================] - 0s 9ms/step - loss: 0.5552 - accuracy: 0.7201 - recall_6: 0.4391 - precision_6: 0.7169 - val_loss: 0.5568 - val_accuracy: 0.7191 - val_recall_6: 0.4493 - val_precision_6: 0.7209\n",
      "Epoch 82/100\n",
      "23/23 [==============================] - 0s 9ms/step - loss: 0.5536 - accuracy: 0.7187 - recall_6: 0.4170 - precision_6: 0.7290 - val_loss: 0.5559 - val_accuracy: 0.7416 - val_recall_6: 0.5072 - val_precision_6: 0.7447\n",
      "Epoch 83/100\n",
      "23/23 [==============================] - 0s 9ms/step - loss: 0.5575 - accuracy: 0.7271 - recall_6: 0.4133 - precision_6: 0.7619 - val_loss: 0.5529 - val_accuracy: 0.7303 - val_recall_6: 0.4783 - val_precision_6: 0.7333\n",
      "Epoch 84/100\n",
      "23/23 [==============================] - 0s 9ms/step - loss: 0.5524 - accuracy: 0.7187 - recall_6: 0.4280 - precision_6: 0.7205 - val_loss: 0.5550 - val_accuracy: 0.7360 - val_recall_6: 0.4928 - val_precision_6: 0.7391\n",
      "Epoch 85/100\n",
      "23/23 [==============================] - 0s 9ms/step - loss: 0.5559 - accuracy: 0.7173 - recall_6: 0.4133 - precision_6: 0.7273 - val_loss: 0.5536 - val_accuracy: 0.7247 - val_recall_6: 0.4493 - val_precision_6: 0.7381\n",
      "Epoch 86/100\n",
      "23/23 [==============================] - 0s 9ms/step - loss: 0.5518 - accuracy: 0.7229 - recall_6: 0.4391 - precision_6: 0.7256 - val_loss: 0.5520 - val_accuracy: 0.7303 - val_recall_6: 0.4783 - val_precision_6: 0.7333\n",
      "Epoch 87/100\n",
      "23/23 [==============================] - 0s 9ms/step - loss: 0.5515 - accuracy: 0.7187 - recall_6: 0.4207 - precision_6: 0.7261 - val_loss: 0.5517 - val_accuracy: 0.7303 - val_recall_6: 0.4783 - val_precision_6: 0.7333\n",
      "Epoch 88/100\n",
      "23/23 [==============================] - 0s 9ms/step - loss: 0.5489 - accuracy: 0.7229 - recall_6: 0.4059 - precision_6: 0.7534 - val_loss: 0.5517 - val_accuracy: 0.7472 - val_recall_6: 0.5217 - val_precision_6: 0.7500\n",
      "Epoch 89/100\n",
      "23/23 [==============================] - 0s 9ms/step - loss: 0.5474 - accuracy: 0.7271 - recall_6: 0.4465 - precision_6: 0.7333 - val_loss: 0.5509 - val_accuracy: 0.7247 - val_recall_6: 0.4493 - val_precision_6: 0.7381\n",
      "Epoch 90/100\n",
      "23/23 [==============================] - 0s 8ms/step - loss: 0.5513 - accuracy: 0.7187 - recall_6: 0.3948 - precision_6: 0.7483 - val_loss: 0.5503 - val_accuracy: 0.7416 - val_recall_6: 0.5072 - val_precision_6: 0.7447\n",
      "Epoch 91/100\n",
      "23/23 [==============================] - 0s 9ms/step - loss: 0.5478 - accuracy: 0.7314 - recall_6: 0.4502 - precision_6: 0.7439 - val_loss: 0.5483 - val_accuracy: 0.7303 - val_recall_6: 0.4783 - val_precision_6: 0.7333\n",
      "Epoch 92/100\n",
      "23/23 [==============================] - 0s 9ms/step - loss: 0.5462 - accuracy: 0.7201 - recall_6: 0.4170 - precision_6: 0.7338 - val_loss: 0.5473 - val_accuracy: 0.7416 - val_recall_6: 0.5072 - val_precision_6: 0.7447\n",
      "Epoch 93/100\n",
      "23/23 [==============================] - 0s 9ms/step - loss: 0.5544 - accuracy: 0.7201 - recall_6: 0.4502 - precision_6: 0.7093 - val_loss: 0.5517 - val_accuracy: 0.7247 - val_recall_6: 0.4348 - val_precision_6: 0.7500\n",
      "Epoch 94/100\n",
      "23/23 [==============================] - 0s 9ms/step - loss: 0.5430 - accuracy: 0.7314 - recall_6: 0.4354 - precision_6: 0.7564 - val_loss: 0.5539 - val_accuracy: 0.7528 - val_recall_6: 0.5797 - val_precision_6: 0.7273\n",
      "Epoch 95/100\n",
      "23/23 [==============================] - 0s 9ms/step - loss: 0.5453 - accuracy: 0.7300 - recall_6: 0.4354 - precision_6: 0.7516 - val_loss: 0.5527 - val_accuracy: 0.7584 - val_recall_6: 0.5797 - val_precision_6: 0.7407\n",
      "Epoch 96/100\n",
      "23/23 [==============================] - 0s 9ms/step - loss: 0.5514 - accuracy: 0.7286 - recall_6: 0.4613 - precision_6: 0.7267 - val_loss: 0.5449 - val_accuracy: 0.7360 - val_recall_6: 0.4928 - val_precision_6: 0.7391\n",
      "Epoch 97/100\n",
      "23/23 [==============================] - 0s 9ms/step - loss: 0.5441 - accuracy: 0.7257 - recall_6: 0.4391 - precision_6: 0.7346 - val_loss: 0.5465 - val_accuracy: 0.7360 - val_recall_6: 0.4783 - val_precision_6: 0.7500\n",
      "Epoch 98/100\n",
      "23/23 [==============================] - 0s 9ms/step - loss: 0.5410 - accuracy: 0.7286 - recall_6: 0.4280 - precision_6: 0.7532 - val_loss: 0.5485 - val_accuracy: 0.7697 - val_recall_6: 0.6087 - val_precision_6: 0.7500\n",
      "Epoch 99/100\n",
      "23/23 [==============================] - 0s 8ms/step - loss: 0.5395 - accuracy: 0.7229 - recall_6: 0.4354 - precision_6: 0.7284 - val_loss: 0.5456 - val_accuracy: 0.7303 - val_recall_6: 0.4783 - val_precision_6: 0.7333\n",
      "Epoch 100/100\n",
      "23/23 [==============================] - 0s 9ms/step - loss: 0.5399 - accuracy: 0.7271 - recall_6: 0.4244 - precision_6: 0.7516 - val_loss: 0.5431 - val_accuracy: 0.7472 - val_recall_6: 0.5217 - val_precision_6: 0.7500\n"
     ]
    }
   ],
   "source": [
    "# Set random seed\n",
    "tf.random.set_seed(42)\n",
    "\n",
    "# Create a model\n",
    "model2 = Sequential([\n",
    "    Dense(100, activation=\"relu\"),\n",
    "    Dense(10, activation=\"relu\"),\n",
    "    Dense(1, activation=\"sigmoid\")\n",
    "])\n",
    "\n",
    "# Compiling the model\n",
    "model2.compile(\n",
    "    loss = \"binary_crossentropy\",\n",
    "    optimizer = tf.keras.optimizers.Adam(),\n",
    "    metrics = [\"accuracy\", tf.keras.metrics.Recall(), tf.keras.metrics.Precision()]\n",
    ")\n",
    "\n",
    "# Fit the model\n",
    "hist2 = model2.fit(\n",
    "    X_train, \n",
    "    y_train,\n",
    "    validation_data = (X_val, y_val),\n",
    "    epochs = 100\n",
    ")"
   ]
  },
  {
   "cell_type": "markdown",
   "metadata": {},
   "source": [
    "## Evaluating the second model"
   ]
  },
  {
   "cell_type": "code",
   "execution_count": 78,
   "metadata": {},
   "outputs": [
    {
     "name": "stdout",
     "output_type": "stream",
     "text": [
      "6/6 [==============================] - 0s 7ms/step - loss: 0.5431 - accuracy: 0.7472 - recall_6: 0.5217 - precision_6: 0.7500\n"
     ]
    },
    {
     "data": {
      "text/plain": [
       "[0.5430610179901123, 0.7471910119056702, 0.52173912525177, 0.75]"
      ]
     },
     "execution_count": 78,
     "metadata": {},
     "output_type": "execute_result"
    }
   ],
   "source": [
    "model2.evaluate(X_val, y_val)"
   ]
  },
  {
   "cell_type": "code",
   "execution_count": 79,
   "metadata": {},
   "outputs": [
    {
     "data": {
      "text/html": [
       "<div>\n",
       "<style scoped>\n",
       "    .dataframe tbody tr th:only-of-type {\n",
       "        vertical-align: middle;\n",
       "    }\n",
       "\n",
       "    .dataframe tbody tr th {\n",
       "        vertical-align: top;\n",
       "    }\n",
       "\n",
       "    .dataframe thead th {\n",
       "        text-align: right;\n",
       "    }\n",
       "</style>\n",
       "<table border=\"1\" class=\"dataframe\">\n",
       "  <thead>\n",
       "    <tr style=\"text-align: right;\">\n",
       "      <th></th>\n",
       "      <th>loss</th>\n",
       "      <th>accuracy</th>\n",
       "      <th>recall_6</th>\n",
       "      <th>precision_6</th>\n",
       "      <th>val_loss</th>\n",
       "      <th>val_accuracy</th>\n",
       "      <th>val_recall_6</th>\n",
       "      <th>val_precision_6</th>\n",
       "    </tr>\n",
       "  </thead>\n",
       "  <tbody>\n",
       "    <tr>\n",
       "      <th>0</th>\n",
       "      <td>0.692280</td>\n",
       "      <td>0.542897</td>\n",
       "      <td>0.509225</td>\n",
       "      <td>0.418182</td>\n",
       "      <td>0.680632</td>\n",
       "      <td>0.657303</td>\n",
       "      <td>0.246377</td>\n",
       "      <td>0.653846</td>\n",
       "    </tr>\n",
       "    <tr>\n",
       "      <th>1</th>\n",
       "      <td>0.668253</td>\n",
       "      <td>0.662447</td>\n",
       "      <td>0.166052</td>\n",
       "      <td>0.762712</td>\n",
       "      <td>0.654912</td>\n",
       "      <td>0.646067</td>\n",
       "      <td>0.231884</td>\n",
       "      <td>0.615385</td>\n",
       "    </tr>\n",
       "    <tr>\n",
       "      <th>2</th>\n",
       "      <td>0.645573</td>\n",
       "      <td>0.670886</td>\n",
       "      <td>0.199262</td>\n",
       "      <td>0.760563</td>\n",
       "      <td>0.635829</td>\n",
       "      <td>0.668539</td>\n",
       "      <td>0.289855</td>\n",
       "      <td>0.666667</td>\n",
       "    </tr>\n",
       "  </tbody>\n",
       "</table>\n",
       "</div>"
      ],
      "text/plain": [
       "       loss  accuracy  recall_6  precision_6  val_loss  val_accuracy  \\\n",
       "0  0.692280  0.542897  0.509225     0.418182  0.680632      0.657303   \n",
       "1  0.668253  0.662447  0.166052     0.762712  0.654912      0.646067   \n",
       "2  0.645573  0.670886  0.199262     0.760563  0.635829      0.668539   \n",
       "\n",
       "   val_recall_6  val_precision_6  \n",
       "0      0.246377         0.653846  \n",
       "1      0.231884         0.615385  \n",
       "2      0.289855         0.666667  "
      ]
     },
     "execution_count": 79,
     "metadata": {},
     "output_type": "execute_result"
    }
   ],
   "source": [
    "# Evaluating the model's training\n",
    "hist2_df = pd.DataFrame(hist2.history)\n",
    "hist2_df[:3]"
   ]
  },
  {
   "cell_type": "code",
   "execution_count": 84,
   "metadata": {},
   "outputs": [
    {
     "data": {
      "image/png": "[encoded data removed]",
      "text/plain": [
       "<Figure size 720x504 with 1 Axes>"
      ]
     },
     "metadata": {
      "needs_background": "light"
     },
     "output_type": "display_data"
    }
   ],
   "source": [
    "plot_loss_accuracy(hist2_df[\"loss\"],hist2_df[\"accuracy\"],hist2_df[\"val_loss\"],hist2_df[\"val_accuracy\"])"
   ]
  },
  {
   "cell_type": "code",
   "execution_count": 85,
   "metadata": {},
   "outputs": [
    {
     "data": {
      "image/png": "[encoded data removed]",
      "text/plain": [
       "<Figure size 720x504 with 1 Axes>"
      ]
     },
     "metadata": {
      "needs_background": "light"
     },
     "output_type": "display_data"
    }
   ],
   "source": [
    "plot_precisions_recalls(hist2_df[\"precision_6\"],hist2_df[\"recall_6\"],hist2_df[\"val_precision_6\"],hist2_df[\"val_recall_6\"])"
   ]
  },
  {
   "cell_type": "markdown",
   "metadata": {},
   "source": [
    "## Finding the best learning rate\n"
   ]
  },
  {
   "cell_type": "code",
   "execution_count": 86,
   "metadata": {},
   "outputs": [
    {
     "name": "stdout",
     "output_type": "stream",
     "text": [
      "Epoch 1/100\n",
      " 7/23 [========>.....................] - ETA: 0s - loss: 0.7032 - accuracy: 0.3795 - recall_7: 0.9759 - precision_7: 0.3716 "
     ]
    },
    {
     "name": "stderr",
     "output_type": "stream",
     "text": [
      "2022-06-06 18:47:38.515227: I tensorflow/core/grappler/optimizers/custom_graph_optimizer_registry.cc:113] Plugin optimizer for device_type GPU is enabled.\n"
     ]
    },
    {
     "name": "stdout",
     "output_type": "stream",
     "text": [
      "23/23 [==============================] - 1s 22ms/step - loss: 0.6923 - accuracy: 0.5429 - recall_7: 0.5092 - precision_7: 0.4182 - val_loss: 0.6806 - val_accuracy: 0.6573 - val_recall_7: 0.2464 - val_precision_7: 0.6538 - lr: 0.0010\n",
      "Epoch 2/100\n",
      " 1/23 [>.............................] - ETA: 0s - loss: 0.6904 - accuracy: 0.5938 - recall_7: 0.0000e+00 - precision_7: 0.0000e+00"
     ]
    },
    {
     "name": "stderr",
     "output_type": "stream",
     "text": [
      "2022-06-06 18:47:38.983102: I tensorflow/core/grappler/optimizers/custom_graph_optimizer_registry.cc:113] Plugin optimizer for device_type GPU is enabled.\n"
     ]
    },
    {
     "name": "stdout",
     "output_type": "stream",
     "text": [
      "23/23 [==============================] - 0s 10ms/step - loss: 0.6671 - accuracy: 0.6624 - recall_7: 0.1624 - precision_7: 0.7719 - val_loss: 0.6525 - val_accuracy: 0.6404 - val_recall_7: 0.2174 - val_precision_7: 0.6000 - lr: 0.0011\n",
      "Epoch 3/100\n",
      "23/23 [==============================] - 0s 9ms/step - loss: 0.6422 - accuracy: 0.6723 - recall_7: 0.2030 - precision_7: 0.7639 - val_loss: 0.6319 - val_accuracy: 0.6629 - val_recall_7: 0.2899 - val_precision_7: 0.6452 - lr: 0.0013\n",
      "Epoch 4/100\n",
      "23/23 [==============================] - 0s 9ms/step - loss: 0.6252 - accuracy: 0.6695 - recall_7: 0.2399 - precision_7: 0.6915 - val_loss: 0.6217 - val_accuracy: 0.6742 - val_recall_7: 0.3188 - val_precision_7: 0.6667 - lr: 0.0014\n",
      "Epoch 5/100\n",
      "23/23 [==============================] - 0s 9ms/step - loss: 0.6185 - accuracy: 0.6779 - recall_7: 0.2583 - precision_7: 0.7143 - val_loss: 0.6156 - val_accuracy: 0.6685 - val_recall_7: 0.3043 - val_precision_7: 0.6562 - lr: 0.0016\n",
      "Epoch 6/100\n",
      "23/23 [==============================] - 0s 10ms/step - loss: 0.6114 - accuracy: 0.6821 - recall_7: 0.2694 - precision_7: 0.7228 - val_loss: 0.6125 - val_accuracy: 0.6798 - val_recall_7: 0.3333 - val_precision_7: 0.6765 - lr: 0.0018\n",
      "Epoch 7/100\n",
      "23/23 [==============================] - 0s 10ms/step - loss: 0.6081 - accuracy: 0.6835 - recall_7: 0.2841 - precision_7: 0.7130 - val_loss: 0.6104 - val_accuracy: 0.6798 - val_recall_7: 0.3333 - val_precision_7: 0.6765 - lr: 0.0020\n",
      "Epoch 8/100\n",
      "23/23 [==============================] - 0s 9ms/step - loss: 0.6092 - accuracy: 0.6892 - recall_7: 0.2841 - precision_7: 0.7404 - val_loss: 0.6088 - val_accuracy: 0.7022 - val_recall_7: 0.3913 - val_precision_7: 0.7105 - lr: 0.0022\n",
      "Epoch 9/100\n",
      "23/23 [==============================] - 0s 10ms/step - loss: 0.6052 - accuracy: 0.6934 - recall_7: 0.3063 - precision_7: 0.7345 - val_loss: 0.6073 - val_accuracy: 0.6966 - val_recall_7: 0.3768 - val_precision_7: 0.7027 - lr: 0.0025\n",
      "Epoch 10/100\n",
      "23/23 [==============================] - 0s 9ms/step - loss: 0.6025 - accuracy: 0.6948 - recall_7: 0.3173 - precision_7: 0.7288 - val_loss: 0.6002 - val_accuracy: 0.6742 - val_recall_7: 0.3188 - val_precision_7: 0.6667 - lr: 0.0028\n",
      "Epoch 11/100\n",
      "23/23 [==============================] - 0s 9ms/step - loss: 0.6039 - accuracy: 0.6906 - recall_7: 0.3137 - precision_7: 0.7143 - val_loss: 0.5976 - val_accuracy: 0.6798 - val_recall_7: 0.3333 - val_precision_7: 0.6765 - lr: 0.0032\n",
      "Epoch 12/100\n",
      "23/23 [==============================] - 0s 10ms/step - loss: 0.6030 - accuracy: 0.6934 - recall_7: 0.3358 - precision_7: 0.7054 - val_loss: 0.5956 - val_accuracy: 0.7135 - val_recall_7: 0.4203 - val_precision_7: 0.7250 - lr: 0.0035\n",
      "Epoch 13/100\n",
      "23/23 [==============================] - 0s 9ms/step - loss: 0.6026 - accuracy: 0.6892 - recall_7: 0.3210 - precision_7: 0.7016 - val_loss: 0.5944 - val_accuracy: 0.7135 - val_recall_7: 0.4493 - val_precision_7: 0.7045 - lr: 0.0040\n",
      "Epoch 14/100\n",
      "23/23 [==============================] - 0s 9ms/step - loss: 0.5955 - accuracy: 0.7032 - recall_7: 0.3358 - precision_7: 0.7459 - val_loss: 0.5916 - val_accuracy: 0.7079 - val_recall_7: 0.4493 - val_precision_7: 0.6889 - lr: 0.0045\n",
      "Epoch 15/100\n",
      "23/23 [==============================] - 0s 9ms/step - loss: 0.5904 - accuracy: 0.6990 - recall_7: 0.3542 - precision_7: 0.7111 - val_loss: 0.5882 - val_accuracy: 0.7135 - val_recall_7: 0.4203 - val_precision_7: 0.7250 - lr: 0.0050\n",
      "Epoch 16/100\n",
      "23/23 [==============================] - 0s 10ms/step - loss: 0.5921 - accuracy: 0.7032 - recall_7: 0.3690 - precision_7: 0.7143 - val_loss: 0.5867 - val_accuracy: 0.7135 - val_recall_7: 0.4058 - val_precision_7: 0.7368 - lr: 0.0056\n",
      "Epoch 17/100\n",
      "23/23 [==============================] - 0s 9ms/step - loss: 0.5861 - accuracy: 0.7075 - recall_7: 0.3690 - precision_7: 0.7299 - val_loss: 0.5774 - val_accuracy: 0.7135 - val_recall_7: 0.4493 - val_precision_7: 0.7045 - lr: 0.0063\n",
      "Epoch 18/100\n",
      "23/23 [==============================] - 0s 9ms/step - loss: 0.5986 - accuracy: 0.6920 - recall_7: 0.3727 - precision_7: 0.6733 - val_loss: 0.6191 - val_accuracy: 0.7022 - val_recall_7: 0.6377 - val_precision_7: 0.6111 - lr: 0.0071\n",
      "Epoch 19/100\n",
      "23/23 [==============================] - 0s 9ms/step - loss: 0.6030 - accuracy: 0.6948 - recall_7: 0.3875 - precision_7: 0.6731 - val_loss: 0.5926 - val_accuracy: 0.7135 - val_recall_7: 0.4928 - val_precision_7: 0.6800 - lr: 0.0079\n",
      "Epoch 20/100\n",
      "23/23 [==============================] - 0s 9ms/step - loss: 0.5899 - accuracy: 0.6962 - recall_7: 0.3764 - precision_7: 0.6846 - val_loss: 0.5775 - val_accuracy: 0.7191 - val_recall_7: 0.3913 - val_precision_7: 0.7714 - lr: 0.0089\n",
      "Epoch 21/100\n",
      "23/23 [==============================] - 0s 9ms/step - loss: 0.5826 - accuracy: 0.7187 - recall_7: 0.4059 - precision_7: 0.7383 - val_loss: 0.5844 - val_accuracy: 0.7135 - val_recall_7: 0.4493 - val_precision_7: 0.7045 - lr: 0.0100\n",
      "Epoch 22/100\n",
      "23/23 [==============================] - 0s 10ms/step - loss: 0.5957 - accuracy: 0.7004 - recall_7: 0.4096 - precision_7: 0.6768 - val_loss: 0.5737 - val_accuracy: 0.7247 - val_recall_7: 0.4493 - val_precision_7: 0.7381 - lr: 0.0112\n",
      "Epoch 23/100\n",
      "23/23 [==============================] - 0s 9ms/step - loss: 0.5963 - accuracy: 0.6990 - recall_7: 0.3838 - precision_7: 0.6887 - val_loss: 0.5863 - val_accuracy: 0.6966 - val_recall_7: 0.3623 - val_precision_7: 0.7143 - lr: 0.0126\n",
      "Epoch 24/100\n",
      "23/23 [==============================] - 0s 10ms/step - loss: 0.6141 - accuracy: 0.6709 - recall_7: 0.3542 - precision_7: 0.6194 - val_loss: 0.6012 - val_accuracy: 0.6742 - val_recall_7: 0.2754 - val_precision_7: 0.7037 - lr: 0.0141\n",
      "Epoch 25/100\n",
      "23/23 [==============================] - 0s 9ms/step - loss: 0.6008 - accuracy: 0.6976 - recall_7: 0.3506 - precision_7: 0.7090 - val_loss: 0.6274 - val_accuracy: 0.7416 - val_recall_7: 0.5797 - val_precision_7: 0.7018 - lr: 0.0158\n",
      "Epoch 26/100\n",
      "23/23 [==============================] - 0s 9ms/step - loss: 0.5993 - accuracy: 0.6976 - recall_7: 0.3838 - precision_7: 0.6842 - val_loss: 0.6120 - val_accuracy: 0.7022 - val_recall_7: 0.6377 - val_precision_7: 0.6111 - lr: 0.0178\n",
      "Epoch 27/100\n",
      "23/23 [==============================] - 0s 9ms/step - loss: 0.5883 - accuracy: 0.6948 - recall_7: 0.4133 - precision_7: 0.6588 - val_loss: 0.5887 - val_accuracy: 0.7303 - val_recall_7: 0.6087 - val_precision_7: 0.6667 - lr: 0.0200\n",
      "Epoch 28/100\n",
      "23/23 [==============================] - 0s 9ms/step - loss: 0.5965 - accuracy: 0.7004 - recall_7: 0.4059 - precision_7: 0.6790 - val_loss: 0.6045 - val_accuracy: 0.7303 - val_recall_7: 0.5072 - val_precision_7: 0.7143 - lr: 0.0224\n",
      "Epoch 29/100\n",
      "23/23 [==============================] - 0s 9ms/step - loss: 0.5822 - accuracy: 0.7117 - recall_7: 0.3653 - precision_7: 0.7500 - val_loss: 0.5740 - val_accuracy: 0.7191 - val_recall_7: 0.3768 - val_precision_7: 0.7879 - lr: 0.0251\n",
      "Epoch 30/100\n",
      "23/23 [==============================] - 0s 9ms/step - loss: 0.5788 - accuracy: 0.7243 - recall_7: 0.4207 - precision_7: 0.7451 - val_loss: 0.5642 - val_accuracy: 0.7303 - val_recall_7: 0.4493 - val_precision_7: 0.7561 - lr: 0.0282\n",
      "Epoch 31/100\n",
      "23/23 [==============================] - 0s 9ms/step - loss: 0.6007 - accuracy: 0.7187 - recall_7: 0.4723 - precision_7: 0.6919 - val_loss: 0.6334 - val_accuracy: 0.6854 - val_recall_7: 0.3043 - val_precision_7: 0.7241 - lr: 0.0316\n",
      "Epoch 32/100\n",
      "23/23 [==============================] - 0s 9ms/step - loss: 0.6095 - accuracy: 0.7004 - recall_7: 0.3653 - precision_7: 0.7071 - val_loss: 0.6016 - val_accuracy: 0.7135 - val_recall_7: 0.4493 - val_precision_7: 0.7045 - lr: 0.0355\n",
      "Epoch 33/100\n",
      "23/23 [==============================] - 0s 9ms/step - loss: 0.6015 - accuracy: 0.6934 - recall_7: 0.3469 - precision_7: 0.6963 - val_loss: 0.5748 - val_accuracy: 0.7191 - val_recall_7: 0.3623 - val_precision_7: 0.8065 - lr: 0.0398\n",
      "Epoch 34/100\n",
      "23/23 [==============================] - 0s 9ms/step - loss: 0.6007 - accuracy: 0.6934 - recall_7: 0.3875 - precision_7: 0.6688 - val_loss: 0.5756 - val_accuracy: 0.7135 - val_recall_7: 0.4058 - val_precision_7: 0.7368 - lr: 0.0447\n",
      "Epoch 35/100\n"
     ]
    },
    {
     "name": "stdout",
     "output_type": "stream",
     "text": [
      "23/23 [==============================] - 0s 9ms/step - loss: 0.5808 - accuracy: 0.7089 - recall_7: 0.3506 - precision_7: 0.7540 - val_loss: 0.6448 - val_accuracy: 0.7191 - val_recall_7: 0.6812 - val_precision_7: 0.6267 - lr: 0.0501\n",
      "Epoch 36/100\n",
      "23/23 [==============================] - 0s 9ms/step - loss: 0.6314 - accuracy: 0.6821 - recall_7: 0.3358 - precision_7: 0.6642 - val_loss: 0.5957 - val_accuracy: 0.7079 - val_recall_7: 0.3913 - val_precision_7: 0.7297 - lr: 0.0562\n",
      "Epoch 37/100\n",
      "23/23 [==============================] - 0s 9ms/step - loss: 0.5716 - accuracy: 0.7173 - recall_7: 0.3801 - precision_7: 0.7574 - val_loss: 0.6180 - val_accuracy: 0.7360 - val_recall_7: 0.5072 - val_precision_7: 0.7292 - lr: 0.0631\n",
      "Epoch 38/100\n",
      "23/23 [==============================] - 0s 10ms/step - loss: 0.5849 - accuracy: 0.7314 - recall_7: 0.4280 - precision_7: 0.7632 - val_loss: 0.5516 - val_accuracy: 0.7360 - val_recall_7: 0.4783 - val_precision_7: 0.7500 - lr: 0.0708\n",
      "Epoch 39/100\n",
      "23/23 [==============================] - 0s 9ms/step - loss: 0.5689 - accuracy: 0.7271 - recall_7: 0.4391 - precision_7: 0.7391 - val_loss: 0.5517 - val_accuracy: 0.7247 - val_recall_7: 0.4058 - val_precision_7: 0.7778 - lr: 0.0794\n",
      "Epoch 40/100\n",
      "23/23 [==============================] - 0s 9ms/step - loss: 0.6677 - accuracy: 0.6188 - recall_7: 0.0923 - precision_7: 0.5000 - val_loss: 0.6691 - val_accuracy: 0.6124 - val_recall_7: 0.0000e+00 - val_precision_7: 0.0000e+00 - lr: 0.0891\n",
      "Epoch 41/100\n",
      "23/23 [==============================] - 0s 9ms/step - loss: 0.6662 - accuracy: 0.6188 - recall_7: 0.0000e+00 - precision_7: 0.0000e+00 - val_loss: 0.6679 - val_accuracy: 0.6124 - val_recall_7: 0.0000e+00 - val_precision_7: 0.0000e+00 - lr: 0.1000\n",
      "Epoch 42/100\n",
      "23/23 [==============================] - 0s 9ms/step - loss: 0.6662 - accuracy: 0.6188 - recall_7: 0.0000e+00 - precision_7: 0.0000e+00 - val_loss: 0.6680 - val_accuracy: 0.6124 - val_recall_7: 0.0000e+00 - val_precision_7: 0.0000e+00 - lr: 0.1122\n",
      "Epoch 43/100\n",
      "23/23 [==============================] - 0s 9ms/step - loss: 0.6668 - accuracy: 0.6188 - recall_7: 0.0000e+00 - precision_7: 0.0000e+00 - val_loss: 0.6687 - val_accuracy: 0.6124 - val_recall_7: 0.0000e+00 - val_precision_7: 0.0000e+00 - lr: 0.1259\n",
      "Epoch 44/100\n",
      "23/23 [==============================] - 0s 9ms/step - loss: 0.6666 - accuracy: 0.6188 - recall_7: 0.0000e+00 - precision_7: 0.0000e+00 - val_loss: 0.6686 - val_accuracy: 0.6124 - val_recall_7: 0.0000e+00 - val_precision_7: 0.0000e+00 - lr: 0.1413\n",
      "Epoch 45/100\n",
      "23/23 [==============================] - 0s 9ms/step - loss: 0.6721 - accuracy: 0.6188 - recall_7: 0.0000e+00 - precision_7: 0.0000e+00 - val_loss: 0.6691 - val_accuracy: 0.6124 - val_recall_7: 0.0000e+00 - val_precision_7: 0.0000e+00 - lr: 0.1585\n",
      "Epoch 46/100\n",
      "23/23 [==============================] - 0s 9ms/step - loss: 0.6664 - accuracy: 0.6188 - recall_7: 0.0000e+00 - precision_7: 0.0000e+00 - val_loss: 0.6680 - val_accuracy: 0.6124 - val_recall_7: 0.0000e+00 - val_precision_7: 0.0000e+00 - lr: 0.1778\n",
      "Epoch 47/100\n",
      "23/23 [==============================] - 0s 9ms/step - loss: 0.6676 - accuracy: 0.6188 - recall_7: 0.0000e+00 - precision_7: 0.0000e+00 - val_loss: 0.6698 - val_accuracy: 0.6124 - val_recall_7: 0.0000e+00 - val_precision_7: 0.0000e+00 - lr: 0.1995\n",
      "Epoch 48/100\n",
      "23/23 [==============================] - 0s 9ms/step - loss: 0.6784 - accuracy: 0.6188 - recall_7: 0.0000e+00 - precision_7: 0.0000e+00 - val_loss: 0.6677 - val_accuracy: 0.6124 - val_recall_7: 0.0000e+00 - val_precision_7: 0.0000e+00 - lr: 0.2239\n",
      "Epoch 49/100\n",
      "23/23 [==============================] - 0s 9ms/step - loss: 0.6705 - accuracy: 0.6188 - recall_7: 0.0000e+00 - precision_7: 0.0000e+00 - val_loss: 0.6733 - val_accuracy: 0.6124 - val_recall_7: 0.0000e+00 - val_precision_7: 0.0000e+00 - lr: 0.2512\n",
      "Epoch 50/100\n",
      "23/23 [==============================] - 0s 9ms/step - loss: 0.6682 - accuracy: 0.6188 - recall_7: 0.0000e+00 - precision_7: 0.0000e+00 - val_loss: 0.6677 - val_accuracy: 0.6124 - val_recall_7: 0.0000e+00 - val_precision_7: 0.0000e+00 - lr: 0.2818\n",
      "Epoch 51/100\n",
      "23/23 [==============================] - 0s 10ms/step - loss: 0.6710 - accuracy: 0.6188 - recall_7: 0.0000e+00 - precision_7: 0.0000e+00 - val_loss: 0.6798 - val_accuracy: 0.6124 - val_recall_7: 0.0000e+00 - val_precision_7: 0.0000e+00 - lr: 0.3162\n",
      "Epoch 52/100\n",
      "23/23 [==============================] - 0s 9ms/step - loss: 0.6749 - accuracy: 0.6188 - recall_7: 0.0000e+00 - precision_7: 0.0000e+00 - val_loss: 0.6686 - val_accuracy: 0.6124 - val_recall_7: 0.0000e+00 - val_precision_7: 0.0000e+00 - lr: 0.3548\n",
      "Epoch 53/100\n",
      "23/23 [==============================] - 0s 9ms/step - loss: 0.6656 - accuracy: 0.6188 - recall_7: 0.0000e+00 - precision_7: 0.0000e+00 - val_loss: 0.6702 - val_accuracy: 0.6124 - val_recall_7: 0.0000e+00 - val_precision_7: 0.0000e+00 - lr: 0.3981\n",
      "Epoch 54/100\n",
      "23/23 [==============================] - 0s 9ms/step - loss: 0.6706 - accuracy: 0.6188 - recall_7: 0.0000e+00 - precision_7: 0.0000e+00 - val_loss: 0.6680 - val_accuracy: 0.6124 - val_recall_7: 0.0000e+00 - val_precision_7: 0.0000e+00 - lr: 0.4467\n",
      "Epoch 55/100\n",
      "23/23 [==============================] - 0s 9ms/step - loss: 0.6746 - accuracy: 0.5851 - recall_7: 0.0738 - precision_7: 0.3125 - val_loss: 0.7119 - val_accuracy: 0.6124 - val_recall_7: 0.0000e+00 - val_precision_7: 0.0000e+00 - lr: 0.5012\n",
      "Epoch 56/100\n",
      "23/23 [==============================] - 0s 10ms/step - loss: 0.6754 - accuracy: 0.6188 - recall_7: 0.0000e+00 - precision_7: 0.0000e+00 - val_loss: 0.6693 - val_accuracy: 0.6124 - val_recall_7: 0.0000e+00 - val_precision_7: 0.0000e+00 - lr: 0.5623\n",
      "Epoch 57/100\n",
      "23/23 [==============================] - 0s 10ms/step - loss: 0.6692 - accuracy: 0.6188 - recall_7: 0.0000e+00 - precision_7: 0.0000e+00 - val_loss: 0.6798 - val_accuracy: 0.6124 - val_recall_7: 0.0000e+00 - val_precision_7: 0.0000e+00 - lr: 0.6310\n",
      "Epoch 58/100\n",
      "23/23 [==============================] - 0s 9ms/step - loss: 0.6736 - accuracy: 0.5935 - recall_7: 0.2030 - precision_7: 0.4297 - val_loss: 0.6682 - val_accuracy: 0.6124 - val_recall_7: 0.0000e+00 - val_precision_7: 0.0000e+00 - lr: 0.7079\n",
      "Epoch 59/100\n",
      "23/23 [==============================] - 0s 9ms/step - loss: 0.6705 - accuracy: 0.6188 - recall_7: 0.0000e+00 - precision_7: 0.0000e+00 - val_loss: 0.6746 - val_accuracy: 0.6124 - val_recall_7: 0.0000e+00 - val_precision_7: 0.0000e+00 - lr: 0.7943\n",
      "Epoch 60/100\n",
      "23/23 [==============================] - 0s 9ms/step - loss: 0.6764 - accuracy: 0.6034 - recall_7: 0.1107 - precision_7: 0.4225 - val_loss: 0.7434 - val_accuracy: 0.3876 - val_recall_7: 1.0000 - val_precision_7: 0.3876 - lr: 0.8913\n",
      "Epoch 61/100\n",
      "23/23 [==============================] - 0s 9ms/step - loss: 0.7143 - accuracy: 0.5401 - recall_7: 0.2509 - precision_7: 0.3542 - val_loss: 0.6770 - val_accuracy: 0.6124 - val_recall_7: 0.0000e+00 - val_precision_7: 0.0000e+00 - lr: 1.0000\n",
      "Epoch 62/100\n",
      "23/23 [==============================] - 0s 9ms/step - loss: 0.6722 - accuracy: 0.5992 - recall_7: 0.1513 - precision_7: 0.4271 - val_loss: 0.6766 - val_accuracy: 0.6124 - val_recall_7: 0.0000e+00 - val_precision_7: 0.0000e+00 - lr: 1.1220\n",
      "Epoch 63/100\n",
      "23/23 [==============================] - 0s 9ms/step - loss: 0.6772 - accuracy: 0.6048 - recall_7: 0.0406 - precision_7: 0.3438 - val_loss: 0.6856 - val_accuracy: 0.6124 - val_recall_7: 0.0000e+00 - val_precision_7: 0.0000e+00 - lr: 1.2589\n",
      "Epoch 64/100\n",
      "23/23 [==============================] - 0s 9ms/step - loss: 0.6729 - accuracy: 0.6188 - recall_7: 0.0000e+00 - precision_7: 0.0000e+00 - val_loss: 0.6678 - val_accuracy: 0.6124 - val_recall_7: 0.0000e+00 - val_precision_7: 0.0000e+00 - lr: 1.4125\n",
      "Epoch 65/100\n",
      "23/23 [==============================] - 0s 9ms/step - loss: 0.6912 - accuracy: 0.5612 - recall_7: 0.1734 - precision_7: 0.3481 - val_loss: 0.6710 - val_accuracy: 0.6124 - val_recall_7: 0.0000e+00 - val_precision_7: 0.0000e+00 - lr: 1.5849\n",
      "Epoch 66/100\n",
      "23/23 [==============================] - 0s 9ms/step - loss: 0.6951 - accuracy: 0.5879 - recall_7: 0.0775 - precision_7: 0.3281 - val_loss: 0.6820 - val_accuracy: 0.6124 - val_recall_7: 0.0000e+00 - val_precision_7: 0.0000e+00 - lr: 1.7783\n",
      "Epoch 67/100\n"
     ]
    },
    {
     "name": "stdout",
     "output_type": "stream",
     "text": [
      "23/23 [==============================] - 0s 9ms/step - loss: 0.6856 - accuracy: 0.5907 - recall_7: 0.0812 - precision_7: 0.3438 - val_loss: 0.6693 - val_accuracy: 0.6124 - val_recall_7: 0.0000e+00 - val_precision_7: 0.0000e+00 - lr: 1.9953\n",
      "Epoch 68/100\n",
      "23/23 [==============================] - 0s 9ms/step - loss: 0.6726 - accuracy: 0.6188 - recall_7: 0.0000e+00 - precision_7: 0.0000e+00 - val_loss: 0.6743 - val_accuracy: 0.6124 - val_recall_7: 0.0000e+00 - val_precision_7: 0.0000e+00 - lr: 2.2387\n",
      "Epoch 69/100\n",
      "23/23 [==============================] - 0s 9ms/step - loss: 0.7526 - accuracy: 0.5570 - recall_7: 0.3321 - precision_7: 0.4018 - val_loss: 0.8001 - val_accuracy: 0.3876 - val_recall_7: 1.0000 - val_precision_7: 0.3876 - lr: 2.5119\n",
      "Epoch 70/100\n",
      "23/23 [==============================] - 0s 9ms/step - loss: 0.8156 - accuracy: 0.5148 - recall_7: 0.4539 - precision_7: 0.3844 - val_loss: 0.6730 - val_accuracy: 0.6124 - val_recall_7: 0.0000e+00 - val_precision_7: 0.0000e+00 - lr: 2.8184\n",
      "Epoch 71/100\n",
      "23/23 [==============================] - 0s 9ms/step - loss: 0.7218 - accuracy: 0.5288 - recall_7: 0.2952 - precision_7: 0.3571 - val_loss: 0.8142 - val_accuracy: 0.6124 - val_recall_7: 0.0000e+00 - val_precision_7: 0.0000e+00 - lr: 3.1623\n",
      "Epoch 72/100\n",
      "23/23 [==============================] - 0s 9ms/step - loss: 0.7528 - accuracy: 0.5063 - recall_7: 0.3247 - precision_7: 0.3438 - val_loss: 0.9331 - val_accuracy: 0.6124 - val_recall_7: 0.0000e+00 - val_precision_7: 0.0000e+00 - lr: 3.5481\n",
      "Epoch 73/100\n",
      "23/23 [==============================] - 0s 9ms/step - loss: 0.8251 - accuracy: 0.5288 - recall_7: 0.4133 - precision_7: 0.3889 - val_loss: 1.4083 - val_accuracy: 0.6124 - val_recall_7: 0.0000e+00 - val_precision_7: 0.0000e+00 - lr: 3.9811\n",
      "Epoch 74/100\n",
      "23/23 [==============================] - 0s 9ms/step - loss: 0.9334 - accuracy: 0.5541 - recall_7: 0.3284 - precision_7: 0.3973 - val_loss: 0.8189 - val_accuracy: 0.3876 - val_recall_7: 1.0000 - val_precision_7: 0.3876 - lr: 4.4668\n",
      "Epoch 75/100\n",
      "23/23 [==============================] - 0s 8ms/step - loss: 0.8245 - accuracy: 0.5359 - recall_7: 0.3764 - precision_7: 0.3878 - val_loss: 0.7044 - val_accuracy: 0.6124 - val_recall_7: 0.0000e+00 - val_precision_7: 0.0000e+00 - lr: 5.0119\n",
      "Epoch 76/100\n",
      "23/23 [==============================] - 0s 9ms/step - loss: 0.7600 - accuracy: 0.5541 - recall_7: 0.3875 - precision_7: 0.4102 - val_loss: 1.0192 - val_accuracy: 0.6124 - val_recall_7: 0.0000e+00 - val_precision_7: 0.0000e+00 - lr: 5.6234\n",
      "Epoch 77/100\n",
      "23/23 [==============================] - 0s 9ms/step - loss: 0.7615 - accuracy: 0.5415 - recall_7: 0.2657 - precision_7: 0.3618 - val_loss: 0.6692 - val_accuracy: 0.6124 - val_recall_7: 0.0000e+00 - val_precision_7: 0.0000e+00 - lr: 6.3096\n",
      "Epoch 78/100\n",
      "23/23 [==============================] - 0s 9ms/step - loss: 0.6974 - accuracy: 0.5541 - recall_7: 0.2694 - precision_7: 0.3802 - val_loss: 0.7265 - val_accuracy: 0.6124 - val_recall_7: 0.0000e+00 - val_precision_7: 0.0000e+00 - lr: 7.0795\n",
      "Epoch 79/100\n",
      "23/23 [==============================] - 0s 9ms/step - loss: 0.7829 - accuracy: 0.5485 - recall_7: 0.3210 - precision_7: 0.3884 - val_loss: 0.6992 - val_accuracy: 0.3876 - val_recall_7: 1.0000 - val_precision_7: 0.3876 - lr: 7.9433\n",
      "Epoch 80/100\n",
      "23/23 [==============================] - 0s 9ms/step - loss: 0.7404 - accuracy: 0.5541 - recall_7: 0.2103 - precision_7: 0.3563 - val_loss: 0.8906 - val_accuracy: 0.3876 - val_recall_7: 1.0000 - val_precision_7: 0.3876 - lr: 8.9125\n",
      "Epoch 81/100\n",
      "23/23 [==============================] - 0s 9ms/step - loss: 0.8311 - accuracy: 0.5190 - recall_7: 0.3542 - precision_7: 0.3650 - val_loss: 0.6881 - val_accuracy: 0.6124 - val_recall_7: 0.0000e+00 - val_precision_7: 0.0000e+00 - lr: 10.0000\n",
      "Epoch 82/100\n",
      "23/23 [==============================] - 0s 9ms/step - loss: 0.8799 - accuracy: 0.5288 - recall_7: 0.2952 - precision_7: 0.3571 - val_loss: 1.8512 - val_accuracy: 0.3876 - val_recall_7: 1.0000 - val_precision_7: 0.3876 - lr: 11.2202\n",
      "Epoch 83/100\n",
      "23/23 [==============================] - 0s 9ms/step - loss: 1.3000 - accuracy: 0.5373 - recall_7: 0.4834 - precision_7: 0.4094 - val_loss: 0.8440 - val_accuracy: 0.6124 - val_recall_7: 0.0000e+00 - val_precision_7: 0.0000e+00 - lr: 12.5893\n",
      "Epoch 84/100\n",
      "23/23 [==============================] - 0s 9ms/step - loss: 0.8350 - accuracy: 0.5232 - recall_7: 0.3469 - precision_7: 0.3672 - val_loss: 1.4235 - val_accuracy: 0.6124 - val_recall_7: 0.0000e+00 - val_precision_7: 0.0000e+00 - lr: 14.1254\n",
      "Epoch 85/100\n",
      "23/23 [==============================] - 0s 9ms/step - loss: 1.0468 - accuracy: 0.5260 - recall_7: 0.3506 - precision_7: 0.3711 - val_loss: 0.9601 - val_accuracy: 0.3876 - val_recall_7: 1.0000 - val_precision_7: 0.3876 - lr: 15.8489\n",
      "Epoch 86/100\n",
      "23/23 [==============================] - 0s 9ms/step - loss: 1.4201 - accuracy: 0.5513 - recall_7: 0.3838 - precision_7: 0.4062 - val_loss: 4.1136 - val_accuracy: 0.3876 - val_recall_7: 1.0000 - val_precision_7: 0.3876 - lr: 17.7828\n",
      "Epoch 87/100\n",
      "23/23 [==============================] - 0s 9ms/step - loss: 2.9838 - accuracy: 0.5457 - recall_7: 0.3764 - precision_7: 0.3984 - val_loss: 2.7881 - val_accuracy: 0.3876 - val_recall_7: 1.0000 - val_precision_7: 0.3876 - lr: 19.9526\n",
      "Epoch 88/100\n",
      "23/23 [==============================] - 0s 9ms/step - loss: 1.9909 - accuracy: 0.4993 - recall_7: 0.3875 - precision_7: 0.3559 - val_loss: 0.8547 - val_accuracy: 0.6124 - val_recall_7: 0.0000e+00 - val_precision_7: 0.0000e+00 - lr: 22.3872\n",
      "Epoch 89/100\n",
      "23/23 [==============================] - 0s 9ms/step - loss: 1.6350 - accuracy: 0.4979 - recall_7: 0.3727 - precision_7: 0.3507 - val_loss: 1.0870 - val_accuracy: 0.6124 - val_recall_7: 0.0000e+00 - val_precision_7: 0.0000e+00 - lr: 25.1189\n",
      "Epoch 90/100\n",
      "23/23 [==============================] - 0s 9ms/step - loss: 0.9997 - accuracy: 0.5471 - recall_7: 0.2731 - precision_7: 0.3719 - val_loss: 1.6460 - val_accuracy: 0.3876 - val_recall_7: 1.0000 - val_precision_7: 0.3876 - lr: 28.1838\n",
      "Epoch 91/100\n",
      "23/23 [==============================] - 0s 9ms/step - loss: 1.2828 - accuracy: 0.4880 - recall_7: 0.4317 - precision_7: 0.3578 - val_loss: 0.6821 - val_accuracy: 0.6124 - val_recall_7: 0.0000e+00 - val_precision_7: 0.0000e+00 - lr: 31.6228\n",
      "Epoch 92/100\n",
      "23/23 [==============================] - 0s 9ms/step - loss: 3.1255 - accuracy: 0.5527 - recall_7: 0.3395 - precision_7: 0.3983 - val_loss: 4.1931 - val_accuracy: 0.3876 - val_recall_7: 1.0000 - val_precision_7: 0.3876 - lr: 35.4813\n",
      "Epoch 93/100\n",
      "23/23 [==============================] - 0s 9ms/step - loss: 2.8794 - accuracy: 0.5120 - recall_7: 0.4502 - precision_7: 0.3812 - val_loss: 4.2530 - val_accuracy: 0.6124 - val_recall_7: 0.0000e+00 - val_precision_7: 0.0000e+00 - lr: 39.8107\n",
      "Epoch 94/100\n",
      "23/23 [==============================] - 0s 9ms/step - loss: 2.0354 - accuracy: 0.5260 - recall_7: 0.4096 - precision_7: 0.3854 - val_loss: 0.8149 - val_accuracy: 0.6124 - val_recall_7: 0.0000e+00 - val_precision_7: 0.0000e+00 - lr: 44.6684\n",
      "Epoch 95/100\n",
      "23/23 [==============================] - 0s 9ms/step - loss: 1.6027 - accuracy: 0.5063 - recall_7: 0.3247 - precision_7: 0.3438 - val_loss: 7.5931 - val_accuracy: 0.3876 - val_recall_7: 1.0000 - val_precision_7: 0.3876 - lr: 50.1187\n",
      "Epoch 96/100\n",
      "23/23 [==============================] - 0s 9ms/step - loss: 2.9074 - accuracy: 0.5007 - recall_7: 0.4354 - precision_7: 0.3688 - val_loss: 1.4361 - val_accuracy: 0.3876 - val_recall_7: 1.0000 - val_precision_7: 0.3876 - lr: 56.2341\n",
      "Epoch 97/100\n",
      "23/23 [==============================] - 0s 9ms/step - loss: 4.0573 - accuracy: 0.5274 - recall_7: 0.4244 - precision_7: 0.3898 - val_loss: 1.3501 - val_accuracy: 0.6124 - val_recall_7: 0.0000e+00 - val_precision_7: 0.0000e+00 - lr: 63.0957\n",
      "Epoch 98/100\n",
      "23/23 [==============================] - 0s 9ms/step - loss: 6.6789 - accuracy: 0.5485 - recall_7: 0.3801 - precision_7: 0.4023 - val_loss: 6.3953 - val_accuracy: 0.6124 - val_recall_7: 0.0000e+00 - val_precision_7: 0.0000e+00 - lr: 70.7946\n",
      "Epoch 99/100\n",
      "23/23 [==============================] - 0s 8ms/step - loss: 5.1501 - accuracy: 0.5035 - recall_7: 0.3801 - precision_7: 0.3576 - val_loss: 5.0921 - val_accuracy: 0.6124 - val_recall_7: 0.0000e+00 - val_precision_7: 0.0000e+00 - lr: 79.4328\n"
     ]
    },
    {
     "name": "stdout",
     "output_type": "stream",
     "text": [
      "Epoch 100/100\n",
      "23/23 [==============================] - 0s 9ms/step - loss: 7.8597 - accuracy: 0.5218 - recall_7: 0.3579 - precision_7: 0.3688 - val_loss: 3.5659 - val_accuracy: 0.3876 - val_recall_7: 1.0000 - val_precision_7: 0.3876 - lr: 89.1251\n"
     ]
    }
   ],
   "source": [
    "# Set random seed\n",
    "tf.random.set_seed(42)\n",
    "\n",
    "# Create a model\n",
    "model3 = Sequential([\n",
    "    Dense(100, activation=\"relu\"),\n",
    "    Dense(10, activation=\"relu\"),\n",
    "    Dense(1, activation=\"sigmoid\")\n",
    "])\n",
    "\n",
    "# Compiling the model\n",
    "model3.compile(\n",
    "    loss = \"binary_crossentropy\",\n",
    "    optimizer = tf.keras.optimizers.Adam(),\n",
    "    metrics = [\"accuracy\", tf.keras.metrics.Recall(), tf.keras.metrics.Precision()]\n",
    ")\n",
    "\n",
    "lr_scheduler = tf.keras.callbacks.LearningRateScheduler(lambda epoch: 1e-3 * 10**(epoch/20))\n",
    "# Fit the model\n",
    "hist3 = model3.fit(\n",
    "    X_train, \n",
    "    y_train,\n",
    "    validation_data = (X_val, y_val),\n",
    "    epochs = 100,\n",
    "    callbacks=[lr_scheduler]\n",
    ")"
   ]
  },
  {
   "cell_type": "code",
   "execution_count": 94,
   "metadata": {},
   "outputs": [
    {
     "data": {
      "image/png": "[encoded data removed]",
      "text/plain": [
       "<Figure size 720x504 with 1 Axes>"
      ]
     },
     "metadata": {
      "needs_background": "light"
     },
     "output_type": "display_data"
    }
   ],
   "source": [
    "# Looking at the best learning rate in a graph\n",
    "lrs = 1e-3 * 10 ** (tf.range(100)/20)\n",
    "hist3_df = pd.DataFrame(hist3.history)\n",
    "plt.figure(figsize=(10,7))\n",
    "plt.semilogx(lrs, hist3_df[\"loss\"]);"
   ]
  },
  {
   "cell_type": "markdown",
   "metadata": {},
   "source": [
    "#### If looking at the numbers, the best learning rate seems to be 0.0398, let's try to make a model with this lr"
   ]
  },
  {
   "cell_type": "code",
   "execution_count": 117,
   "metadata": {},
   "outputs": [
    {
     "name": "stdout",
     "output_type": "stream",
     "text": [
      "Epoch 1/50\n",
      " 1/23 [>.............................] - ETA: 20s - loss: 0.6994 - accuracy: 0.4062 - recall_22: 0.9091 - precision_22: 0.3571"
     ]
    },
    {
     "name": "stderr",
     "output_type": "stream",
     "text": [
      "2022-06-06 19:03:28.483049: I tensorflow/core/grappler/optimizers/custom_graph_optimizer_registry.cc:113] Plugin optimizer for device_type GPU is enabled.\n"
     ]
    },
    {
     "name": "stdout",
     "output_type": "stream",
     "text": [
      "23/23 [==============================] - 1s 24ms/step - loss: 0.6639 - accuracy: 0.5921 - recall_22: 0.2731 - precision_22: 0.4431 - val_loss: 0.6275 - val_accuracy: 0.6629 - val_recall_22: 0.2899 - val_precision_22: 0.6452\n",
      "Epoch 2/50\n",
      " 1/23 [>.............................] - ETA: 0s - loss: 0.6948 - accuracy: 0.5938 - recall_22: 0.0833 - precision_22: 0.3333"
     ]
    },
    {
     "name": "stderr",
     "output_type": "stream",
     "text": [
      "2022-06-06 19:03:29.068197: I tensorflow/core/grappler/optimizers/custom_graph_optimizer_registry.cc:113] Plugin optimizer for device_type GPU is enabled.\n"
     ]
    },
    {
     "name": "stdout",
     "output_type": "stream",
     "text": [
      "23/23 [==============================] - 0s 11ms/step - loss: 0.6454 - accuracy: 0.6484 - recall_22: 0.1661 - precision_22: 0.6522 - val_loss: 0.6445 - val_accuracy: 0.7022 - val_recall_22: 0.4783 - val_precision_22: 0.6600\n",
      "Epoch 3/50\n",
      "23/23 [==============================] - 0s 10ms/step - loss: 0.6407 - accuracy: 0.6681 - recall_22: 0.2694 - precision_22: 0.6577 - val_loss: 0.6167 - val_accuracy: 0.6742 - val_recall_22: 0.3333 - val_precision_22: 0.6571\n",
      "Epoch 4/50\n",
      "23/23 [==============================] - 0s 11ms/step - loss: 0.6338 - accuracy: 0.6864 - recall_22: 0.3727 - precision_22: 0.6558 - val_loss: 0.6087 - val_accuracy: 0.6742 - val_recall_22: 0.3043 - val_precision_22: 0.6774\n",
      "Epoch 5/50\n",
      "23/23 [==============================] - 0s 10ms/step - loss: 0.6388 - accuracy: 0.6695 - recall_22: 0.2177 - precision_22: 0.7195 - val_loss: 0.6191 - val_accuracy: 0.6629 - val_recall_22: 0.2609 - val_precision_22: 0.6667\n",
      "Epoch 6/50\n",
      "23/23 [==============================] - 0s 11ms/step - loss: 0.6216 - accuracy: 0.6807 - recall_22: 0.2804 - precision_22: 0.7037 - val_loss: 0.6109 - val_accuracy: 0.6742 - val_recall_22: 0.3188 - val_precision_22: 0.6667\n",
      "Epoch 7/50\n",
      "23/23 [==============================] - 0s 11ms/step - loss: 0.6402 - accuracy: 0.6414 - recall_22: 0.2140 - precision_22: 0.5800 - val_loss: 0.6103 - val_accuracy: 0.6685 - val_recall_22: 0.3043 - val_precision_22: 0.6562\n",
      "Epoch 8/50\n",
      "23/23 [==============================] - 0s 10ms/step - loss: 0.6351 - accuracy: 0.6681 - recall_22: 0.2731 - precision_22: 0.6549 - val_loss: 0.6130 - val_accuracy: 0.6742 - val_recall_22: 0.3188 - val_precision_22: 0.6667\n",
      "Epoch 9/50\n",
      "23/23 [==============================] - 0s 10ms/step - loss: 0.6496 - accuracy: 0.6596 - recall_22: 0.2399 - precision_22: 0.6436 - val_loss: 0.6431 - val_accuracy: 0.6573 - val_recall_22: 0.1449 - val_precision_22: 0.8333\n",
      "Epoch 10/50\n",
      "23/23 [==============================] - 0s 10ms/step - loss: 0.6209 - accuracy: 0.6765 - recall_22: 0.2362 - precision_22: 0.7356 - val_loss: 0.5962 - val_accuracy: 0.7135 - val_recall_22: 0.4348 - val_precision_22: 0.7143\n",
      "Epoch 11/50\n",
      "23/23 [==============================] - 0s 10ms/step - loss: 0.6306 - accuracy: 0.6681 - recall_22: 0.3173 - precision_22: 0.6277 - val_loss: 0.6118 - val_accuracy: 0.7079 - val_recall_22: 0.4058 - val_precision_22: 0.7179\n",
      "Epoch 12/50\n",
      "23/23 [==============================] - 0s 10ms/step - loss: 0.6345 - accuracy: 0.6667 - recall_22: 0.2841 - precision_22: 0.6417 - val_loss: 0.6254 - val_accuracy: 0.6685 - val_recall_22: 0.2174 - val_precision_22: 0.7500\n",
      "Epoch 13/50\n",
      "23/23 [==============================] - 0s 10ms/step - loss: 0.6445 - accuracy: 0.6695 - recall_22: 0.1956 - precision_22: 0.7571 - val_loss: 0.6178 - val_accuracy: 0.6742 - val_recall_22: 0.3333 - val_precision_22: 0.6571\n",
      "Epoch 14/50\n",
      "23/23 [==============================] - 0s 10ms/step - loss: 0.6211 - accuracy: 0.6850 - recall_22: 0.3026 - precision_22: 0.7009 - val_loss: 0.6078 - val_accuracy: 0.7135 - val_recall_22: 0.4348 - val_precision_22: 0.7143\n",
      "Epoch 15/50\n",
      "23/23 [==============================] - 0s 10ms/step - loss: 0.6323 - accuracy: 0.6793 - recall_22: 0.3137 - precision_22: 0.6693 - val_loss: 0.6046 - val_accuracy: 0.6854 - val_recall_22: 0.2899 - val_precision_22: 0.7407\n",
      "Epoch 16/50\n",
      "23/23 [==============================] - 0s 10ms/step - loss: 0.6148 - accuracy: 0.6962 - recall_22: 0.3358 - precision_22: 0.7165 - val_loss: 0.6236 - val_accuracy: 0.6685 - val_recall_22: 0.2174 - val_precision_22: 0.7500\n",
      "Epoch 17/50\n",
      "23/23 [==============================] - 0s 10ms/step - loss: 0.6348 - accuracy: 0.6807 - recall_22: 0.2177 - precision_22: 0.7973 - val_loss: 0.6182 - val_accuracy: 0.7135 - val_recall_22: 0.4203 - val_precision_22: 0.7250\n",
      "Epoch 18/50\n",
      "23/23 [==============================] - 0s 11ms/step - loss: 0.6027 - accuracy: 0.6850 - recall_22: 0.3727 - precision_22: 0.6516 - val_loss: 0.6168 - val_accuracy: 0.7135 - val_recall_22: 0.6377 - val_precision_22: 0.6286\n",
      "Epoch 19/50\n",
      "23/23 [==============================] - 0s 10ms/step - loss: 0.6124 - accuracy: 0.6878 - recall_22: 0.3247 - precision_22: 0.6929 - val_loss: 0.6075 - val_accuracy: 0.7079 - val_recall_22: 0.4493 - val_precision_22: 0.6889\n",
      "Epoch 20/50\n",
      "23/23 [==============================] - 0s 10ms/step - loss: 0.5972 - accuracy: 0.6892 - recall_22: 0.4096 - precision_22: 0.6453 - val_loss: 0.5825 - val_accuracy: 0.7247 - val_recall_22: 0.4638 - val_precision_22: 0.7273\n",
      "Epoch 21/50\n",
      "23/23 [==============================] - 0s 10ms/step - loss: 0.5990 - accuracy: 0.6878 - recall_22: 0.3985 - precision_22: 0.6467 - val_loss: 0.5867 - val_accuracy: 0.7247 - val_recall_22: 0.5072 - val_precision_22: 0.7000\n",
      "Epoch 22/50\n",
      "23/23 [==============================] - 0s 10ms/step - loss: 0.6163 - accuracy: 0.6821 - recall_22: 0.3653 - precision_22: 0.6471 - val_loss: 0.5835 - val_accuracy: 0.6742 - val_recall_22: 0.3188 - val_precision_22: 0.6667\n",
      "Epoch 23/50\n",
      "23/23 [==============================] - 0s 10ms/step - loss: 0.6094 - accuracy: 0.6835 - recall_22: 0.3210 - precision_22: 0.6797 - val_loss: 0.5864 - val_accuracy: 0.7191 - val_recall_22: 0.4783 - val_precision_22: 0.7021\n",
      "Epoch 24/50\n",
      "23/23 [==============================] - 0s 11ms/step - loss: 0.6239 - accuracy: 0.6723 - recall_22: 0.3210 - precision_22: 0.6397 - val_loss: 0.6108 - val_accuracy: 0.6742 - val_recall_22: 0.2899 - val_precision_22: 0.6897\n",
      "Epoch 25/50\n",
      "23/23 [==============================] - 0s 10ms/step - loss: 0.6042 - accuracy: 0.6850 - recall_22: 0.2915 - precision_22: 0.7117 - val_loss: 0.5951 - val_accuracy: 0.7191 - val_recall_22: 0.4638 - val_precision_22: 0.7111\n",
      "Epoch 26/50\n",
      "23/23 [==============================] - 0s 10ms/step - loss: 0.6069 - accuracy: 0.6807 - recall_22: 0.3247 - precision_22: 0.6667 - val_loss: 0.6005 - val_accuracy: 0.7247 - val_recall_22: 0.5362 - val_precision_22: 0.6852\n",
      "Epoch 27/50\n",
      "23/23 [==============================] - 0s 11ms/step - loss: 0.6055 - accuracy: 0.6695 - recall_22: 0.3653 - precision_22: 0.6111 - val_loss: 0.5943 - val_accuracy: 0.7191 - val_recall_22: 0.4783 - val_precision_22: 0.7021\n",
      "Epoch 28/50\n",
      "23/23 [==============================] - 0s 10ms/step - loss: 0.6172 - accuracy: 0.6850 - recall_22: 0.3506 - precision_22: 0.6643 - val_loss: 0.5990 - val_accuracy: 0.7135 - val_recall_22: 0.4203 - val_precision_22: 0.7250\n",
      "Epoch 29/50\n",
      "23/23 [==============================] - 0s 10ms/step - loss: 0.6131 - accuracy: 0.6934 - recall_22: 0.3911 - precision_22: 0.6667 - val_loss: 0.6009 - val_accuracy: 0.6742 - val_recall_22: 0.3043 - val_precision_22: 0.6774\n",
      "Epoch 30/50\n",
      "23/23 [==============================] - 0s 10ms/step - loss: 0.6120 - accuracy: 0.6920 - recall_22: 0.3284 - precision_22: 0.7063 - val_loss: 0.5821 - val_accuracy: 0.7247 - val_recall_22: 0.5072 - val_precision_22: 0.7000\n",
      "Epoch 31/50\n",
      "23/23 [==============================] - 0s 10ms/step - loss: 0.6070 - accuracy: 0.6990 - recall_22: 0.3875 - precision_22: 0.6863 - val_loss: 0.5804 - val_accuracy: 0.7135 - val_recall_22: 0.4638 - val_precision_22: 0.6957\n",
      "Epoch 32/50\n",
      "23/23 [==============================] - 0s 10ms/step - loss: 0.6064 - accuracy: 0.6948 - recall_22: 0.3911 - precision_22: 0.6709 - val_loss: 0.5898 - val_accuracy: 0.7079 - val_recall_22: 0.4348 - val_precision_22: 0.6977\n",
      "Epoch 33/50\n",
      "23/23 [==============================] - 0s 11ms/step - loss: 0.6061 - accuracy: 0.6906 - recall_22: 0.3173 - precision_22: 0.7107 - val_loss: 0.5928 - val_accuracy: 0.6798 - val_recall_22: 0.3188 - val_precision_22: 0.6875\n",
      "Epoch 34/50\n",
      "23/23 [==============================] - 0s 10ms/step - loss: 0.6023 - accuracy: 0.6821 - recall_22: 0.3137 - precision_22: 0.6800 - val_loss: 0.5796 - val_accuracy: 0.7360 - val_recall_22: 0.5797 - val_precision_22: 0.6897\n",
      "Epoch 35/50\n",
      "23/23 [==============================] - 0s 10ms/step - loss: 0.5847 - accuracy: 0.7032 - recall_22: 0.4244 - precision_22: 0.6765 - val_loss: 0.5903 - val_accuracy: 0.7191 - val_recall_22: 0.4783 - val_precision_22: 0.7021\n",
      "Epoch 36/50\n",
      "23/23 [==============================] - 0s 10ms/step - loss: 0.6226 - accuracy: 0.6864 - recall_22: 0.3358 - precision_22: 0.6791 - val_loss: 0.5863 - val_accuracy: 0.7135 - val_recall_22: 0.4203 - val_precision_22: 0.7250\n"
     ]
    },
    {
     "name": "stdout",
     "output_type": "stream",
     "text": [
      "Epoch 37/50\n",
      "23/23 [==============================] - 0s 10ms/step - loss: 0.5823 - accuracy: 0.7004 - recall_22: 0.3838 - precision_22: 0.6933 - val_loss: 0.5687 - val_accuracy: 0.7247 - val_recall_22: 0.4928 - val_precision_22: 0.7083\n",
      "Epoch 38/50\n",
      "23/23 [==============================] - 0s 10ms/step - loss: 0.6097 - accuracy: 0.6948 - recall_22: 0.4207 - precision_22: 0.6552 - val_loss: 0.5922 - val_accuracy: 0.7303 - val_recall_22: 0.5797 - val_precision_22: 0.6780\n",
      "Epoch 39/50\n",
      "23/23 [==============================] - 0s 10ms/step - loss: 0.5970 - accuracy: 0.7103 - recall_22: 0.3616 - precision_22: 0.7481 - val_loss: 0.5833 - val_accuracy: 0.7191 - val_recall_22: 0.4493 - val_precision_22: 0.7209\n",
      "Epoch 40/50\n",
      "23/23 [==============================] - 0s 10ms/step - loss: 0.6027 - accuracy: 0.6934 - recall_22: 0.3284 - precision_22: 0.7120 - val_loss: 0.5895 - val_accuracy: 0.7191 - val_recall_22: 0.3333 - val_precision_22: 0.8519\n",
      "Epoch 41/50\n",
      "23/23 [==============================] - 0s 10ms/step - loss: 0.6118 - accuracy: 0.7004 - recall_22: 0.3653 - precision_22: 0.7071 - val_loss: 0.5932 - val_accuracy: 0.7079 - val_recall_22: 0.3478 - val_precision_22: 0.7742\n",
      "Epoch 42/50\n",
      "23/23 [==============================] - 0s 10ms/step - loss: 0.5969 - accuracy: 0.7018 - recall_22: 0.4022 - precision_22: 0.6855 - val_loss: 0.6082 - val_accuracy: 0.6854 - val_recall_22: 0.3188 - val_precision_22: 0.7097\n",
      "Epoch 43/50\n",
      "23/23 [==============================] - 0s 10ms/step - loss: 0.6093 - accuracy: 0.7018 - recall_22: 0.3506 - precision_22: 0.7252 - val_loss: 0.5822 - val_accuracy: 0.7135 - val_recall_22: 0.4348 - val_precision_22: 0.7143\n",
      "Epoch 44/50\n",
      "23/23 [==============================] - 0s 10ms/step - loss: 0.5990 - accuracy: 0.6920 - recall_22: 0.2989 - precision_22: 0.7364 - val_loss: 0.6167 - val_accuracy: 0.7191 - val_recall_22: 0.6957 - val_precision_22: 0.6234\n",
      "Epoch 45/50\n",
      "23/23 [==============================] - 0s 10ms/step - loss: 0.6239 - accuracy: 0.6610 - recall_22: 0.2841 - precision_22: 0.6210 - val_loss: 0.6036 - val_accuracy: 0.6910 - val_recall_22: 0.3188 - val_precision_22: 0.7333\n",
      "Epoch 46/50\n",
      "23/23 [==============================] - 0s 10ms/step - loss: 0.5880 - accuracy: 0.7060 - recall_22: 0.3653 - precision_22: 0.7279 - val_loss: 0.5798 - val_accuracy: 0.7191 - val_recall_22: 0.4638 - val_precision_22: 0.7111\n",
      "Epoch 47/50\n",
      "23/23 [==============================] - 0s 10ms/step - loss: 0.5980 - accuracy: 0.7032 - recall_22: 0.3653 - precision_22: 0.7174 - val_loss: 0.5629 - val_accuracy: 0.7472 - val_recall_22: 0.5217 - val_precision_22: 0.7500\n",
      "Epoch 48/50\n",
      "23/23 [==============================] - 0s 10ms/step - loss: 0.6109 - accuracy: 0.6948 - recall_22: 0.3875 - precision_22: 0.6731 - val_loss: 0.5812 - val_accuracy: 0.7247 - val_recall_22: 0.4348 - val_precision_22: 0.7500\n",
      "Epoch 49/50\n",
      "23/23 [==============================] - 0s 10ms/step - loss: 0.5888 - accuracy: 0.7145 - recall_22: 0.4059 - precision_22: 0.7237 - val_loss: 0.5517 - val_accuracy: 0.7472 - val_recall_22: 0.5217 - val_precision_22: 0.7500\n",
      "Epoch 50/50\n",
      "23/23 [==============================] - 0s 10ms/step - loss: 0.5807 - accuracy: 0.7159 - recall_22: 0.4354 - precision_22: 0.7066 - val_loss: 0.5498 - val_accuracy: 0.7528 - val_recall_22: 0.5217 - val_precision_22: 0.7660\n"
     ]
    }
   ],
   "source": [
    "# Set random seed\n",
    "tf.random.set_seed(42)\n",
    "\n",
    "# Create a model\n",
    "model4 = Sequential([\n",
    "    Dense(100, activation=\"relu\"),\n",
    "    Dropout(0.3),\n",
    "    Dense(100, activation=\"relu\"),\n",
    "    Dropout(0.3),\n",
    "    Dense(100, activation=\"relu\"),\n",
    "    Dropout(0.3),\n",
    "    Dense(1, activation=\"sigmoid\")\n",
    "])\n",
    "\n",
    "# Compiling the model\n",
    "model4.compile(\n",
    "    loss = \"binary_crossentropy\",\n",
    "    optimizer = tf.keras.optimizers.Adam(lr=0.03),\n",
    "    metrics = [\"accuracy\", tf.keras.metrics.Recall(), tf.keras.metrics.Precision()]\n",
    ")\n",
    "\n",
    "# Fit the model\n",
    "hist4 = model4.fit(\n",
    "    X_train, \n",
    "    y_train,\n",
    "    validation_data = (X_val, y_val),\n",
    "    epochs = 50\n",
    ")"
   ]
  },
  {
   "cell_type": "code",
   "execution_count": 118,
   "metadata": {},
   "outputs": [
    {
     "name": "stdout",
     "output_type": "stream",
     "text": [
      "6/6 [==============================] - 0s 7ms/step - loss: 0.5498 - accuracy: 0.7528 - recall_22: 0.5217 - precision_22: 0.7660\n"
     ]
    },
    {
     "data": {
      "text/plain": [
       "[0.549782395362854, 0.7528089880943298, 0.52173912525177, 0.7659574747085571]"
      ]
     },
     "execution_count": 118,
     "metadata": {},
     "output_type": "execute_result"
    }
   ],
   "source": [
    "model4.evaluate(X_val, y_val)"
   ]
  },
  {
   "cell_type": "code",
   "execution_count": null,
   "metadata": {},
   "outputs": [],
   "source": []
  }
 ],
 "metadata": {
  "kernelspec": {
   "display_name": "tensorflow-env",
   "language": "python",
   "name": "tensorflow-env"
  },
  "language_info": {
   "codemirror_mode": {
    "name": "ipython",
    "version": 3
   },
   "file_extension": ".py",
   "mimetype": "text/x-python",
   "name": "python",
   "nbconvert_exporter": "python",
   "pygments_lexer": "ipython3",
   "version": "3.8.13"
  }
 },
 "nbformat": 4,
 "nbformat_minor": 2
}
